{
 "cells": [
  {
   "cell_type": "code",
   "execution_count": 1,
   "id": "28740129",
   "metadata": {},
   "outputs": [],
   "source": [
    "import sys\n",
    "import os\n",
    "import warnings\n",
    "warnings.filterwarnings('ignore')"
   ]
  },
  {
   "cell_type": "code",
   "execution_count": 2,
   "id": "b907cd02",
   "metadata": {
    "pycharm": {
     "is_executing": true
    }
   },
   "outputs": [],
   "source": [
    "import pandas as pd\n",
    "import numpy as np\n",
    "import time\n",
    "import pyarrow.parquet as pq\n",
    "import scipy\n",
    "import bisect\n",
    "import sklearn.metrics as m\n",
    "from catboost import CatBoostClassifier, CatBoostRegressor, Pool\n",
    "from sklearn.model_selection import train_test_split\n",
    "from sklearn.calibration import calibration_curve, CalibratedClassifierCV\n",
    "from sklearn.ensemble import RandomForestClassifier"
   ]
  },
  {
   "cell_type": "code",
   "execution_count": 83,
   "id": "e762eacd",
   "metadata": {
    "pycharm": {
     "is_executing": true
    }
   },
   "outputs": [],
   "source": [
    "SPLIT_SEED = 42\n",
    "DATA_FILE = 'data_out/data_for_learn_parquet_last_2'\n",
    "TARGET_FILE = 'data_in/public_train.pqt'\n",
    "SUBMISSION_FILE = 'data_in/submit_2.pqt'"
   ]
  },
  {
   "cell_type": "code",
   "execution_count": 84,
   "id": "a2f314a1",
   "metadata": {
    "pycharm": {
     "is_executing": true
    }
   },
   "outputs": [],
   "source": [
    "data = pq.read_table(f\"{DATA_FILE}\").to_pandas()"
   ]
  },
  {
   "cell_type": "code",
   "execution_count": 85,
   "id": "6ae215ca",
   "metadata": {},
   "outputs": [],
   "source": [
    "data = data.fillna(0)"
   ]
  },
  {
   "cell_type": "code",
   "execution_count": 68,
   "id": "86590da6",
   "metadata": {},
   "outputs": [
    {
     "name": "stdout",
     "output_type": "stream",
     "text": [
      "<class 'pandas.core.frame.DataFrame'>\n",
      "RangeIndex: 415317 entries, 0 to 415316\n",
      "Data columns (total 55 columns):\n",
      " #   Column                            Non-Null Count   Dtype  \n",
      "---  ------                            --------------   -----  \n",
      " 0   user_id                           415317 non-null  int64  \n",
      " 1   price                             415317 non-null  float64\n",
      " 2   max_request_cnt                   415317 non-null  int64  \n",
      " 3   avg_request_cnt                   415317 non-null  float64\n",
      " 4   count_request_cnt                 415317 non-null  int64  \n",
      " 5   max_night_request_cnt             415317 non-null  float64\n",
      " 6   avg_night_request_cnt             415317 non-null  float64\n",
      " 7   count_night_request_cnt           415317 non-null  float64\n",
      " 8   max_day_request_cnt               415317 non-null  float64\n",
      " 9   avg_day_request_cnt               415317 non-null  float64\n",
      " 10  count_day_request_cnt             415317 non-null  float64\n",
      " 11  max_morning_request_cnt           415317 non-null  float64\n",
      " 12  avg_morning_request_cnt           415317 non-null  float64\n",
      " 13  count_morning_request_cnt         415317 non-null  float64\n",
      " 14  max_evening_request_cnt           415317 non-null  float64\n",
      " 15  avg_evening_request_cnt           415317 non-null  float64\n",
      " 16  count_evening_request_cnt         415317 non-null  float64\n",
      " 17  max_sum_date_request_cnt          415317 non-null  int64  \n",
      " 18  min_sum_date_request_cnt          415317 non-null  int64  \n",
      " 19  avg_sum_date_request_cnt          415317 non-null  float64\n",
      " 20  max_sum_date_day_request_cnt      415317 non-null  float64\n",
      " 21  min_sum_date_day_request_cnt      415317 non-null  float64\n",
      " 22  avg_sum_date_day_request_cnt      415317 non-null  float64\n",
      " 23  max_sum_date_night_request_cnt    415317 non-null  float64\n",
      " 24  min_sum_date_night_request_cnt    415317 non-null  float64\n",
      " 25  avg_sum_date_night_request_cnt    415317 non-null  float64\n",
      " 26  max_sum_date_morning_request_cnt  415317 non-null  float64\n",
      " 27  min_sum_date_morning_request_cnt  415317 non-null  float64\n",
      " 28  avg_sum_date_morning_request_cnt  415317 non-null  float64\n",
      " 29  max_sum_date_evening_request_cnt  415317 non-null  float64\n",
      " 30  min_sum_date_evening_request_cnt  415317 non-null  float64\n",
      " 31  avg_sum_date_evening_request_cnt  415317 non-null  float64\n",
      " 32  count_date                        415317 non-null  int64  \n",
      " 33  count_day_date                    415317 non-null  float64\n",
      " 34  count_night_date                  415317 non-null  float64\n",
      " 35  count_morning_date                415317 non-null  float64\n",
      " 36  count_evening_date                415317 non-null  float64\n",
      " 37  avg_count_part_of_day_date        415317 non-null  float64\n",
      " 38  max_count_part_of_day_date        415317 non-null  int64  \n",
      " 39  min_count_part_of_day_date        415317 non-null  int64  \n",
      " 40  avg_lag_date                      415317 non-null  float64\n",
      " 41  max_lag_date                      415317 non-null  float64\n",
      " 42  min_lag_date                      415317 non-null  float64\n",
      " 43  count_region_name                 415317 non-null  int64  \n",
      " 44  count_city_name                   415317 non-null  int64  \n",
      " 45  top_1_url_sum_request_cnt         415317 non-null  object \n",
      " 46  top_2_url_sum_request_cnt         415317 non-null  object \n",
      " 47  top_3_url_sum_request_cnt         415317 non-null  object \n",
      " 48  top_4_url_sum_request_cnt         415317 non-null  object \n",
      " 49  top_5_url_sum_request_cnt         415317 non-null  object \n",
      " 50  top_1_url_count_request_cnt       415317 non-null  object \n",
      " 51  top_2_url_count_request_cnt       415317 non-null  object \n",
      " 52  top_3_url_count_request_cnt       415317 non-null  object \n",
      " 53  region_name                       415317 non-null  object \n",
      " 54  cpe_model_name                    415317 non-null  object \n",
      "dtypes: float64(35), int64(10), object(10)\n",
      "memory usage: 174.3+ MB\n"
     ]
    }
   ],
   "source": [
    "data.info()"
   ]
  },
  {
   "cell_type": "code",
   "execution_count": 88,
   "id": "6c5a6331",
   "metadata": {},
   "outputs": [
    {
     "name": "stdout",
     "output_type": "stream",
     "text": [
      "<class 'pandas.core.frame.DataFrame'>\n",
      "Int64Index: 415317 entries, 0 to 415316\n",
      "Columns: 215 entries, user_id to 79_y\n",
      "dtypes: float32(160), float64(35), int64(10), object(10)\n",
      "memory usage: 430.9+ MB\n"
     ]
    }
   ],
   "source": [
    "all_usr_emb = pq.read_table(f\"data_in/all_usr_emb_f80_i40.parquet\").to_pandas()\n",
    "data = data.merge(all_usr_emb, how = 'left', on = ['user_id'])\n",
    "data.info()"
   ]
  },
  {
   "cell_type": "code",
   "execution_count": 89,
   "id": "40e88a09",
   "metadata": {},
   "outputs": [
    {
     "name": "stdout",
     "output_type": "stream",
     "text": [
      "<class 'pandas.core.frame.DataFrame'>\n",
      "Int64Index: 415317 entries, 0 to 415316\n",
      "Columns: 265 entries, user_id to 49\n",
      "dtypes: float32(210), float64(35), int64(10), object(10)\n",
      "memory usage: 510.1+ MB\n"
     ]
    }
   ],
   "source": [
    "count_all_usr_emb = pq.read_table(f\"data_in/count_usr_emb_f50_i30.parquet\").to_pandas()\n",
    "data = data.merge(count_all_usr_emb, how = 'left', on = ['user_id'])\n",
    "data.info()"
   ]
  },
  {
   "cell_type": "code",
   "execution_count": 90,
   "id": "9deaca35",
   "metadata": {},
   "outputs": [],
   "source": [
    "target = pq.read_table(f\"{TARGET_FILE}\").to_pandas()"
   ]
  },
  {
   "cell_type": "code",
   "execution_count": 91,
   "id": "6ae3b874",
   "metadata": {},
   "outputs": [],
   "source": [
    "data_t_is_male = target.merge(data, how = 'left', on = ['user_id'])"
   ]
  },
  {
   "cell_type": "code",
   "execution_count": 92,
   "id": "e9dd6dd4",
   "metadata": {},
   "outputs": [
    {
     "data": {
      "text/plain": [
       "1    135332\n",
       "0    128994\n",
       "Name: is_male, dtype: int64"
      ]
     },
     "execution_count": 92,
     "metadata": {},
     "output_type": "execute_result"
    }
   ],
   "source": [
    "data_t_is_male['is_male'] = data_t_is_male['is_male'].map(str)\n",
    "data_t_is_male = data_t_is_male[data_t_is_male['is_male'] != 'None']\n",
    "data_t_is_male = data_t_is_male[data_t_is_male['is_male'] != 'NA']\n",
    "data_t_is_male['is_male'] = data_t_is_male['is_male'].map(int)\n",
    "data_t_is_male['is_male'].value_counts()"
   ]
  },
  {
   "cell_type": "code",
   "execution_count": 93,
   "id": "5be6e655",
   "metadata": {},
   "outputs": [],
   "source": [
    "no_importance = ['count_region_name', 'top_3_url_count_request_cnt', 'count_day_date', 'count_morning_date', 'count_date', 'count_night_date', 'count_evening_date', 'min_sum_date_request_cnt', 'min_sum_date_evening_request_cnt', 'min_sum_date_day_request_cnt', 'min_sum_date_morning_request_cnt', 'min_sum_date_night_request_cnt', 'max_day_request_cnt', 'min_lag_date', 'max_morning_request_cnt', 'max_evening_request_cnt', 'max_request_cnt', 'max_night_request_cnt', 'min_count_part_of_day_date', 'max_count_part_of_day_date']"
   ]
  },
  {
   "cell_type": "code",
   "execution_count": 94,
   "id": "f8b77f89",
   "metadata": {},
   "outputs": [],
   "source": [
    "data_t_is_male = data_t_is_male.drop(no_importance, axis = 1)"
   ]
  },
  {
   "cell_type": "code",
   "execution_count": 95,
   "id": "1c4ad2ce",
   "metadata": {},
   "outputs": [],
   "source": [
    "cat_features = list(data_t_is_male.select_dtypes(['object']).columns)"
   ]
  },
  {
   "cell_type": "code",
   "execution_count": 96,
   "id": "f648904f",
   "metadata": {},
   "outputs": [
    {
     "name": "stdout",
     "output_type": "stream",
     "text": [
      "['top_1_url_sum_request_cnt', 'top_2_url_sum_request_cnt', 'top_3_url_sum_request_cnt', 'top_4_url_sum_request_cnt', 'top_5_url_sum_request_cnt', 'top_1_url_count_request_cnt', 'top_2_url_count_request_cnt', 'region_name', 'cpe_model_name']\n"
     ]
    }
   ],
   "source": [
    "print(cat_features)"
   ]
  },
  {
   "cell_type": "code",
   "execution_count": 97,
   "id": "1562169e",
   "metadata": {},
   "outputs": [
    {
     "name": "stdout",
     "output_type": "stream",
     "text": [
      "<class 'pandas.core.frame.DataFrame'>\n",
      "Int64Index: 264326 entries, 0 to 269999\n",
      "Columns: 247 entries, age to 49\n",
      "dtypes: float32(210), float64(23), int64(5), object(9)\n",
      "memory usage: 288.4+ MB\n"
     ]
    }
   ],
   "source": [
    "data_t_is_male.info()"
   ]
  },
  {
   "cell_type": "markdown",
   "id": "ed2944b0",
   "metadata": {},
   "source": [
    "## Получим оценку по полу"
   ]
  },
  {
   "cell_type": "code",
   "execution_count": 98,
   "id": "1419fb8a",
   "metadata": {},
   "outputs": [
    {
     "name": "stdout",
     "output_type": "stream",
     "text": [
      "CPU times: user 459 ms, sys: 74.6 ms, total: 534 ms\n",
      "Wall time: 537 ms\n"
     ]
    }
   ],
   "source": [
    "%%time\n",
    "x_train, x_test, y_train, y_test = train_test_split(\\\n",
    "    data_t_is_male.drop(['user_id', 'age', 'is_male'], axis = 1), data_t_is_male['is_male'], test_size = 0.25, random_state = SPLIT_SEED)\n"
   ]
  },
  {
   "cell_type": "code",
   "execution_count": 99,
   "id": "373eee5c",
   "metadata": {},
   "outputs": [],
   "source": [
    "clf_is_male = CatBoostClassifier(thread_count=3\n",
    "                                 , iterations=2000\n",
    "                                 , random_seed=SPLIT_SEED, learning_rate=0.05, early_stopping_rounds=20\n",
    "                                 , eval_metric='AUC'\n",
    "                                 , depth=7\n",
    "                                 , grow_policy='Depthwise'\n",
    "                                 , min_data_in_leaf = 3\n",
    "                                 )"
   ]
  },
  {
   "cell_type": "code",
   "execution_count": 100,
   "id": "3e9e6bd0",
   "metadata": {
    "scrolled": false
   },
   "outputs": [
    {
     "data": {
      "application/vnd.jupyter.widget-view+json": {
       "model_id": "90082ec25e3a45a896c64735ac42b85b",
       "version_major": 2,
       "version_minor": 0
      },
      "text/plain": [
       "MetricVisualizer(layout=Layout(align_self='stretch', height='500px'))"
      ]
     },
     "metadata": {},
     "output_type": "display_data"
    },
    {
     "name": "stdout",
     "output_type": "stream",
     "text": [
      "GINI по полу 0.691\n",
      "CPU times: user 1h 4min 15s, sys: 48.6 s, total: 1h 5min 3s\n",
      "Wall time: 22min 1s\n"
     ]
    }
   ],
   "source": [
    "%%time\n",
    "clf_is_male.fit(x_train, y_train, verbose = False, cat_features=cat_features\n",
    "                , plot=True\n",
    "                )\n",
    "print(f'GINI по полу {2 * m.roc_auc_score(y_test, clf_is_male.predict_proba(x_test)[:,1]) - 1:2.3f}')\n",
    "# 0.688"
   ]
  },
  {
   "cell_type": "markdown",
   "id": "a3980236",
   "metadata": {},
   "source": [
    "## Получим оценку по возрасту"
   ]
  },
  {
   "cell_type": "code",
   "execution_count": 103,
   "id": "aeaecd00",
   "metadata": {},
   "outputs": [],
   "source": [
    "def age_bucket(x):\n",
    "    return bisect.bisect_right([18,25,35,45,55,65], x)"
   ]
  },
  {
   "cell_type": "code",
   "execution_count": 104,
   "id": "a7ea389c",
   "metadata": {},
   "outputs": [],
   "source": [
    "data_t_age = target.merge(data, how = 'left', on = ['user_id'])"
   ]
  },
  {
   "cell_type": "code",
   "execution_count": 105,
   "id": "4a4f4726",
   "metadata": {},
   "outputs": [],
   "source": [
    "data_t_age['age'] = data_t_age['age'].map(str)\n",
    "data_t_age = data_t_age[data_t_age['age'] != 'None']\n",
    "data_t_age = data_t_age[data_t_age['age'] != 'NA']\n",
    "data_t_age['age'] = data_t_age['age'].map(float)"
   ]
  },
  {
   "cell_type": "code",
   "execution_count": 106,
   "id": "5d38c185",
   "metadata": {},
   "outputs": [],
   "source": [
    "data_t_age['age'] = data_t_age['age'].map(age_bucket)\n",
    "# sns.histplot(df['age'], bins = 7)"
   ]
  },
  {
   "cell_type": "code",
   "execution_count": 107,
   "id": "46b226e3",
   "metadata": {},
   "outputs": [],
   "source": [
    "data_t_age = data_t_age[data_t_age['age'] != 0]"
   ]
  },
  {
   "cell_type": "code",
   "execution_count": 108,
   "id": "3453037d",
   "metadata": {},
   "outputs": [
    {
     "data": {
      "text/plain": [
       "2    85212\n",
       "3    84065\n",
       "4    42083\n",
       "1    25969\n",
       "5    25420\n",
       "6     6900\n",
       "Name: age, dtype: int64"
      ]
     },
     "execution_count": 108,
     "metadata": {},
     "output_type": "execute_result"
    }
   ],
   "source": [
    "data_t_age['age'].value_counts()"
   ]
  },
  {
   "cell_type": "code",
   "execution_count": 112,
   "id": "0af95a4b",
   "metadata": {},
   "outputs": [
    {
     "name": "stdout",
     "output_type": "stream",
     "text": [
      "['is_male', 'top_1_url_sum_request_cnt', 'top_2_url_sum_request_cnt', 'top_3_url_sum_request_cnt', 'top_4_url_sum_request_cnt', 'top_5_url_sum_request_cnt', 'top_1_url_count_request_cnt', 'top_2_url_count_request_cnt', 'top_3_url_count_request_cnt', 'region_name', 'cpe_model_name']\n"
     ]
    }
   ],
   "source": [
    "cat_features = list(data_t_age.select_dtypes(['object']).columns)\n",
    "print(cat_features)\n",
    "cat_features = ['top_1_url_sum_request_cnt', 'top_2_url_sum_request_cnt', 'top_3_url_sum_request_cnt', 'top_4_url_sum_request_cnt', 'top_5_url_sum_request_cnt', 'top_1_url_count_request_cnt', 'top_2_url_count_request_cnt', 'top_3_url_count_request_cnt', 'region_name', 'cpe_model_name']"
   ]
  },
  {
   "cell_type": "code",
   "execution_count": 115,
   "id": "f145308d",
   "metadata": {},
   "outputs": [],
   "source": [
    "x_train, x_test, y_train, y_test = train_test_split(\\\n",
    "    data_t_age.drop(['user_id', 'age', 'is_male'], axis = 1), data_t_age['age'], test_size = 0.25, random_state = SPLIT_SEED)\n",
    "\n",
    "clf = CatBoostClassifier(thread_count = 3\n",
    "                         , iterations = 5000\n",
    "                         , random_seed = SPLIT_SEED, learning_rate = 0.05, early_stopping_rounds = 20\n",
    "                         , eval_metric = 'AUC', loss_function = 'MultiClass'\n",
    "                         , classes_count = 6\n",
    "                         , class_names = [1, 2, 3, 4, 5, 6]\n",
    "                        )"
   ]
  },
  {
   "cell_type": "code",
   "execution_count": 116,
   "id": "e51e16fb",
   "metadata": {},
   "outputs": [
    {
     "data": {
      "application/vnd.jupyter.widget-view+json": {
       "model_id": "a4f2e957240944faac8bbc47d32f031c",
       "version_major": 2,
       "version_minor": 0
      },
      "text/plain": [
       "MetricVisualizer(layout=Layout(align_self='stretch', height='500px'))"
      ]
     },
     "metadata": {},
     "output_type": "display_data"
    },
    {
     "name": "stdout",
     "output_type": "stream",
     "text": [
      "              precision    recall  f1-score   support\n",
      "\n",
      "       18-25       0.52      0.27      0.36      6596\n",
      "       25-34       0.52      0.62      0.56     21118\n",
      "       35-44       0.43      0.60      0.50     21105\n",
      "       45-54       0.38      0.19      0.26     10507\n",
      "       55-65       0.40      0.25      0.31      6375\n",
      "         65+       0.41      0.04      0.07      1712\n",
      "\n",
      "    accuracy                           0.46     67413\n",
      "   macro avg       0.44      0.33      0.34     67413\n",
      "weighted avg       0.46      0.46      0.44     67413\n",
      "\n",
      "CPU times: user 17h 12min 33s, sys: 37min 33s, total: 17h 50min 7s\n",
      "Wall time: 6h 3min 41s\n"
     ]
    }
   ],
   "source": [
    "%%time\n",
    "\n",
    "clf.fit(x_train, y_train, verbose = False, plot=True, cat_features=cat_features)\n",
    "print(m.classification_report(y_test, clf.predict(x_test), \\\n",
    "                            target_names = ['18-25','25-34', '35-44', '45-54', '55-65', '65+']))"
   ]
  },
  {
   "cell_type": "markdown",
   "id": "f55aa8ec",
   "metadata": {},
   "source": [
    "## Сабмит"
   ]
  },
  {
   "cell_type": "code",
   "execution_count": 117,
   "id": "0a65b51e",
   "metadata": {},
   "outputs": [],
   "source": [
    "submit = pq.read_table(f\"{SUBMISSION_FILE}\").to_pandas()"
   ]
  },
  {
   "cell_type": "code",
   "execution_count": 118,
   "id": "334717ee",
   "metadata": {},
   "outputs": [],
   "source": [
    "submit_predict_data = submit.merge(data, how = 'left', on = ['user_id'])"
   ]
  },
  {
   "cell_type": "code",
   "execution_count": 32,
   "id": "9eef492e",
   "metadata": {},
   "outputs": [],
   "source": [
    "# submit_predict_data = submit_predict_data.fillna(0)"
   ]
  },
  {
   "cell_type": "code",
   "execution_count": 119,
   "id": "e66fb268",
   "metadata": {},
   "outputs": [
    {
     "name": "stdout",
     "output_type": "stream",
     "text": [
      "<class 'pandas.core.frame.DataFrame'>\n",
      "Int64Index: 144724 entries, 221301 to 145315\n",
      "Data columns (total 3 columns):\n",
      " #   Column   Non-Null Count   Dtype  \n",
      "---  ------   --------------   -----  \n",
      " 0   user_id  144724 non-null  int64  \n",
      " 1   is_male  144724 non-null  float64\n",
      " 2   age      144724 non-null  int64  \n",
      "dtypes: float64(1), int64(2)\n",
      "memory usage: 4.4 MB\n"
     ]
    }
   ],
   "source": [
    "submit['is_male'] = clf_is_male.predict_proba(submit_predict_data.drop(['user_id', 'count_region_name', \n",
    "    'top_3_url_count_request_cnt', 'count_day_date', 'count_morning_date', 'count_date', 'count_night_date', \n",
    "    'count_evening_date', 'min_sum_date_request_cnt', 'min_sum_date_evening_request_cnt', 'min_sum_date_day_request_cnt', \n",
    "    'min_sum_date_morning_request_cnt', 'min_sum_date_night_request_cnt', 'max_day_request_cnt', 'min_lag_date', \n",
    "    'max_morning_request_cnt', 'max_evening_request_cnt', 'max_request_cnt', 'max_night_request_cnt', 'min_count_part_of_day_date', \n",
    "    'max_count_part_of_day_date'], axis = 1))[:,1]\n",
    "submit['age'] = clf.predict(submit_predict_data.drop(['user_id'], axis = 1))\n",
    "submit.info()"
   ]
  },
  {
   "cell_type": "code",
   "execution_count": 120,
   "id": "36a46435",
   "metadata": {},
   "outputs": [
    {
     "data": {
      "text/html": [
       "<div>\n",
       "<style scoped>\n",
       "    .dataframe tbody tr th:only-of-type {\n",
       "        vertical-align: middle;\n",
       "    }\n",
       "\n",
       "    .dataframe tbody tr th {\n",
       "        vertical-align: top;\n",
       "    }\n",
       "\n",
       "    .dataframe thead th {\n",
       "        text-align: right;\n",
       "    }\n",
       "</style>\n",
       "<table border=\"1\" class=\"dataframe\">\n",
       "  <thead>\n",
       "    <tr style=\"text-align: right;\">\n",
       "      <th></th>\n",
       "      <th>user_id</th>\n",
       "      <th>is_male</th>\n",
       "      <th>age</th>\n",
       "    </tr>\n",
       "  </thead>\n",
       "  <tbody>\n",
       "    <tr>\n",
       "      <th>221301</th>\n",
       "      <td>221301</td>\n",
       "      <td>0.946883</td>\n",
       "      <td>2</td>\n",
       "    </tr>\n",
       "    <tr>\n",
       "      <th>31271</th>\n",
       "      <td>31271</td>\n",
       "      <td>0.574551</td>\n",
       "      <td>3</td>\n",
       "    </tr>\n",
       "    <tr>\n",
       "      <th>211594</th>\n",
       "      <td>211594</td>\n",
       "      <td>0.459825</td>\n",
       "      <td>2</td>\n",
       "    </tr>\n",
       "    <tr>\n",
       "      <th>253119</th>\n",
       "      <td>253119</td>\n",
       "      <td>0.539220</td>\n",
       "      <td>2</td>\n",
       "    </tr>\n",
       "    <tr>\n",
       "      <th>192578</th>\n",
       "      <td>192578</td>\n",
       "      <td>0.726408</td>\n",
       "      <td>2</td>\n",
       "    </tr>\n",
       "  </tbody>\n",
       "</table>\n",
       "</div>"
      ],
      "text/plain": [
       "        user_id   is_male  age\n",
       "221301   221301  0.946883    2\n",
       "31271     31271  0.574551    3\n",
       "211594   211594  0.459825    2\n",
       "253119   253119  0.539220    2\n",
       "192578   192578  0.726408    2"
      ]
     },
     "execution_count": 120,
     "metadata": {},
     "output_type": "execute_result"
    }
   ],
   "source": [
    "submit.head()"
   ]
  },
  {
   "cell_type": "code",
   "execution_count": 121,
   "id": "49280431",
   "metadata": {},
   "outputs": [],
   "source": [
    "submit.to_csv(f'data_out/sample_submission.csv', index = False, mode='w')"
   ]
  },
  {
   "cell_type": "code",
   "execution_count": 126,
   "id": "bbca5956",
   "metadata": {
    "scrolled": false
   },
   "outputs": [
    {
     "data": {
      "text/html": [
       "<div>\n",
       "<style scoped>\n",
       "    .dataframe tbody tr th:only-of-type {\n",
       "        vertical-align: middle;\n",
       "    }\n",
       "\n",
       "    .dataframe tbody tr th {\n",
       "        vertical-align: top;\n",
       "    }\n",
       "\n",
       "    .dataframe thead th {\n",
       "        text-align: right;\n",
       "    }\n",
       "</style>\n",
       "<table border=\"1\" class=\"dataframe\">\n",
       "  <thead>\n",
       "    <tr style=\"text-align: right;\">\n",
       "      <th></th>\n",
       "      <th>Feature Id</th>\n",
       "      <th>Importances</th>\n",
       "    </tr>\n",
       "  </thead>\n",
       "  <tbody>\n",
       "    <tr>\n",
       "      <th>0</th>\n",
       "      <td>cpe_model_name</td>\n",
       "      <td>2.228839</td>\n",
       "    </tr>\n",
       "    <tr>\n",
       "      <th>1</th>\n",
       "      <td>top_1_url_sum_request_cnt</td>\n",
       "      <td>2.035186</td>\n",
       "    </tr>\n",
       "    <tr>\n",
       "      <th>2</th>\n",
       "      <td>38</td>\n",
       "      <td>1.830543</td>\n",
       "    </tr>\n",
       "    <tr>\n",
       "      <th>3</th>\n",
       "      <td>top_2_url_sum_request_cnt</td>\n",
       "      <td>1.444013</td>\n",
       "    </tr>\n",
       "    <tr>\n",
       "      <th>4</th>\n",
       "      <td>25</td>\n",
       "      <td>1.400044</td>\n",
       "    </tr>\n",
       "    <tr>\n",
       "      <th>5</th>\n",
       "      <td>35</td>\n",
       "      <td>1.343871</td>\n",
       "    </tr>\n",
       "    <tr>\n",
       "      <th>6</th>\n",
       "      <td>price</td>\n",
       "      <td>1.317015</td>\n",
       "    </tr>\n",
       "    <tr>\n",
       "      <th>7</th>\n",
       "      <td>region_name</td>\n",
       "      <td>1.262874</td>\n",
       "    </tr>\n",
       "    <tr>\n",
       "      <th>8</th>\n",
       "      <td>top_1_url_count_request_cnt</td>\n",
       "      <td>1.237051</td>\n",
       "    </tr>\n",
       "    <tr>\n",
       "      <th>9</th>\n",
       "      <td>13</td>\n",
       "      <td>1.224975</td>\n",
       "    </tr>\n",
       "    <tr>\n",
       "      <th>10</th>\n",
       "      <td>33</td>\n",
       "      <td>1.030700</td>\n",
       "    </tr>\n",
       "    <tr>\n",
       "      <th>11</th>\n",
       "      <td>10</td>\n",
       "      <td>1.015934</td>\n",
       "    </tr>\n",
       "    <tr>\n",
       "      <th>12</th>\n",
       "      <td>29</td>\n",
       "      <td>0.954601</td>\n",
       "    </tr>\n",
       "    <tr>\n",
       "      <th>13</th>\n",
       "      <td>count_morning_date</td>\n",
       "      <td>0.952254</td>\n",
       "    </tr>\n",
       "    <tr>\n",
       "      <th>14</th>\n",
       "      <td>47_x</td>\n",
       "      <td>0.936725</td>\n",
       "    </tr>\n",
       "    <tr>\n",
       "      <th>15</th>\n",
       "      <td>67_x</td>\n",
       "      <td>0.926725</td>\n",
       "    </tr>\n",
       "    <tr>\n",
       "      <th>16</th>\n",
       "      <td>32</td>\n",
       "      <td>0.919598</td>\n",
       "    </tr>\n",
       "    <tr>\n",
       "      <th>17</th>\n",
       "      <td>6</td>\n",
       "      <td>0.915432</td>\n",
       "    </tr>\n",
       "    <tr>\n",
       "      <th>18</th>\n",
       "      <td>top_2_url_count_request_cnt</td>\n",
       "      <td>0.912954</td>\n",
       "    </tr>\n",
       "    <tr>\n",
       "      <th>19</th>\n",
       "      <td>63_x</td>\n",
       "      <td>0.903454</td>\n",
       "    </tr>\n",
       "    <tr>\n",
       "      <th>20</th>\n",
       "      <td>34</td>\n",
       "      <td>0.832024</td>\n",
       "    </tr>\n",
       "    <tr>\n",
       "      <th>21</th>\n",
       "      <td>36</td>\n",
       "      <td>0.831692</td>\n",
       "    </tr>\n",
       "    <tr>\n",
       "      <th>22</th>\n",
       "      <td>avg_sum_date_evening_request_cnt</td>\n",
       "      <td>0.831008</td>\n",
       "    </tr>\n",
       "    <tr>\n",
       "      <th>23</th>\n",
       "      <td>top_3_url_sum_request_cnt</td>\n",
       "      <td>0.783021</td>\n",
       "    </tr>\n",
       "    <tr>\n",
       "      <th>24</th>\n",
       "      <td>1</td>\n",
       "      <td>0.782998</td>\n",
       "    </tr>\n",
       "    <tr>\n",
       "      <th>25</th>\n",
       "      <td>46</td>\n",
       "      <td>0.777017</td>\n",
       "    </tr>\n",
       "    <tr>\n",
       "      <th>26</th>\n",
       "      <td>39</td>\n",
       "      <td>0.764093</td>\n",
       "    </tr>\n",
       "    <tr>\n",
       "      <th>27</th>\n",
       "      <td>top_4_url_sum_request_cnt</td>\n",
       "      <td>0.743888</td>\n",
       "    </tr>\n",
       "    <tr>\n",
       "      <th>28</th>\n",
       "      <td>avg_sum_date_night_request_cnt</td>\n",
       "      <td>0.720708</td>\n",
       "    </tr>\n",
       "    <tr>\n",
       "      <th>29</th>\n",
       "      <td>45_x</td>\n",
       "      <td>0.720355</td>\n",
       "    </tr>\n",
       "    <tr>\n",
       "      <th>30</th>\n",
       "      <td>20</td>\n",
       "      <td>0.719507</td>\n",
       "    </tr>\n",
       "    <tr>\n",
       "      <th>31</th>\n",
       "      <td>19</td>\n",
       "      <td>0.710640</td>\n",
       "    </tr>\n",
       "    <tr>\n",
       "      <th>32</th>\n",
       "      <td>41</td>\n",
       "      <td>0.704197</td>\n",
       "    </tr>\n",
       "    <tr>\n",
       "      <th>33</th>\n",
       "      <td>14</td>\n",
       "      <td>0.681807</td>\n",
       "    </tr>\n",
       "    <tr>\n",
       "      <th>34</th>\n",
       "      <td>avg_sum_date_day_request_cnt</td>\n",
       "      <td>0.675089</td>\n",
       "    </tr>\n",
       "    <tr>\n",
       "      <th>35</th>\n",
       "      <td>top_3_url_count_request_cnt</td>\n",
       "      <td>0.649567</td>\n",
       "    </tr>\n",
       "    <tr>\n",
       "      <th>36</th>\n",
       "      <td>53_x</td>\n",
       "      <td>0.648833</td>\n",
       "    </tr>\n",
       "    <tr>\n",
       "      <th>37</th>\n",
       "      <td>32_x</td>\n",
       "      <td>0.643101</td>\n",
       "    </tr>\n",
       "    <tr>\n",
       "      <th>38</th>\n",
       "      <td>2</td>\n",
       "      <td>0.622673</td>\n",
       "    </tr>\n",
       "    <tr>\n",
       "      <th>39</th>\n",
       "      <td>9</td>\n",
       "      <td>0.610470</td>\n",
       "    </tr>\n",
       "    <tr>\n",
       "      <th>40</th>\n",
       "      <td>2_x</td>\n",
       "      <td>0.609847</td>\n",
       "    </tr>\n",
       "    <tr>\n",
       "      <th>41</th>\n",
       "      <td>31</td>\n",
       "      <td>0.603164</td>\n",
       "    </tr>\n",
       "    <tr>\n",
       "      <th>42</th>\n",
       "      <td>43_x</td>\n",
       "      <td>0.597723</td>\n",
       "    </tr>\n",
       "    <tr>\n",
       "      <th>43</th>\n",
       "      <td>63_y</td>\n",
       "      <td>0.578138</td>\n",
       "    </tr>\n",
       "    <tr>\n",
       "      <th>44</th>\n",
       "      <td>17</td>\n",
       "      <td>0.577738</td>\n",
       "    </tr>\n",
       "    <tr>\n",
       "      <th>45</th>\n",
       "      <td>65_x</td>\n",
       "      <td>0.575018</td>\n",
       "    </tr>\n",
       "    <tr>\n",
       "      <th>46</th>\n",
       "      <td>12</td>\n",
       "      <td>0.570305</td>\n",
       "    </tr>\n",
       "    <tr>\n",
       "      <th>47</th>\n",
       "      <td>26</td>\n",
       "      <td>0.565179</td>\n",
       "    </tr>\n",
       "    <tr>\n",
       "      <th>48</th>\n",
       "      <td>30_x</td>\n",
       "      <td>0.554040</td>\n",
       "    </tr>\n",
       "    <tr>\n",
       "      <th>49</th>\n",
       "      <td>67_y</td>\n",
       "      <td>0.550331</td>\n",
       "    </tr>\n",
       "    <tr>\n",
       "      <th>50</th>\n",
       "      <td>60_x</td>\n",
       "      <td>0.548519</td>\n",
       "    </tr>\n",
       "    <tr>\n",
       "      <th>51</th>\n",
       "      <td>70_x</td>\n",
       "      <td>0.545083</td>\n",
       "    </tr>\n",
       "    <tr>\n",
       "      <th>52</th>\n",
       "      <td>16</td>\n",
       "      <td>0.544772</td>\n",
       "    </tr>\n",
       "    <tr>\n",
       "      <th>53</th>\n",
       "      <td>avg_count_part_of_day_date</td>\n",
       "      <td>0.541697</td>\n",
       "    </tr>\n",
       "    <tr>\n",
       "      <th>54</th>\n",
       "      <td>9_x</td>\n",
       "      <td>0.535522</td>\n",
       "    </tr>\n",
       "    <tr>\n",
       "      <th>55</th>\n",
       "      <td>50_x</td>\n",
       "      <td>0.532863</td>\n",
       "    </tr>\n",
       "    <tr>\n",
       "      <th>56</th>\n",
       "      <td>3</td>\n",
       "      <td>0.532413</td>\n",
       "    </tr>\n",
       "    <tr>\n",
       "      <th>57</th>\n",
       "      <td>46_x</td>\n",
       "      <td>0.531042</td>\n",
       "    </tr>\n",
       "    <tr>\n",
       "      <th>58</th>\n",
       "      <td>avg_lag_date</td>\n",
       "      <td>0.525518</td>\n",
       "    </tr>\n",
       "    <tr>\n",
       "      <th>59</th>\n",
       "      <td>34_x</td>\n",
       "      <td>0.521844</td>\n",
       "    </tr>\n",
       "  </tbody>\n",
       "</table>\n",
       "</div>"
      ],
      "text/plain": [
       "                          Feature Id  Importances\n",
       "0                     cpe_model_name     2.228839\n",
       "1          top_1_url_sum_request_cnt     2.035186\n",
       "2                                 38     1.830543\n",
       "3          top_2_url_sum_request_cnt     1.444013\n",
       "4                                 25     1.400044\n",
       "5                                 35     1.343871\n",
       "6                              price     1.317015\n",
       "7                        region_name     1.262874\n",
       "8        top_1_url_count_request_cnt     1.237051\n",
       "9                                 13     1.224975\n",
       "10                                33     1.030700\n",
       "11                                10     1.015934\n",
       "12                                29     0.954601\n",
       "13                count_morning_date     0.952254\n",
       "14                              47_x     0.936725\n",
       "15                              67_x     0.926725\n",
       "16                                32     0.919598\n",
       "17                                 6     0.915432\n",
       "18       top_2_url_count_request_cnt     0.912954\n",
       "19                              63_x     0.903454\n",
       "20                                34     0.832024\n",
       "21                                36     0.831692\n",
       "22  avg_sum_date_evening_request_cnt     0.831008\n",
       "23         top_3_url_sum_request_cnt     0.783021\n",
       "24                                 1     0.782998\n",
       "25                                46     0.777017\n",
       "26                                39     0.764093\n",
       "27         top_4_url_sum_request_cnt     0.743888\n",
       "28    avg_sum_date_night_request_cnt     0.720708\n",
       "29                              45_x     0.720355\n",
       "30                                20     0.719507\n",
       "31                                19     0.710640\n",
       "32                                41     0.704197\n",
       "33                                14     0.681807\n",
       "34      avg_sum_date_day_request_cnt     0.675089\n",
       "35       top_3_url_count_request_cnt     0.649567\n",
       "36                              53_x     0.648833\n",
       "37                              32_x     0.643101\n",
       "38                                 2     0.622673\n",
       "39                                 9     0.610470\n",
       "40                               2_x     0.609847\n",
       "41                                31     0.603164\n",
       "42                              43_x     0.597723\n",
       "43                              63_y     0.578138\n",
       "44                                17     0.577738\n",
       "45                              65_x     0.575018\n",
       "46                                12     0.570305\n",
       "47                                26     0.565179\n",
       "48                              30_x     0.554040\n",
       "49                              67_y     0.550331\n",
       "50                              60_x     0.548519\n",
       "51                              70_x     0.545083\n",
       "52                                16     0.544772\n",
       "53        avg_count_part_of_day_date     0.541697\n",
       "54                               9_x     0.535522\n",
       "55                              50_x     0.532863\n",
       "56                                 3     0.532413\n",
       "57                              46_x     0.531042\n",
       "58                      avg_lag_date     0.525518\n",
       "59                              34_x     0.521844"
      ]
     },
     "execution_count": 126,
     "metadata": {},
     "output_type": "execute_result"
    }
   ],
   "source": [
    "clf.get_feature_importance(prettified=True).head(60)"
   ]
  },
  {
   "cell_type": "code",
   "execution_count": 20,
   "id": "4455aab2",
   "metadata": {},
   "outputs": [],
   "source": [
    "importance = clf_is_male.get_feature_importance(prettified=True).tail(60)"
   ]
  },
  {
   "cell_type": "markdown",
   "id": "b6f25531",
   "metadata": {},
   "source": [
    "**Модель классификации по полу сильно ускорилась и немного улучшилась после удаления признаков с Importances < 0.3, после удаления Importances < 0.5 ухудшилавь**"
   ]
  },
  {
   "cell_type": "code",
   "execution_count": 21,
   "id": "1f832038",
   "metadata": {},
   "outputs": [
    {
     "data": {
      "text/html": [
       "<div>\n",
       "<style scoped>\n",
       "    .dataframe tbody tr th:only-of-type {\n",
       "        vertical-align: middle;\n",
       "    }\n",
       "\n",
       "    .dataframe tbody tr th {\n",
       "        vertical-align: top;\n",
       "    }\n",
       "\n",
       "    .dataframe thead th {\n",
       "        text-align: right;\n",
       "    }\n",
       "</style>\n",
       "<table border=\"1\" class=\"dataframe\">\n",
       "  <thead>\n",
       "    <tr style=\"text-align: right;\">\n",
       "      <th></th>\n",
       "      <th>Feature Id</th>\n",
       "      <th>Importances</th>\n",
       "    </tr>\n",
       "  </thead>\n",
       "  <tbody>\n",
       "    <tr>\n",
       "      <th>74</th>\n",
       "      <td>65</td>\n",
       "      <td>0.558375</td>\n",
       "    </tr>\n",
       "    <tr>\n",
       "      <th>75</th>\n",
       "      <td>18</td>\n",
       "      <td>0.548302</td>\n",
       "    </tr>\n",
       "    <tr>\n",
       "      <th>76</th>\n",
       "      <td>count_morning_request_cnt</td>\n",
       "      <td>0.543132</td>\n",
       "    </tr>\n",
       "    <tr>\n",
       "      <th>77</th>\n",
       "      <td>max_sum_date_request_cnt</td>\n",
       "      <td>0.540781</td>\n",
       "    </tr>\n",
       "    <tr>\n",
       "      <th>78</th>\n",
       "      <td>53</td>\n",
       "      <td>0.527146</td>\n",
       "    </tr>\n",
       "    <tr>\n",
       "      <th>79</th>\n",
       "      <td>29</td>\n",
       "      <td>0.523092</td>\n",
       "    </tr>\n",
       "    <tr>\n",
       "      <th>80</th>\n",
       "      <td>50</td>\n",
       "      <td>0.522125</td>\n",
       "    </tr>\n",
       "    <tr>\n",
       "      <th>81</th>\n",
       "      <td>avg_sum_date_request_cnt</td>\n",
       "      <td>0.517819</td>\n",
       "    </tr>\n",
       "    <tr>\n",
       "      <th>82</th>\n",
       "      <td>avg_morning_request_cnt</td>\n",
       "      <td>0.509213</td>\n",
       "    </tr>\n",
       "    <tr>\n",
       "      <th>83</th>\n",
       "      <td>36</td>\n",
       "      <td>0.506564</td>\n",
       "    </tr>\n",
       "    <tr>\n",
       "      <th>84</th>\n",
       "      <td>avg_sum_date_morning_request_cnt</td>\n",
       "      <td>0.504662</td>\n",
       "    </tr>\n",
       "    <tr>\n",
       "      <th>85</th>\n",
       "      <td>avg_day_request_cnt</td>\n",
       "      <td>0.502766</td>\n",
       "    </tr>\n",
       "    <tr>\n",
       "      <th>86</th>\n",
       "      <td>avg_sum_date_night_request_cnt</td>\n",
       "      <td>0.500136</td>\n",
       "    </tr>\n",
       "    <tr>\n",
       "      <th>87</th>\n",
       "      <td>35</td>\n",
       "      <td>0.500080</td>\n",
       "    </tr>\n",
       "    <tr>\n",
       "      <th>88</th>\n",
       "      <td>74</td>\n",
       "      <td>0.495683</td>\n",
       "    </tr>\n",
       "    <tr>\n",
       "      <th>89</th>\n",
       "      <td>top_2_url_sum_request_cnt</td>\n",
       "      <td>0.495127</td>\n",
       "    </tr>\n",
       "    <tr>\n",
       "      <th>90</th>\n",
       "      <td>78</td>\n",
       "      <td>0.494696</td>\n",
       "    </tr>\n",
       "    <tr>\n",
       "      <th>91</th>\n",
       "      <td>avg_sum_date_evening_request_cnt</td>\n",
       "      <td>0.491434</td>\n",
       "    </tr>\n",
       "    <tr>\n",
       "      <th>92</th>\n",
       "      <td>avg_request_cnt</td>\n",
       "      <td>0.487865</td>\n",
       "    </tr>\n",
       "    <tr>\n",
       "      <th>93</th>\n",
       "      <td>count_night_request_cnt</td>\n",
       "      <td>0.487531</td>\n",
       "    </tr>\n",
       "    <tr>\n",
       "      <th>94</th>\n",
       "      <td>54</td>\n",
       "      <td>0.485313</td>\n",
       "    </tr>\n",
       "    <tr>\n",
       "      <th>95</th>\n",
       "      <td>73</td>\n",
       "      <td>0.481287</td>\n",
       "    </tr>\n",
       "    <tr>\n",
       "      <th>96</th>\n",
       "      <td>69</td>\n",
       "      <td>0.479008</td>\n",
       "    </tr>\n",
       "    <tr>\n",
       "      <th>97</th>\n",
       "      <td>region_name</td>\n",
       "      <td>0.475594</td>\n",
       "    </tr>\n",
       "    <tr>\n",
       "      <th>98</th>\n",
       "      <td>57</td>\n",
       "      <td>0.474585</td>\n",
       "    </tr>\n",
       "    <tr>\n",
       "      <th>99</th>\n",
       "      <td>avg_sum_date_day_request_cnt</td>\n",
       "      <td>0.473885</td>\n",
       "    </tr>\n",
       "    <tr>\n",
       "      <th>100</th>\n",
       "      <td>66</td>\n",
       "      <td>0.470672</td>\n",
       "    </tr>\n",
       "    <tr>\n",
       "      <th>101</th>\n",
       "      <td>count_evening_request_cnt</td>\n",
       "      <td>0.464278</td>\n",
       "    </tr>\n",
       "    <tr>\n",
       "      <th>102</th>\n",
       "      <td>max_sum_date_day_request_cnt</td>\n",
       "      <td>0.456677</td>\n",
       "    </tr>\n",
       "    <tr>\n",
       "      <th>103</th>\n",
       "      <td>top_3_url_sum_request_cnt</td>\n",
       "      <td>0.456158</td>\n",
       "    </tr>\n",
       "    <tr>\n",
       "      <th>104</th>\n",
       "      <td>avg_night_request_cnt</td>\n",
       "      <td>0.448533</td>\n",
       "    </tr>\n",
       "    <tr>\n",
       "      <th>105</th>\n",
       "      <td>61</td>\n",
       "      <td>0.447739</td>\n",
       "    </tr>\n",
       "    <tr>\n",
       "      <th>106</th>\n",
       "      <td>max_sum_date_morning_request_cnt</td>\n",
       "      <td>0.429114</td>\n",
       "    </tr>\n",
       "    <tr>\n",
       "      <th>107</th>\n",
       "      <td>avg_evening_request_cnt</td>\n",
       "      <td>0.424553</td>\n",
       "    </tr>\n",
       "    <tr>\n",
       "      <th>108</th>\n",
       "      <td>72</td>\n",
       "      <td>0.416972</td>\n",
       "    </tr>\n",
       "    <tr>\n",
       "      <th>109</th>\n",
       "      <td>top_4_url_sum_request_cnt</td>\n",
       "      <td>0.396189</td>\n",
       "    </tr>\n",
       "    <tr>\n",
       "      <th>110</th>\n",
       "      <td>max_sum_date_evening_request_cnt</td>\n",
       "      <td>0.355463</td>\n",
       "    </tr>\n",
       "    <tr>\n",
       "      <th>111</th>\n",
       "      <td>top_5_url_sum_request_cnt</td>\n",
       "      <td>0.354070</td>\n",
       "    </tr>\n",
       "    <tr>\n",
       "      <th>112</th>\n",
       "      <td>max_lag_date</td>\n",
       "      <td>0.334972</td>\n",
       "    </tr>\n",
       "    <tr>\n",
       "      <th>113</th>\n",
       "      <td>max_sum_date_night_request_cnt</td>\n",
       "      <td>0.319456</td>\n",
       "    </tr>\n",
       "    <tr>\n",
       "      <th>114</th>\n",
       "      <td>count_region_name</td>\n",
       "      <td>0.261329</td>\n",
       "    </tr>\n",
       "    <tr>\n",
       "      <th>115</th>\n",
       "      <td>top_3_url_count_request_cnt</td>\n",
       "      <td>0.260475</td>\n",
       "    </tr>\n",
       "    <tr>\n",
       "      <th>116</th>\n",
       "      <td>count_day_date</td>\n",
       "      <td>0.254782</td>\n",
       "    </tr>\n",
       "    <tr>\n",
       "      <th>117</th>\n",
       "      <td>count_morning_date</td>\n",
       "      <td>0.252493</td>\n",
       "    </tr>\n",
       "    <tr>\n",
       "      <th>118</th>\n",
       "      <td>count_date</td>\n",
       "      <td>0.227702</td>\n",
       "    </tr>\n",
       "    <tr>\n",
       "      <th>119</th>\n",
       "      <td>count_night_date</td>\n",
       "      <td>0.223293</td>\n",
       "    </tr>\n",
       "    <tr>\n",
       "      <th>120</th>\n",
       "      <td>count_evening_date</td>\n",
       "      <td>0.222673</td>\n",
       "    </tr>\n",
       "    <tr>\n",
       "      <th>121</th>\n",
       "      <td>min_sum_date_request_cnt</td>\n",
       "      <td>0.208218</td>\n",
       "    </tr>\n",
       "    <tr>\n",
       "      <th>122</th>\n",
       "      <td>min_sum_date_evening_request_cnt</td>\n",
       "      <td>0.198315</td>\n",
       "    </tr>\n",
       "    <tr>\n",
       "      <th>123</th>\n",
       "      <td>min_sum_date_day_request_cnt</td>\n",
       "      <td>0.180868</td>\n",
       "    </tr>\n",
       "    <tr>\n",
       "      <th>124</th>\n",
       "      <td>min_sum_date_morning_request_cnt</td>\n",
       "      <td>0.167238</td>\n",
       "    </tr>\n",
       "    <tr>\n",
       "      <th>125</th>\n",
       "      <td>min_sum_date_night_request_cnt</td>\n",
       "      <td>0.150397</td>\n",
       "    </tr>\n",
       "    <tr>\n",
       "      <th>126</th>\n",
       "      <td>max_day_request_cnt</td>\n",
       "      <td>0.146891</td>\n",
       "    </tr>\n",
       "    <tr>\n",
       "      <th>127</th>\n",
       "      <td>min_lag_date</td>\n",
       "      <td>0.132132</td>\n",
       "    </tr>\n",
       "    <tr>\n",
       "      <th>128</th>\n",
       "      <td>max_morning_request_cnt</td>\n",
       "      <td>0.119075</td>\n",
       "    </tr>\n",
       "    <tr>\n",
       "      <th>129</th>\n",
       "      <td>max_evening_request_cnt</td>\n",
       "      <td>0.115836</td>\n",
       "    </tr>\n",
       "    <tr>\n",
       "      <th>130</th>\n",
       "      <td>max_request_cnt</td>\n",
       "      <td>0.115217</td>\n",
       "    </tr>\n",
       "    <tr>\n",
       "      <th>131</th>\n",
       "      <td>max_night_request_cnt</td>\n",
       "      <td>0.093095</td>\n",
       "    </tr>\n",
       "    <tr>\n",
       "      <th>132</th>\n",
       "      <td>min_count_part_of_day_date</td>\n",
       "      <td>0.053075</td>\n",
       "    </tr>\n",
       "    <tr>\n",
       "      <th>133</th>\n",
       "      <td>max_count_part_of_day_date</td>\n",
       "      <td>0.042507</td>\n",
       "    </tr>\n",
       "  </tbody>\n",
       "</table>\n",
       "</div>"
      ],
      "text/plain": [
       "                           Feature Id  Importances\n",
       "74                                 65     0.558375\n",
       "75                                 18     0.548302\n",
       "76          count_morning_request_cnt     0.543132\n",
       "77           max_sum_date_request_cnt     0.540781\n",
       "78                                 53     0.527146\n",
       "79                                 29     0.523092\n",
       "80                                 50     0.522125\n",
       "81           avg_sum_date_request_cnt     0.517819\n",
       "82            avg_morning_request_cnt     0.509213\n",
       "83                                 36     0.506564\n",
       "84   avg_sum_date_morning_request_cnt     0.504662\n",
       "85                avg_day_request_cnt     0.502766\n",
       "86     avg_sum_date_night_request_cnt     0.500136\n",
       "87                                 35     0.500080\n",
       "88                                 74     0.495683\n",
       "89          top_2_url_sum_request_cnt     0.495127\n",
       "90                                 78     0.494696\n",
       "91   avg_sum_date_evening_request_cnt     0.491434\n",
       "92                    avg_request_cnt     0.487865\n",
       "93            count_night_request_cnt     0.487531\n",
       "94                                 54     0.485313\n",
       "95                                 73     0.481287\n",
       "96                                 69     0.479008\n",
       "97                        region_name     0.475594\n",
       "98                                 57     0.474585\n",
       "99       avg_sum_date_day_request_cnt     0.473885\n",
       "100                                66     0.470672\n",
       "101         count_evening_request_cnt     0.464278\n",
       "102      max_sum_date_day_request_cnt     0.456677\n",
       "103         top_3_url_sum_request_cnt     0.456158\n",
       "104             avg_night_request_cnt     0.448533\n",
       "105                                61     0.447739\n",
       "106  max_sum_date_morning_request_cnt     0.429114\n",
       "107           avg_evening_request_cnt     0.424553\n",
       "108                                72     0.416972\n",
       "109         top_4_url_sum_request_cnt     0.396189\n",
       "110  max_sum_date_evening_request_cnt     0.355463\n",
       "111         top_5_url_sum_request_cnt     0.354070\n",
       "112                      max_lag_date     0.334972\n",
       "113    max_sum_date_night_request_cnt     0.319456\n",
       "114                 count_region_name     0.261329\n",
       "115       top_3_url_count_request_cnt     0.260475\n",
       "116                    count_day_date     0.254782\n",
       "117                count_morning_date     0.252493\n",
       "118                        count_date     0.227702\n",
       "119                  count_night_date     0.223293\n",
       "120                count_evening_date     0.222673\n",
       "121          min_sum_date_request_cnt     0.208218\n",
       "122  min_sum_date_evening_request_cnt     0.198315\n",
       "123      min_sum_date_day_request_cnt     0.180868\n",
       "124  min_sum_date_morning_request_cnt     0.167238\n",
       "125    min_sum_date_night_request_cnt     0.150397\n",
       "126               max_day_request_cnt     0.146891\n",
       "127                      min_lag_date     0.132132\n",
       "128           max_morning_request_cnt     0.119075\n",
       "129           max_evening_request_cnt     0.115836\n",
       "130                   max_request_cnt     0.115217\n",
       "131             max_night_request_cnt     0.093095\n",
       "132        min_count_part_of_day_date     0.053075\n",
       "133        max_count_part_of_day_date     0.042507"
      ]
     },
     "execution_count": 21,
     "metadata": {},
     "output_type": "execute_result"
    }
   ],
   "source": [
    "importance.head(60)"
   ]
  },
  {
   "cell_type": "code",
   "execution_count": 64,
   "id": "dd26ecb5",
   "metadata": {},
   "outputs": [
    {
     "name": "stdout",
     "output_type": "stream",
     "text": [
      "['74', 'top_2_url_sum_request_cnt', '78', 'avg_sum_date_evening_request_cnt', 'avg_request_cnt', 'count_night_request_cnt', '54', '73', '69', 'region_name', '57', 'avg_sum_date_day_request_cnt', '66', 'count_evening_request_cnt', 'max_sum_date_day_request_cnt', 'top_3_url_sum_request_cnt', 'avg_night_request_cnt', '61', 'max_sum_date_morning_request_cnt', 'avg_evening_request_cnt', '72', 'top_4_url_sum_request_cnt', 'max_sum_date_evening_request_cnt', 'top_5_url_sum_request_cnt', 'max_lag_date', 'max_sum_date_night_request_cnt', 'count_region_name', 'top_3_url_count_request_cnt', 'count_day_date', 'count_morning_date', 'count_date', 'count_night_date', 'count_evening_date', 'min_sum_date_request_cnt', 'min_sum_date_evening_request_cnt', 'min_sum_date_day_request_cnt', 'min_sum_date_morning_request_cnt', 'min_sum_date_night_request_cnt', 'max_day_request_cnt', 'min_lag_date', 'max_morning_request_cnt', 'max_evening_request_cnt', 'max_request_cnt', 'max_night_request_cnt', 'min_count_part_of_day_date', 'max_count_part_of_day_date']\n"
     ]
    }
   ],
   "source": [
    "no_importance = list(importance[importance['Importances'] < 0.3]['Feature Id'])\n",
    "print(no_importance)"
   ]
  },
  {
   "cell_type": "code",
   "execution_count": null,
   "id": "ff701032",
   "metadata": {},
   "outputs": [],
   "source": [
    "# svm, "
   ]
  }
 ],
 "metadata": {
  "kernelspec": {
   "display_name": "Python 3 (ipykernel)",
   "language": "python",
   "name": "python3"
  },
  "language_info": {
   "codemirror_mode": {
    "name": "ipython",
    "version": 3
   },
   "file_extension": ".py",
   "mimetype": "text/x-python",
   "name": "python",
   "nbconvert_exporter": "python",
   "pygments_lexer": "ipython3",
   "version": "3.9.16"
  }
 },
 "nbformat": 4,
 "nbformat_minor": 5
}
