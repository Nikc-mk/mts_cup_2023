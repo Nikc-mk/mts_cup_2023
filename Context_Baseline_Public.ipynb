{
 "cells": [
  {
   "cell_type": "code",
   "execution_count": 1,
   "id": "28740129",
   "metadata": {},
   "outputs": [],
   "source": [
    "import sys\n",
    "import os\n",
    "import warnings\n",
    "warnings.filterwarnings('ignore')"
   ]
  },
  {
   "cell_type": "code",
   "execution_count": 2,
   "id": "b907cd02",
   "metadata": {
    "pycharm": {
     "is_executing": true
    }
   },
   "outputs": [],
   "source": [
    "import pandas as pd\n",
    "import numpy as np\n",
    "import time\n",
    "import pyarrow.parquet as pq\n",
    "import scipy\n",
    "import bisect\n",
    "import sklearn.metrics as m\n",
    "from catboost import CatBoostClassifier, CatBoostRegressor, Pool\n",
    "from sklearn.model_selection import train_test_split\n",
    "from sklearn.calibration import calibration_curve, CalibratedClassifierCV\n",
    "from sklearn.ensemble import RandomForestClassifier"
   ]
  },
  {
   "cell_type": "code",
   "execution_count": 3,
   "id": "e762eacd",
   "metadata": {
    "pycharm": {
     "is_executing": true
    }
   },
   "outputs": [],
   "source": [
    "SPLIT_SEED = 42\n",
    "DATA_FILE = 'data_out/data_for_learn_parquet_last_1'\n",
    "TARGET_FILE = 'data_in/public_train.pqt'\n",
    "SUBMISSION_FILE = 'data_in/submit_2.pqt'"
   ]
  },
  {
   "cell_type": "code",
   "execution_count": 9,
   "id": "a2f314a1",
   "metadata": {
    "pycharm": {
     "is_executing": true
    }
   },
   "outputs": [],
   "source": [
    "data = pq.read_table(f\"{DATA_FILE}\").to_pandas()"
   ]
  },
  {
   "cell_type": "code",
   "execution_count": 11,
   "id": "6ae215ca",
   "metadata": {},
   "outputs": [],
   "source": [
    "data = data.fillna(0)"
   ]
  },
  {
   "cell_type": "code",
   "execution_count": 12,
   "id": "86590da6",
   "metadata": {},
   "outputs": [
    {
     "name": "stdout",
     "output_type": "stream",
     "text": [
      "<class 'pandas.core.frame.DataFrame'>\n",
      "RangeIndex: 415317 entries, 0 to 415316\n",
      "Data columns (total 51 columns):\n",
      " #   Column                            Non-Null Count   Dtype  \n",
      "---  ------                            --------------   -----  \n",
      " 0   user_id                           415317 non-null  int64  \n",
      " 1   price                             415317 non-null  float64\n",
      " 2   max_request_cnt                   415317 non-null  int64  \n",
      " 3   avg_request_cnt                   415317 non-null  float64\n",
      " 4   count_request_cnt                 415317 non-null  int64  \n",
      " 5   max_night_request_cnt             415317 non-null  float64\n",
      " 6   avg_night_request_cnt             415317 non-null  float64\n",
      " 7   count_night_request_cnt           415317 non-null  float64\n",
      " 8   max_day_request_cnt               415317 non-null  float64\n",
      " 9   avg_day_request_cnt               415317 non-null  float64\n",
      " 10  count_day_request_cnt             415317 non-null  float64\n",
      " 11  max_morning_request_cnt           415317 non-null  float64\n",
      " 12  avg_morning_request_cnt           415317 non-null  float64\n",
      " 13  count_morning_request_cnt         415317 non-null  float64\n",
      " 14  max_evening_request_cnt           415317 non-null  float64\n",
      " 15  avg_evening_request_cnt           415317 non-null  float64\n",
      " 16  count_evening_request_cnt         415317 non-null  float64\n",
      " 17  max_sum_date_request_cnt          415317 non-null  int64  \n",
      " 18  min_sum_date_request_cnt          415317 non-null  int64  \n",
      " 19  avg_sum_date_request_cnt          415317 non-null  float64\n",
      " 20  max_sum_date_day_request_cnt      415317 non-null  float64\n",
      " 21  min_sum_date_day_request_cnt      415317 non-null  float64\n",
      " 22  avg_sum_date_day_request_cnt      415317 non-null  float64\n",
      " 23  max_sum_date_night_request_cnt    415317 non-null  float64\n",
      " 24  min_sum_date_night_request_cnt    415317 non-null  float64\n",
      " 25  avg_sum_date_night_request_cnt    415317 non-null  float64\n",
      " 26  max_sum_date_morning_request_cnt  415317 non-null  float64\n",
      " 27  min_sum_date_morning_request_cnt  415317 non-null  float64\n",
      " 28  avg_sum_date_morning_request_cnt  415317 non-null  float64\n",
      " 29  max_sum_date_evening_request_cnt  415317 non-null  float64\n",
      " 30  min_sum_date_evening_request_cnt  415317 non-null  float64\n",
      " 31  avg_sum_date_evening_request_cnt  415317 non-null  float64\n",
      " 32  count_date                        415317 non-null  int64  \n",
      " 33  count_day_date                    415317 non-null  float64\n",
      " 34  count_night_date                  415317 non-null  float64\n",
      " 35  count_morning_date                415317 non-null  float64\n",
      " 36  count_evening_date                415317 non-null  float64\n",
      " 37  avg_count_part_of_day_date        415317 non-null  float64\n",
      " 38  max_count_part_of_day_date        415317 non-null  int64  \n",
      " 39  min_count_part_of_day_date        415317 non-null  int64  \n",
      " 40  avg_lag_date                      415317 non-null  float64\n",
      " 41  max_lag_date                      415317 non-null  float64\n",
      " 42  min_lag_date                      415317 non-null  float64\n",
      " 43  count_region_name                 415317 non-null  int64  \n",
      " 44  count_city_name                   415317 non-null  int64  \n",
      " 45  top_1_url_sum_request_cnt         415317 non-null  object \n",
      " 46  top_2_url_sum_request_cnt         415317 non-null  object \n",
      " 47  top_3_url_sum_request_cnt         415317 non-null  object \n",
      " 48  top_1_url_count_request_cnt       415317 non-null  object \n",
      " 49  top_2_url_count_request_cnt       415317 non-null  object \n",
      " 50  top_3_url_count_request_cnt       415317 non-null  object \n",
      "dtypes: float64(35), int64(10), object(6)\n",
      "memory usage: 161.6+ MB\n"
     ]
    }
   ],
   "source": [
    "data.info()"
   ]
  },
  {
   "cell_type": "code",
   "execution_count": 13,
   "id": "6c5a6331",
   "metadata": {},
   "outputs": [],
   "source": [
    "all_usr_emb = pq.read_table(f\"data_in/all_usr_emb_f80_i40.parquet\").to_pandas()"
   ]
  },
  {
   "cell_type": "code",
   "execution_count": 14,
   "id": "40e88a09",
   "metadata": {},
   "outputs": [],
   "source": [
    "data = data.merge(all_usr_emb, how = 'left', on = ['user_id'])"
   ]
  },
  {
   "cell_type": "code",
   "execution_count": 15,
   "id": "eca92d5c",
   "metadata": {
    "pycharm": {
     "is_executing": true
    },
    "scrolled": true
   },
   "outputs": [
    {
     "name": "stdout",
     "output_type": "stream",
     "text": [
      "<class 'pandas.core.frame.DataFrame'>\n",
      "Int64Index: 415317 entries, 0 to 415316\n",
      "Columns: 131 entries, user_id to 79\n",
      "dtypes: float32(80), float64(35), int64(10), object(6)\n",
      "memory usage: 291.5+ MB\n"
     ]
    }
   ],
   "source": [
    "data.info()"
   ]
  },
  {
   "cell_type": "code",
   "execution_count": 16,
   "id": "9deaca35",
   "metadata": {},
   "outputs": [],
   "source": [
    "target = pq.read_table(f\"{TARGET_FILE}\").to_pandas()"
   ]
  },
  {
   "cell_type": "code",
   "execution_count": 17,
   "id": "6ae3b874",
   "metadata": {},
   "outputs": [],
   "source": [
    "data_t_is_male = target.merge(data, how = 'left', on = ['user_id'])"
   ]
  },
  {
   "cell_type": "code",
   "execution_count": 18,
   "id": "e9dd6dd4",
   "metadata": {},
   "outputs": [
    {
     "data": {
      "text/plain": [
       "1    135332\n",
       "0    128994\n",
       "Name: is_male, dtype: int64"
      ]
     },
     "execution_count": 18,
     "metadata": {},
     "output_type": "execute_result"
    }
   ],
   "source": [
    "data_t_is_male['is_male'] = data_t_is_male['is_male'].map(str)\n",
    "data_t_is_male = data_t_is_male[data_t_is_male['is_male'] != 'None']\n",
    "data_t_is_male = data_t_is_male[data_t_is_male['is_male'] != 'NA']\n",
    "data_t_is_male['is_male'] = data_t_is_male['is_male'].map(int)\n",
    "data_t_is_male['is_male'].value_counts()"
   ]
  },
  {
   "cell_type": "code",
   "execution_count": 24,
   "id": "1c4ad2ce",
   "metadata": {},
   "outputs": [],
   "source": [
    "cat_features = list(data_t_is_male.select_dtypes(['object']).columns)"
   ]
  },
  {
   "cell_type": "code",
   "execution_count": 25,
   "id": "f648904f",
   "metadata": {},
   "outputs": [
    {
     "name": "stdout",
     "output_type": "stream",
     "text": [
      "['top_1_url_sum_request_cnt', 'top_2_url_sum_request_cnt', 'top_3_url_sum_request_cnt', 'top_1_url_count_request_cnt', 'top_2_url_count_request_cnt', 'top_3_url_count_request_cnt']\n"
     ]
    }
   ],
   "source": [
    "print(cat_features)"
   ]
  },
  {
   "cell_type": "markdown",
   "id": "ed2944b0",
   "metadata": {},
   "source": [
    "## Получим оценку по полу"
   ]
  },
  {
   "cell_type": "code",
   "execution_count": 50,
   "id": "1419fb8a",
   "metadata": {},
   "outputs": [
    {
     "name": "stdout",
     "output_type": "stream",
     "text": [
      "CPU times: user 294 ms, sys: 54.4 ms, total: 349 ms\n",
      "Wall time: 349 ms\n"
     ]
    }
   ],
   "source": [
    "%%time\n",
    "x_train, x_test, y_train, y_test = train_test_split(\\\n",
    "    data_t_is_male.drop(['user_id', 'age', 'is_male'], axis = 1), data_t_is_male['is_male'], test_size = 0.25, random_state = SPLIT_SEED)\n"
   ]
  },
  {
   "cell_type": "code",
   "execution_count": 51,
   "id": "373eee5c",
   "metadata": {},
   "outputs": [],
   "source": [
    "clf_is_male = CatBoostClassifier(thread_count=3\n",
    "                                 , iterations=2000\n",
    "                                 , random_seed=SPLIT_SEED, learning_rate=0.05, early_stopping_rounds=20\n",
    "                                 , eval_metric='AUC'\n",
    "                                 , depth=7\n",
    "                                 , grow_policy='Depthwise'\n",
    "                                 , min_data_in_leaf = 3\n",
    "                                 )"
   ]
  },
  {
   "cell_type": "code",
   "execution_count": 52,
   "id": "3e9e6bd0",
   "metadata": {},
   "outputs": [
    {
     "data": {
      "application/vnd.jupyter.widget-view+json": {
       "model_id": "2b4ecf5532d84693b20ab0523cd7fb87",
       "version_major": 2,
       "version_minor": 0
      },
      "text/plain": [
       "MetricVisualizer(layout=Layout(align_self='stretch', height='500px'))"
      ]
     },
     "metadata": {},
     "output_type": "display_data"
    },
    {
     "name": "stdout",
     "output_type": "stream",
     "text": [
      "GINI по полу 0.683\n",
      "CPU times: user 37min 19s, sys: 36.8 s, total: 37min 56s\n",
      "Wall time: 12min 50s\n"
     ]
    }
   ],
   "source": [
    "%%time\n",
    "clf_is_male.fit(x_train, y_train, verbose = False, cat_features=cat_features\n",
    "                , plot=True\n",
    "                )\n",
    "print(f'GINI по полу {2 * m.roc_auc_score(y_test, clf_is_male.predict_proba(x_test)[:,1]) - 1:2.3f}')\n",
    "# 0.691"
   ]
  },
  {
   "cell_type": "markdown",
   "id": "a3980236",
   "metadata": {},
   "source": [
    "## Получим оценку по возрасту"
   ]
  },
  {
   "cell_type": "code",
   "execution_count": 32,
   "id": "aeaecd00",
   "metadata": {},
   "outputs": [],
   "source": [
    "def age_bucket(x):\n",
    "    return bisect.bisect_right([18,25,35,45,55,65], x)"
   ]
  },
  {
   "cell_type": "code",
   "execution_count": 33,
   "id": "a7ea389c",
   "metadata": {},
   "outputs": [],
   "source": [
    "data_t_age = target.merge(data, how = 'left', on = ['user_id'])"
   ]
  },
  {
   "cell_type": "code",
   "execution_count": 34,
   "id": "4a4f4726",
   "metadata": {},
   "outputs": [],
   "source": [
    "data_t_age['age'] = data_t_age['age'].map(str)\n",
    "data_t_age = data_t_age[data_t_age['age'] != 'None']\n",
    "data_t_age = data_t_age[data_t_age['age'] != 'NA']\n",
    "data_t_age['age'] = data_t_age['age'].map(float)"
   ]
  },
  {
   "cell_type": "code",
   "execution_count": 35,
   "id": "5d38c185",
   "metadata": {},
   "outputs": [],
   "source": [
    "data_t_age['age'] = data_t_age['age'].map(age_bucket)\n",
    "# sns.histplot(df['age'], bins = 7)"
   ]
  },
  {
   "cell_type": "code",
   "execution_count": 36,
   "id": "46b226e3",
   "metadata": {},
   "outputs": [],
   "source": [
    "data_t_age = data_t_age[data_t_age['age'] != 0]"
   ]
  },
  {
   "cell_type": "code",
   "execution_count": 57,
   "id": "3453037d",
   "metadata": {},
   "outputs": [
    {
     "data": {
      "text/plain": [
       "2    85212\n",
       "3    84065\n",
       "4    42083\n",
       "1    25969\n",
       "5    25420\n",
       "6     6900\n",
       "Name: age, dtype: int64"
      ]
     },
     "execution_count": 57,
     "metadata": {},
     "output_type": "execute_result"
    }
   ],
   "source": [
    "data_t_age['age'].value_counts()"
   ]
  },
  {
   "cell_type": "code",
   "execution_count": 58,
   "id": "f145308d",
   "metadata": {},
   "outputs": [],
   "source": [
    "x_train, x_test, y_train, y_test = train_test_split(\\\n",
    "    data_t_age.drop(['user_id', 'age', 'is_male'], axis = 1), data_t_age['age'], test_size = 0.25, random_state = SPLIT_SEED)\n",
    "\n",
    "clf = CatBoostClassifier(thread_count = 3\n",
    "                         , iterations = 1000\n",
    "                         , random_seed = SPLIT_SEED, learning_rate = 0.05, early_stopping_rounds = 20\n",
    "                         , eval_metric = 'AUC', loss_function = 'MultiClass'\n",
    "                         , classes_count = 6\n",
    "                         , class_names = [1, 2, 3, 4, 5, 6]\n",
    "                        )"
   ]
  },
  {
   "cell_type": "code",
   "execution_count": null,
   "id": "e51e16fb",
   "metadata": {},
   "outputs": [
    {
     "data": {
      "application/vnd.jupyter.widget-view+json": {
       "model_id": "c7b09108b89a49aa84bace9457e01366",
       "version_major": 2,
       "version_minor": 0
      },
      "text/plain": [
       "MetricVisualizer(layout=Layout(align_self='stretch', height='500px'))"
      ]
     },
     "metadata": {},
     "output_type": "display_data"
    },
    {
     "name": "stderr",
     "output_type": "stream",
     "text": [
      "Found only 6 unique classes in the data, but have defined 7 classes. Probably something is wrong with data.\n"
     ]
    }
   ],
   "source": [
    "%%time\n",
    "\n",
    "clf.fit(x_train, y_train, verbose = False, plot=True, cat_features=cat_features)\n",
    "print(m.classification_report(y_test, clf.predict(x_test), \\\n",
    "                            target_names = ['18-25','25-34', '35-44', '45-54', '55-65', '65+']))"
   ]
  },
  {
   "cell_type": "markdown",
   "id": "f55aa8ec",
   "metadata": {},
   "source": [
    "## Сабмит"
   ]
  },
  {
   "cell_type": "code",
   "execution_count": null,
   "id": "a79ecac8",
   "metadata": {},
   "outputs": [],
   "source": [
    "print(m.classification_report(y_test, clf.predict(x_test))"
   ]
  },
  {
   "cell_type": "code",
   "execution_count": 43,
   "id": "0a65b51e",
   "metadata": {},
   "outputs": [],
   "source": [
    "submit = pq.read_table(f\"{SUBMISSION_FILE}\").to_pandas()"
   ]
  },
  {
   "cell_type": "code",
   "execution_count": 44,
   "id": "334717ee",
   "metadata": {},
   "outputs": [],
   "source": [
    "submit_predict_data = submit.merge(data, how = 'left', on = ['user_id'])"
   ]
  },
  {
   "cell_type": "code",
   "execution_count": 32,
   "id": "9eef492e",
   "metadata": {},
   "outputs": [],
   "source": [
    "# submit_predict_data = submit_predict_data.fillna(0)"
   ]
  },
  {
   "cell_type": "code",
   "execution_count": 45,
   "id": "e66fb268",
   "metadata": {},
   "outputs": [
    {
     "name": "stdout",
     "output_type": "stream",
     "text": [
      "<class 'pandas.core.frame.DataFrame'>\n",
      "Int64Index: 144724 entries, 221301 to 145315\n",
      "Data columns (total 3 columns):\n",
      " #   Column   Non-Null Count   Dtype  \n",
      "---  ------   --------------   -----  \n",
      " 0   user_id  144724 non-null  int64  \n",
      " 1   is_male  144724 non-null  float64\n",
      " 2   age      144724 non-null  int64  \n",
      "dtypes: float64(1), int64(2)\n",
      "memory usage: 4.4 MB\n"
     ]
    }
   ],
   "source": [
    "submit['is_male'] = clf_is_male.predict_proba(submit_predict_data.drop(['user_id'], axis = 1))[:,1]\n",
    "submit['age'] = clf.predict(submit_predict_data.drop(['user_id'], axis = 1))\n",
    "submit.info()"
   ]
  },
  {
   "cell_type": "code",
   "execution_count": 34,
   "id": "36a46435",
   "metadata": {},
   "outputs": [
    {
     "data": {
      "text/html": [
       "<div>\n",
       "<style scoped>\n",
       "    .dataframe tbody tr th:only-of-type {\n",
       "        vertical-align: middle;\n",
       "    }\n",
       "\n",
       "    .dataframe tbody tr th {\n",
       "        vertical-align: top;\n",
       "    }\n",
       "\n",
       "    .dataframe thead th {\n",
       "        text-align: right;\n",
       "    }\n",
       "</style>\n",
       "<table border=\"1\" class=\"dataframe\">\n",
       "  <thead>\n",
       "    <tr style=\"text-align: right;\">\n",
       "      <th></th>\n",
       "      <th>user_id</th>\n",
       "      <th>is_male</th>\n",
       "      <th>age</th>\n",
       "    </tr>\n",
       "  </thead>\n",
       "  <tbody>\n",
       "    <tr>\n",
       "      <th>221301</th>\n",
       "      <td>221301</td>\n",
       "      <td>0.918824</td>\n",
       "      <td>2</td>\n",
       "    </tr>\n",
       "    <tr>\n",
       "      <th>31271</th>\n",
       "      <td>31271</td>\n",
       "      <td>0.472104</td>\n",
       "      <td>3</td>\n",
       "    </tr>\n",
       "    <tr>\n",
       "      <th>211594</th>\n",
       "      <td>211594</td>\n",
       "      <td>0.441421</td>\n",
       "      <td>3</td>\n",
       "    </tr>\n",
       "    <tr>\n",
       "      <th>253119</th>\n",
       "      <td>253119</td>\n",
       "      <td>0.474605</td>\n",
       "      <td>2</td>\n",
       "    </tr>\n",
       "    <tr>\n",
       "      <th>192578</th>\n",
       "      <td>192578</td>\n",
       "      <td>0.841219</td>\n",
       "      <td>2</td>\n",
       "    </tr>\n",
       "  </tbody>\n",
       "</table>\n",
       "</div>"
      ],
      "text/plain": [
       "        user_id   is_male  age\n",
       "221301   221301  0.918824    2\n",
       "31271     31271  0.472104    3\n",
       "211594   211594  0.441421    3\n",
       "253119   253119  0.474605    2\n",
       "192578   192578  0.841219    2"
      ]
     },
     "execution_count": 34,
     "metadata": {},
     "output_type": "execute_result"
    }
   ],
   "source": [
    "submit.head()"
   ]
  },
  {
   "cell_type": "code",
   "execution_count": 46,
   "id": "49280431",
   "metadata": {},
   "outputs": [],
   "source": [
    "submit.to_csv(f'data_out/sample_submission.csv', index = False, mode='w')"
   ]
  },
  {
   "cell_type": "code",
   "execution_count": null,
   "id": "bbca5956",
   "metadata": {},
   "outputs": [],
   "source": []
  },
  {
   "cell_type": "code",
   "execution_count": 42,
   "id": "4455aab2",
   "metadata": {},
   "outputs": [
    {
     "data": {
      "text/html": [
       "<div>\n",
       "<style scoped>\n",
       "    .dataframe tbody tr th:only-of-type {\n",
       "        vertical-align: middle;\n",
       "    }\n",
       "\n",
       "    .dataframe tbody tr th {\n",
       "        vertical-align: top;\n",
       "    }\n",
       "\n",
       "    .dataframe thead th {\n",
       "        text-align: right;\n",
       "    }\n",
       "</style>\n",
       "<table border=\"1\" class=\"dataframe\">\n",
       "  <thead>\n",
       "    <tr style=\"text-align: right;\">\n",
       "      <th></th>\n",
       "      <th>Feature Id</th>\n",
       "      <th>Importances</th>\n",
       "    </tr>\n",
       "  </thead>\n",
       "  <tbody>\n",
       "    <tr>\n",
       "      <th>0</th>\n",
       "      <td>47</td>\n",
       "      <td>2.675131</td>\n",
       "    </tr>\n",
       "    <tr>\n",
       "      <th>1</th>\n",
       "      <td>top_1_url_sum_request_cnt</td>\n",
       "      <td>2.667914</td>\n",
       "    </tr>\n",
       "    <tr>\n",
       "      <th>2</th>\n",
       "      <td>price</td>\n",
       "      <td>2.502949</td>\n",
       "    </tr>\n",
       "    <tr>\n",
       "      <th>3</th>\n",
       "      <td>63</td>\n",
       "      <td>2.463012</td>\n",
       "    </tr>\n",
       "    <tr>\n",
       "      <th>4</th>\n",
       "      <td>top_2_url_sum_request_cnt</td>\n",
       "      <td>2.083147</td>\n",
       "    </tr>\n",
       "    <tr>\n",
       "      <th>5</th>\n",
       "      <td>67</td>\n",
       "      <td>1.997584</td>\n",
       "    </tr>\n",
       "    <tr>\n",
       "      <th>6</th>\n",
       "      <td>45</td>\n",
       "      <td>1.962041</td>\n",
       "    </tr>\n",
       "    <tr>\n",
       "      <th>7</th>\n",
       "      <td>53</td>\n",
       "      <td>1.731931</td>\n",
       "    </tr>\n",
       "    <tr>\n",
       "      <th>8</th>\n",
       "      <td>43</td>\n",
       "      <td>1.646971</td>\n",
       "    </tr>\n",
       "    <tr>\n",
       "      <th>9</th>\n",
       "      <td>32</td>\n",
       "      <td>1.394570</td>\n",
       "    </tr>\n",
       "    <tr>\n",
       "      <th>10</th>\n",
       "      <td>9</td>\n",
       "      <td>1.387353</td>\n",
       "    </tr>\n",
       "    <tr>\n",
       "      <th>11</th>\n",
       "      <td>64</td>\n",
       "      <td>1.344069</td>\n",
       "    </tr>\n",
       "    <tr>\n",
       "      <th>12</th>\n",
       "      <td>top_1_url_count_request_cnt</td>\n",
       "      <td>1.245757</td>\n",
       "    </tr>\n",
       "    <tr>\n",
       "      <th>13</th>\n",
       "      <td>65</td>\n",
       "      <td>1.229714</td>\n",
       "    </tr>\n",
       "    <tr>\n",
       "      <th>14</th>\n",
       "      <td>15</td>\n",
       "      <td>1.217292</td>\n",
       "    </tr>\n",
       "    <tr>\n",
       "      <th>15</th>\n",
       "      <td>top_3_url_sum_request_cnt</td>\n",
       "      <td>1.199686</td>\n",
       "    </tr>\n",
       "    <tr>\n",
       "      <th>16</th>\n",
       "      <td>23</td>\n",
       "      <td>1.170131</td>\n",
       "    </tr>\n",
       "    <tr>\n",
       "      <th>17</th>\n",
       "      <td>30</td>\n",
       "      <td>1.137356</td>\n",
       "    </tr>\n",
       "    <tr>\n",
       "      <th>18</th>\n",
       "      <td>count_morning_date</td>\n",
       "      <td>1.135689</td>\n",
       "    </tr>\n",
       "    <tr>\n",
       "      <th>19</th>\n",
       "      <td>39</td>\n",
       "      <td>1.104001</td>\n",
       "    </tr>\n",
       "    <tr>\n",
       "      <th>20</th>\n",
       "      <td>70</td>\n",
       "      <td>1.095231</td>\n",
       "    </tr>\n",
       "    <tr>\n",
       "      <th>21</th>\n",
       "      <td>75</td>\n",
       "      <td>1.092339</td>\n",
       "    </tr>\n",
       "    <tr>\n",
       "      <th>22</th>\n",
       "      <td>54</td>\n",
       "      <td>1.083226</td>\n",
       "    </tr>\n",
       "    <tr>\n",
       "      <th>23</th>\n",
       "      <td>2</td>\n",
       "      <td>1.073750</td>\n",
       "    </tr>\n",
       "    <tr>\n",
       "      <th>24</th>\n",
       "      <td>41</td>\n",
       "      <td>1.061754</td>\n",
       "    </tr>\n",
       "    <tr>\n",
       "      <th>25</th>\n",
       "      <td>1</td>\n",
       "      <td>1.022367</td>\n",
       "    </tr>\n",
       "    <tr>\n",
       "      <th>26</th>\n",
       "      <td>73</td>\n",
       "      <td>1.019918</td>\n",
       "    </tr>\n",
       "    <tr>\n",
       "      <th>27</th>\n",
       "      <td>48</td>\n",
       "      <td>1.019647</td>\n",
       "    </tr>\n",
       "    <tr>\n",
       "      <th>28</th>\n",
       "      <td>46</td>\n",
       "      <td>1.007179</td>\n",
       "    </tr>\n",
       "    <tr>\n",
       "      <th>29</th>\n",
       "      <td>61</td>\n",
       "      <td>1.000580</td>\n",
       "    </tr>\n",
       "    <tr>\n",
       "      <th>30</th>\n",
       "      <td>50</td>\n",
       "      <td>0.992136</td>\n",
       "    </tr>\n",
       "    <tr>\n",
       "      <th>31</th>\n",
       "      <td>avg_sum_date_evening_request_cnt</td>\n",
       "      <td>0.976034</td>\n",
       "    </tr>\n",
       "    <tr>\n",
       "      <th>32</th>\n",
       "      <td>60</td>\n",
       "      <td>0.967471</td>\n",
       "    </tr>\n",
       "    <tr>\n",
       "      <th>33</th>\n",
       "      <td>31</td>\n",
       "      <td>0.964079</td>\n",
       "    </tr>\n",
       "    <tr>\n",
       "      <th>34</th>\n",
       "      <td>top_2_url_count_request_cnt</td>\n",
       "      <td>0.958606</td>\n",
       "    </tr>\n",
       "    <tr>\n",
       "      <th>35</th>\n",
       "      <td>55</td>\n",
       "      <td>0.951497</td>\n",
       "    </tr>\n",
       "    <tr>\n",
       "      <th>36</th>\n",
       "      <td>24</td>\n",
       "      <td>0.944150</td>\n",
       "    </tr>\n",
       "    <tr>\n",
       "      <th>37</th>\n",
       "      <td>34</td>\n",
       "      <td>0.941711</td>\n",
       "    </tr>\n",
       "    <tr>\n",
       "      <th>38</th>\n",
       "      <td>59</td>\n",
       "      <td>0.936338</td>\n",
       "    </tr>\n",
       "    <tr>\n",
       "      <th>39</th>\n",
       "      <td>10</td>\n",
       "      <td>0.922536</td>\n",
       "    </tr>\n",
       "    <tr>\n",
       "      <th>40</th>\n",
       "      <td>13</td>\n",
       "      <td>0.917833</td>\n",
       "    </tr>\n",
       "    <tr>\n",
       "      <th>41</th>\n",
       "      <td>avg_sum_date_night_request_cnt</td>\n",
       "      <td>0.916358</td>\n",
       "    </tr>\n",
       "    <tr>\n",
       "      <th>42</th>\n",
       "      <td>17</td>\n",
       "      <td>0.901243</td>\n",
       "    </tr>\n",
       "    <tr>\n",
       "      <th>43</th>\n",
       "      <td>4</td>\n",
       "      <td>0.899327</td>\n",
       "    </tr>\n",
       "    <tr>\n",
       "      <th>44</th>\n",
       "      <td>16</td>\n",
       "      <td>0.888991</td>\n",
       "    </tr>\n",
       "    <tr>\n",
       "      <th>45</th>\n",
       "      <td>5</td>\n",
       "      <td>0.870584</td>\n",
       "    </tr>\n",
       "    <tr>\n",
       "      <th>46</th>\n",
       "      <td>71</td>\n",
       "      <td>0.865500</td>\n",
       "    </tr>\n",
       "    <tr>\n",
       "      <th>47</th>\n",
       "      <td>6</td>\n",
       "      <td>0.843996</td>\n",
       "    </tr>\n",
       "    <tr>\n",
       "      <th>48</th>\n",
       "      <td>38</td>\n",
       "      <td>0.835155</td>\n",
       "    </tr>\n",
       "    <tr>\n",
       "      <th>49</th>\n",
       "      <td>49</td>\n",
       "      <td>0.833348</td>\n",
       "    </tr>\n",
       "    <tr>\n",
       "      <th>50</th>\n",
       "      <td>11</td>\n",
       "      <td>0.826839</td>\n",
       "    </tr>\n",
       "    <tr>\n",
       "      <th>51</th>\n",
       "      <td>72</td>\n",
       "      <td>0.811782</td>\n",
       "    </tr>\n",
       "    <tr>\n",
       "      <th>52</th>\n",
       "      <td>52</td>\n",
       "      <td>0.811092</td>\n",
       "    </tr>\n",
       "    <tr>\n",
       "      <th>53</th>\n",
       "      <td>0</td>\n",
       "      <td>0.799619</td>\n",
       "    </tr>\n",
       "    <tr>\n",
       "      <th>54</th>\n",
       "      <td>51</td>\n",
       "      <td>0.782934</td>\n",
       "    </tr>\n",
       "    <tr>\n",
       "      <th>55</th>\n",
       "      <td>74</td>\n",
       "      <td>0.779890</td>\n",
       "    </tr>\n",
       "    <tr>\n",
       "      <th>56</th>\n",
       "      <td>7</td>\n",
       "      <td>0.774960</td>\n",
       "    </tr>\n",
       "    <tr>\n",
       "      <th>57</th>\n",
       "      <td>avg_sum_date_day_request_cnt</td>\n",
       "      <td>0.760707</td>\n",
       "    </tr>\n",
       "    <tr>\n",
       "      <th>58</th>\n",
       "      <td>21</td>\n",
       "      <td>0.740016</td>\n",
       "    </tr>\n",
       "    <tr>\n",
       "      <th>59</th>\n",
       "      <td>33</td>\n",
       "      <td>0.738953</td>\n",
       "    </tr>\n",
       "  </tbody>\n",
       "</table>\n",
       "</div>"
      ],
      "text/plain": [
       "                          Feature Id  Importances\n",
       "0                                 47     2.675131\n",
       "1          top_1_url_sum_request_cnt     2.667914\n",
       "2                              price     2.502949\n",
       "3                                 63     2.463012\n",
       "4          top_2_url_sum_request_cnt     2.083147\n",
       "5                                 67     1.997584\n",
       "6                                 45     1.962041\n",
       "7                                 53     1.731931\n",
       "8                                 43     1.646971\n",
       "9                                 32     1.394570\n",
       "10                                 9     1.387353\n",
       "11                                64     1.344069\n",
       "12       top_1_url_count_request_cnt     1.245757\n",
       "13                                65     1.229714\n",
       "14                                15     1.217292\n",
       "15         top_3_url_sum_request_cnt     1.199686\n",
       "16                                23     1.170131\n",
       "17                                30     1.137356\n",
       "18                count_morning_date     1.135689\n",
       "19                                39     1.104001\n",
       "20                                70     1.095231\n",
       "21                                75     1.092339\n",
       "22                                54     1.083226\n",
       "23                                 2     1.073750\n",
       "24                                41     1.061754\n",
       "25                                 1     1.022367\n",
       "26                                73     1.019918\n",
       "27                                48     1.019647\n",
       "28                                46     1.007179\n",
       "29                                61     1.000580\n",
       "30                                50     0.992136\n",
       "31  avg_sum_date_evening_request_cnt     0.976034\n",
       "32                                60     0.967471\n",
       "33                                31     0.964079\n",
       "34       top_2_url_count_request_cnt     0.958606\n",
       "35                                55     0.951497\n",
       "36                                24     0.944150\n",
       "37                                34     0.941711\n",
       "38                                59     0.936338\n",
       "39                                10     0.922536\n",
       "40                                13     0.917833\n",
       "41    avg_sum_date_night_request_cnt     0.916358\n",
       "42                                17     0.901243\n",
       "43                                 4     0.899327\n",
       "44                                16     0.888991\n",
       "45                                 5     0.870584\n",
       "46                                71     0.865500\n",
       "47                                 6     0.843996\n",
       "48                                38     0.835155\n",
       "49                                49     0.833348\n",
       "50                                11     0.826839\n",
       "51                                72     0.811782\n",
       "52                                52     0.811092\n",
       "53                                 0     0.799619\n",
       "54                                51     0.782934\n",
       "55                                74     0.779890\n",
       "56                                 7     0.774960\n",
       "57      avg_sum_date_day_request_cnt     0.760707\n",
       "58                                21     0.740016\n",
       "59                                33     0.738953"
      ]
     },
     "execution_count": 42,
     "metadata": {},
     "output_type": "execute_result"
    }
   ],
   "source": [
    "clf.get_feature_importance(prettified=True).head(60)"
   ]
  },
  {
   "cell_type": "code",
   "execution_count": null,
   "id": "1f832038",
   "metadata": {},
   "outputs": [],
   "source": []
  }
 ],
 "metadata": {
  "kernelspec": {
   "display_name": "Python 3 (ipykernel)",
   "language": "python",
   "name": "python3"
  },
  "language_info": {
   "codemirror_mode": {
    "name": "ipython",
    "version": 3
   },
   "file_extension": ".py",
   "mimetype": "text/x-python",
   "name": "python",
   "nbconvert_exporter": "python",
   "pygments_lexer": "ipython3",
   "version": "3.9.16"
  }
 },
 "nbformat": 4,
 "nbformat_minor": 5
}
