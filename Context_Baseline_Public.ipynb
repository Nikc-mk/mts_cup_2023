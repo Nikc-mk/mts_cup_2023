{
 "cells": [
  {
   "cell_type": "code",
   "execution_count": 1,
   "id": "28740129",
   "metadata": {},
   "outputs": [],
   "source": [
    "import sys\n",
    "import os\n",
    "import warnings\n",
    "warnings.filterwarnings('ignore')"
   ]
  },
  {
   "cell_type": "code",
   "execution_count": 4,
   "id": "b907cd02",
   "metadata": {
    "pycharm": {
     "is_executing": true
    }
   },
   "outputs": [],
   "source": [
    "import pandas as pd\n",
    "import numpy as np\n",
    "import time\n",
    "import pyarrow.parquet as pq\n",
    "import scipy\n",
    "import bisect\n",
    "import sklearn.metrics as m\n",
    "from catboost import CatBoostClassifier, CatBoostRegressor, Pool\n",
    "from sklearn.model_selection import train_test_split\n",
    "from sklearn.calibration import calibration_curve, CalibratedClassifierCV\n",
    "from sklearn.ensemble import RandomForestClassifier"
   ]
  },
  {
   "cell_type": "code",
   "execution_count": 5,
   "id": "e762eacd",
   "metadata": {
    "pycharm": {
     "is_executing": true
    }
   },
   "outputs": [],
   "source": [
    "SPLIT_SEED = 42\n",
    "DATA_FILE = 'data_out/data_for_learn_parquet_last_3'\n",
    "TARGET_FILE = 'data_in/public_train.pqt'\n",
    "SUBMISSION_FILE = 'data_in/submit_2.pqt'"
   ]
  },
  {
   "cell_type": "code",
   "execution_count": 6,
   "id": "a2f314a1",
   "metadata": {
    "pycharm": {
     "is_executing": true
    }
   },
   "outputs": [],
   "source": [
    "data = pq.read_table(f\"{DATA_FILE}\").to_pandas()"
   ]
  },
  {
   "cell_type": "code",
   "execution_count": 7,
   "id": "6ae215ca",
   "metadata": {},
   "outputs": [],
   "source": [
    "data = data.fillna(0)"
   ]
  },
  {
   "cell_type": "code",
   "execution_count": 8,
   "id": "86590da6",
   "metadata": {},
   "outputs": [
    {
     "name": "stdout",
     "output_type": "stream",
     "text": [
      "<class 'pandas.core.frame.DataFrame'>\n",
      "RangeIndex: 415317 entries, 0 to 415316\n",
      "Data columns (total 79 columns):\n",
      " #   Column                                   Non-Null Count   Dtype  \n",
      "---  ------                                   --------------   -----  \n",
      " 0   user_id                                  415317 non-null  int64  \n",
      " 1   price                                    415317 non-null  float64\n",
      " 2   max_request_cnt                          415317 non-null  int64  \n",
      " 3   avg_request_cnt                          415317 non-null  float64\n",
      " 4   count_request_cnt                        415317 non-null  int64  \n",
      " 5   stddev_request_cnt                       415317 non-null  float64\n",
      " 6   stddev_pop_request_cnt                   415317 non-null  float64\n",
      " 7   max_night_request_cnt                    415317 non-null  float64\n",
      " 8   stddev_night_request_cnt                 415317 non-null  float64\n",
      " 9   stddev_pop_night_request_cnt             415317 non-null  float64\n",
      " 10  avg_night_request_cnt                    415317 non-null  float64\n",
      " 11  count_night_request_cnt                  415317 non-null  float64\n",
      " 12  max_day_request_cnt                      415317 non-null  float64\n",
      " 13  stddev_day_request_cnt                   415317 non-null  float64\n",
      " 14  stddev_pop_day_request_cnt               415317 non-null  float64\n",
      " 15  avg_day_request_cnt                      415317 non-null  float64\n",
      " 16  count_day_request_cnt                    415317 non-null  float64\n",
      " 17  max_morning_request_cnt                  415317 non-null  float64\n",
      " 18  stddev_morning_request_cnt               415317 non-null  float64\n",
      " 19  stddev_pop_morning_request_cnt           415317 non-null  float64\n",
      " 20  avg_morning_request_cnt                  415317 non-null  float64\n",
      " 21  count_morning_request_cnt                415317 non-null  float64\n",
      " 22  max_evening_request_cnt                  415317 non-null  float64\n",
      " 23  stddev_evening_request_cnt               415317 non-null  float64\n",
      " 24  stddev_pop_evening_request_cnt           415317 non-null  float64\n",
      " 25  avg_evening_request_cnt                  415317 non-null  float64\n",
      " 26  count_evening_request_cnt                415317 non-null  float64\n",
      " 27  max_sum_date_request_cnt                 415317 non-null  int64  \n",
      " 28  min_sum_date_request_cnt                 415317 non-null  int64  \n",
      " 29  avg_sum_date_request_cnt                 415317 non-null  float64\n",
      " 30  stddev_sum_date_request_cnt              415317 non-null  float64\n",
      " 31  stddev_pop_sum_date_request_cnt          415317 non-null  float64\n",
      " 32  day_max_sum_date_request_cnt             415317 non-null  float64\n",
      " 33  day_min_sum_date_request_cnt             415317 non-null  float64\n",
      " 34  day_avg_sum_date_request_cnt             415317 non-null  float64\n",
      " 35  day_stddev_sum_date_request_cnt          415317 non-null  float64\n",
      " 36  day_stddev_pop_sum_date_request_cnt      415317 non-null  float64\n",
      " 37  night_max_sum_date_request_cnt           415317 non-null  float64\n",
      " 38  night_min_sum_date_request_cnt           415317 non-null  float64\n",
      " 39  night_avg_sum_date_request_cnt           415317 non-null  float64\n",
      " 40  night_stddev_sum_date_request_cnt        415317 non-null  float64\n",
      " 41  night_stddev_pop_sum_date_request_cnt    415317 non-null  float64\n",
      " 42  morning_max_sum_date_request_cnt         415317 non-null  float64\n",
      " 43  morning_min_sum_date_request_cnt         415317 non-null  float64\n",
      " 44  morning_avg_sum_date_request_cnt         415317 non-null  float64\n",
      " 45  morning_stddev_sum_date_request_cnt      415317 non-null  float64\n",
      " 46  morning_stddev_pop_sum_date_request_cnt  415317 non-null  float64\n",
      " 47  evening_max_sum_date_request_cnt         415317 non-null  float64\n",
      " 48  evening_min_sum_date_request_cnt         415317 non-null  float64\n",
      " 49  evening_avg_sum_date_request_cnt         415317 non-null  float64\n",
      " 50  evening_stddev_sum_date_request_cnt      415317 non-null  float64\n",
      " 51  evening_stddev_pop_sum_date_request_cnt  415317 non-null  float64\n",
      " 52  count_date                               415317 non-null  int64  \n",
      " 53  count_day_date                           415317 non-null  float64\n",
      " 54  count_night_date                         415317 non-null  float64\n",
      " 55  count_morning_date                       415317 non-null  float64\n",
      " 56  count_evening_date                       415317 non-null  float64\n",
      " 57  avg_count_part_of_day_date               415317 non-null  float64\n",
      " 58  max_count_part_of_day_date               415317 non-null  int64  \n",
      " 59  min_count_part_of_day_date               415317 non-null  int64  \n",
      " 60  stddev_count_part_of_day_date            415317 non-null  float64\n",
      " 61  stddev_pop_count_part_of_day_date        415317 non-null  float64\n",
      " 62  avg_lag_date                             415317 non-null  float64\n",
      " 63  max_lag_date                             415317 non-null  float64\n",
      " 64  min_lag_date                             415317 non-null  float64\n",
      " 65  stddev_lag_date                          415317 non-null  float64\n",
      " 66  stddev_pop_lag_date                      415317 non-null  float64\n",
      " 67  count_region_name                        415317 non-null  int64  \n",
      " 68  count_city_name                          415317 non-null  int64  \n",
      " 69  top_1_url_sum_request_cnt                415317 non-null  object \n",
      " 70  top_2_url_sum_request_cnt                415317 non-null  object \n",
      " 71  top_3_url_sum_request_cnt                415317 non-null  object \n",
      " 72  top_4_url_sum_request_cnt                415317 non-null  object \n",
      " 73  top_5_url_sum_request_cnt                415317 non-null  object \n",
      " 74  top_1_url_count_request_cnt              415317 non-null  object \n",
      " 75  top_2_url_count_request_cnt              415317 non-null  object \n",
      " 76  top_3_url_count_request_cnt              415317 non-null  object \n",
      " 77  region_name                              415317 non-null  object \n",
      " 78  cpe_model_name                           415317 non-null  object \n",
      "dtypes: float64(59), int64(10), object(10)\n",
      "memory usage: 250.3+ MB\n"
     ]
    }
   ],
   "source": [
    "data.info()"
   ]
  },
  {
   "cell_type": "code",
   "execution_count": 9,
   "id": "6c5a6331",
   "metadata": {},
   "outputs": [
    {
     "name": "stdout",
     "output_type": "stream",
     "text": [
      "<class 'pandas.core.frame.DataFrame'>\n",
      "Int64Index: 415317 entries, 0 to 415316\n",
      "Columns: 159 entries, user_id to 79\n",
      "dtypes: float32(80), float64(59), int64(10), object(10)\n",
      "memory usage: 380.2+ MB\n"
     ]
    }
   ],
   "source": [
    "all_usr_emb = pq.read_table(f\"data_in/all_usr_emb_f80_i40.parquet\").to_pandas()\n",
    "data = data.merge(all_usr_emb, how = 'left', on = ['user_id'])\n",
    "data.info()"
   ]
  },
  {
   "cell_type": "code",
   "execution_count": 10,
   "id": "9deaca35",
   "metadata": {},
   "outputs": [],
   "source": [
    "target = pq.read_table(f\"{TARGET_FILE}\").to_pandas()"
   ]
  },
  {
   "cell_type": "code",
   "execution_count": 11,
   "id": "6ae3b874",
   "metadata": {},
   "outputs": [],
   "source": [
    "data_t_is_male = target.merge(data, how = 'left', on = ['user_id'])"
   ]
  },
  {
   "cell_type": "code",
   "execution_count": 12,
   "id": "e9dd6dd4",
   "metadata": {},
   "outputs": [
    {
     "data": {
      "text/plain": [
       "1    135332\n",
       "0    128994\n",
       "Name: is_male, dtype: int64"
      ]
     },
     "execution_count": 12,
     "metadata": {},
     "output_type": "execute_result"
    }
   ],
   "source": [
    "data_t_is_male['is_male'] = data_t_is_male['is_male'].map(str)\n",
    "data_t_is_male = data_t_is_male[data_t_is_male['is_male'] != 'None']\n",
    "data_t_is_male = data_t_is_male[data_t_is_male['is_male'] != 'NA']\n",
    "data_t_is_male['is_male'] = data_t_is_male['is_male'].map(int)\n",
    "data_t_is_male['is_male'].value_counts()"
   ]
  },
  {
   "cell_type": "code",
   "execution_count": 93,
   "id": "5be6e655",
   "metadata": {},
   "outputs": [],
   "source": [
    "# no_importance = ['count_region_name', 'top_3_url_count_request_cnt', 'count_day_date', 'count_morning_date', 'count_date', 'count_night_date', 'count_evening_date', 'min_sum_date_request_cnt', 'min_sum_date_evening_request_cnt', 'min_sum_date_day_request_cnt', 'min_sum_date_morning_request_cnt', 'min_sum_date_night_request_cnt', 'max_day_request_cnt', 'min_lag_date', 'max_morning_request_cnt', 'max_evening_request_cnt', 'max_request_cnt', 'max_night_request_cnt', 'min_count_part_of_day_date', 'max_count_part_of_day_date']"
   ]
  },
  {
   "cell_type": "code",
   "execution_count": 94,
   "id": "f8b77f89",
   "metadata": {},
   "outputs": [],
   "source": [
    "# data_t_is_male = data_t_is_male.drop(no_importance, axis = 1)"
   ]
  },
  {
   "cell_type": "code",
   "execution_count": 13,
   "id": "1c4ad2ce",
   "metadata": {},
   "outputs": [],
   "source": [
    "cat_features = list(data_t_is_male.select_dtypes(['object']).columns)"
   ]
  },
  {
   "cell_type": "code",
   "execution_count": 14,
   "id": "f648904f",
   "metadata": {},
   "outputs": [
    {
     "name": "stdout",
     "output_type": "stream",
     "text": [
      "['top_1_url_sum_request_cnt', 'top_2_url_sum_request_cnt', 'top_3_url_sum_request_cnt', 'top_4_url_sum_request_cnt', 'top_5_url_sum_request_cnt', 'top_1_url_count_request_cnt', 'top_2_url_count_request_cnt', 'top_3_url_count_request_cnt', 'region_name', 'cpe_model_name']\n"
     ]
    }
   ],
   "source": [
    "print(cat_features)"
   ]
  },
  {
   "cell_type": "code",
   "execution_count": 15,
   "id": "1562169e",
   "metadata": {},
   "outputs": [
    {
     "name": "stdout",
     "output_type": "stream",
     "text": [
      "<class 'pandas.core.frame.DataFrame'>\n",
      "Int64Index: 264326 entries, 0 to 269999\n",
      "Columns: 161 entries, age to 79\n",
      "dtypes: float32(80), float64(60), int64(11), object(10)\n",
      "memory usage: 246.0+ MB\n"
     ]
    }
   ],
   "source": [
    "data_t_is_male.info()"
   ]
  },
  {
   "cell_type": "markdown",
   "id": "ed2944b0",
   "metadata": {},
   "source": [
    "## Получим оценку по полу"
   ]
  },
  {
   "cell_type": "code",
   "execution_count": 16,
   "id": "1419fb8a",
   "metadata": {},
   "outputs": [
    {
     "name": "stdout",
     "output_type": "stream",
     "text": [
      "CPU times: user 380 ms, sys: 91.3 ms, total: 472 ms\n",
      "Wall time: 471 ms\n"
     ]
    }
   ],
   "source": [
    "%%time\n",
    "x_train, x_test, y_train, y_test = train_test_split(\\\n",
    "    data_t_is_male.drop(['user_id', 'age', 'is_male'], axis = 1), data_t_is_male['is_male'], test_size = 0.25, random_state = SPLIT_SEED)\n"
   ]
  },
  {
   "cell_type": "code",
   "execution_count": 17,
   "id": "373eee5c",
   "metadata": {},
   "outputs": [],
   "source": [
    "clf_is_male = CatBoostClassifier(thread_count=3\n",
    "                                 , iterations=2000\n",
    "                                 , random_seed=SPLIT_SEED, learning_rate=0.05, early_stopping_rounds=20\n",
    "                                 , eval_metric='AUC'\n",
    "                                 , depth=7\n",
    "                                 , grow_policy='Depthwise'\n",
    "                                 , min_data_in_leaf = 3\n",
    "                                 )"
   ]
  },
  {
   "cell_type": "code",
   "execution_count": 18,
   "id": "3e9e6bd0",
   "metadata": {
    "scrolled": false
   },
   "outputs": [
    {
     "data": {
      "application/vnd.jupyter.widget-view+json": {
       "model_id": "f7784f61e7764a26b1064a710bd60ccb",
       "version_major": 2,
       "version_minor": 0
      },
      "text/plain": [
       "MetricVisualizer(layout=Layout(align_self='stretch', height='500px'))"
      ]
     },
     "metadata": {},
     "output_type": "display_data"
    },
    {
     "name": "stdout",
     "output_type": "stream",
     "text": [
      "CPU times: user 42min 43s, sys: 37.1 s, total: 43min 20s\n",
      "Wall time: 14min 38s\n"
     ]
    },
    {
     "data": {
      "text/plain": [
       "<catboost.core.CatBoostClassifier at 0x7f7c65f6fa00>"
      ]
     },
     "execution_count": 18,
     "metadata": {},
     "output_type": "execute_result"
    }
   ],
   "source": [
    "%%time\n",
    "clf_is_male.fit(x_train, y_train, verbose = False, cat_features=cat_features\n",
    "                , plot=True\n",
    "                )"
   ]
  },
  {
   "cell_type": "code",
   "execution_count": 19,
   "id": "93839c1d",
   "metadata": {},
   "outputs": [
    {
     "name": "stdout",
     "output_type": "stream",
     "text": [
      "GINI по полу 0.688\n"
     ]
    }
   ],
   "source": [
    "print(f'GINI по полу {2 * m.roc_auc_score(y_test, clf_is_male.predict_proba(x_test)[:,1]) - 1:2.3f}')\n",
    "# 0.688"
   ]
  },
  {
   "cell_type": "markdown",
   "id": "a3980236",
   "metadata": {},
   "source": [
    "## Получим оценку по возрасту"
   ]
  },
  {
   "cell_type": "code",
   "execution_count": 31,
   "id": "aeaecd00",
   "metadata": {},
   "outputs": [],
   "source": [
    "def age_bucket(x):\n",
    "    return bisect.bisect_right([18,25,35,45,55,65], x)"
   ]
  },
  {
   "cell_type": "code",
   "execution_count": 32,
   "id": "a7ea389c",
   "metadata": {},
   "outputs": [],
   "source": [
    "data_t_age = target.merge(data, how = 'left', on = ['user_id'])"
   ]
  },
  {
   "cell_type": "code",
   "execution_count": 34,
   "id": "4a4f4726",
   "metadata": {},
   "outputs": [],
   "source": [
    "data_t_age['age'] = data_t_age['age'].map(str)\n",
    "data_t_age = data_t_age[data_t_age['age'] != 'None']\n",
    "data_t_age = data_t_age[data_t_age['age'] != 'NA']\n",
    "data_t_age['age'] = data_t_age['age'].map(float)"
   ]
  },
  {
   "cell_type": "code",
   "execution_count": 35,
   "id": "5d38c185",
   "metadata": {},
   "outputs": [],
   "source": [
    "data_t_age['age'] = data_t_age['age'].map(age_bucket)\n",
    "# sns.histplot(df['age'], bins = 7)"
   ]
  },
  {
   "cell_type": "code",
   "execution_count": 36,
   "id": "46b226e3",
   "metadata": {},
   "outputs": [],
   "source": [
    "data_t_age = data_t_age[data_t_age['age'] != 0]"
   ]
  },
  {
   "cell_type": "code",
   "execution_count": 37,
   "id": "3453037d",
   "metadata": {},
   "outputs": [
    {
     "data": {
      "text/plain": [
       "2    85212\n",
       "3    84065\n",
       "4    42083\n",
       "1    25969\n",
       "5    25420\n",
       "6     6900\n",
       "Name: age, dtype: int64"
      ]
     },
     "execution_count": 37,
     "metadata": {},
     "output_type": "execute_result"
    }
   ],
   "source": [
    "data_t_age['age'].value_counts()"
   ]
  },
  {
   "cell_type": "code",
   "execution_count": 38,
   "id": "0af95a4b",
   "metadata": {},
   "outputs": [
    {
     "name": "stdout",
     "output_type": "stream",
     "text": [
      "['is_male', 'top_1_url_sum_request_cnt', 'top_2_url_sum_request_cnt', 'top_3_url_sum_request_cnt', 'top_4_url_sum_request_cnt', 'top_5_url_sum_request_cnt', 'top_1_url_count_request_cnt', 'top_2_url_count_request_cnt', 'top_3_url_count_request_cnt', 'region_name', 'cpe_model_name']\n"
     ]
    }
   ],
   "source": [
    "cat_features = list(data_t_age.select_dtypes(['object']).columns)\n",
    "print(cat_features)\n",
    "cat_features = ['top_1_url_sum_request_cnt', 'top_2_url_sum_request_cnt', 'top_3_url_sum_request_cnt', 'top_4_url_sum_request_cnt', 'top_5_url_sum_request_cnt', 'top_1_url_count_request_cnt', 'top_2_url_count_request_cnt', 'top_3_url_count_request_cnt', 'region_name', 'cpe_model_name']"
   ]
  },
  {
   "cell_type": "code",
   "execution_count": 41,
   "id": "f145308d",
   "metadata": {},
   "outputs": [],
   "source": [
    "x_train, x_test, y_train, y_test = train_test_split(\\\n",
    "    data_t_age.drop(['user_id', 'age', 'is_male'], axis = 1), data_t_age['age'], test_size = 0.25, random_state = SPLIT_SEED)\n",
    "\n",
    "clf = CatBoostClassifier(thread_count = 3\n",
    "                         , iterations = 500\n",
    "                         , random_seed = SPLIT_SEED, learning_rate = 0.05, early_stopping_rounds = 20\n",
    "                         , eval_metric = 'AUC', loss_function = 'MultiClass'\n",
    "                         , classes_count = 6\n",
    "                         , class_names = [1, 2, 3, 4, 5, 6]\n",
    "                        )"
   ]
  },
  {
   "cell_type": "code",
   "execution_count": 42,
   "id": "e51e16fb",
   "metadata": {},
   "outputs": [
    {
     "data": {
      "application/vnd.jupyter.widget-view+json": {
       "model_id": "c59bb51896e64bc3aab628ee8c1d66cb",
       "version_major": 2,
       "version_minor": 0
      },
      "text/plain": [
       "MetricVisualizer(layout=Layout(align_self='stretch', height='500px'))"
      ]
     },
     "metadata": {},
     "output_type": "display_data"
    },
    {
     "name": "stdout",
     "output_type": "stream",
     "text": [
      "              precision    recall  f1-score   support\n",
      "\n",
      "       18-25       0.53      0.19      0.27      6596\n",
      "       25-34       0.49      0.62      0.55     21118\n",
      "       35-44       0.41      0.62      0.49     21105\n",
      "       45-54       0.36      0.13      0.19     10507\n",
      "       55-65       0.41      0.20      0.27      6375\n",
      "         65+       0.49      0.01      0.02      1712\n",
      "\n",
      "    accuracy                           0.44     67413\n",
      "   macro avg       0.45      0.29      0.30     67413\n",
      "weighted avg       0.44      0.44      0.41     67413\n",
      "\n",
      "CPU times: user 1h 36min 41s, sys: 3min, total: 1h 39min 42s\n",
      "Wall time: 34min 10s\n"
     ]
    }
   ],
   "source": [
    "%%time\n",
    "\n",
    "clf.fit(x_train, y_train, verbose = False, plot=True, cat_features=cat_features)\n",
    "print(m.classification_report(y_test, clf.predict(x_test), \\\n",
    "                            target_names = ['18-25','25-34', '35-44', '45-54', '55-65', '65+']))"
   ]
  },
  {
   "cell_type": "markdown",
   "id": "f55aa8ec",
   "metadata": {},
   "source": [
    "## Сабмит"
   ]
  },
  {
   "cell_type": "code",
   "execution_count": 117,
   "id": "0a65b51e",
   "metadata": {},
   "outputs": [],
   "source": [
    "submit = pq.read_table(f\"{SUBMISSION_FILE}\").to_pandas()"
   ]
  },
  {
   "cell_type": "code",
   "execution_count": 118,
   "id": "334717ee",
   "metadata": {},
   "outputs": [],
   "source": [
    "submit_predict_data = submit.merge(data, how = 'left', on = ['user_id'])"
   ]
  },
  {
   "cell_type": "code",
   "execution_count": 32,
   "id": "9eef492e",
   "metadata": {},
   "outputs": [],
   "source": [
    "# submit_predict_data = submit_predict_data.fillna(0)"
   ]
  },
  {
   "cell_type": "code",
   "execution_count": 119,
   "id": "e66fb268",
   "metadata": {},
   "outputs": [
    {
     "name": "stdout",
     "output_type": "stream",
     "text": [
      "<class 'pandas.core.frame.DataFrame'>\n",
      "Int64Index: 144724 entries, 221301 to 145315\n",
      "Data columns (total 3 columns):\n",
      " #   Column   Non-Null Count   Dtype  \n",
      "---  ------   --------------   -----  \n",
      " 0   user_id  144724 non-null  int64  \n",
      " 1   is_male  144724 non-null  float64\n",
      " 2   age      144724 non-null  int64  \n",
      "dtypes: float64(1), int64(2)\n",
      "memory usage: 4.4 MB\n"
     ]
    }
   ],
   "source": [
    "submit['is_male'] = clf_is_male.predict_proba(submit_predict_data.drop(['user_id'], axis = 1))[:,1]\n",
    "submit['age'] = clf.predict(submit_predict_data.drop(['user_id'], axis = 1))\n",
    "submit.info()"
   ]
  },
  {
   "cell_type": "code",
   "execution_count": 120,
   "id": "36a46435",
   "metadata": {},
   "outputs": [
    {
     "data": {
      "text/html": [
       "<div>\n",
       "<style scoped>\n",
       "    .dataframe tbody tr th:only-of-type {\n",
       "        vertical-align: middle;\n",
       "    }\n",
       "\n",
       "    .dataframe tbody tr th {\n",
       "        vertical-align: top;\n",
       "    }\n",
       "\n",
       "    .dataframe thead th {\n",
       "        text-align: right;\n",
       "    }\n",
       "</style>\n",
       "<table border=\"1\" class=\"dataframe\">\n",
       "  <thead>\n",
       "    <tr style=\"text-align: right;\">\n",
       "      <th></th>\n",
       "      <th>user_id</th>\n",
       "      <th>is_male</th>\n",
       "      <th>age</th>\n",
       "    </tr>\n",
       "  </thead>\n",
       "  <tbody>\n",
       "    <tr>\n",
       "      <th>221301</th>\n",
       "      <td>221301</td>\n",
       "      <td>0.946883</td>\n",
       "      <td>2</td>\n",
       "    </tr>\n",
       "    <tr>\n",
       "      <th>31271</th>\n",
       "      <td>31271</td>\n",
       "      <td>0.574551</td>\n",
       "      <td>3</td>\n",
       "    </tr>\n",
       "    <tr>\n",
       "      <th>211594</th>\n",
       "      <td>211594</td>\n",
       "      <td>0.459825</td>\n",
       "      <td>2</td>\n",
       "    </tr>\n",
       "    <tr>\n",
       "      <th>253119</th>\n",
       "      <td>253119</td>\n",
       "      <td>0.539220</td>\n",
       "      <td>2</td>\n",
       "    </tr>\n",
       "    <tr>\n",
       "      <th>192578</th>\n",
       "      <td>192578</td>\n",
       "      <td>0.726408</td>\n",
       "      <td>2</td>\n",
       "    </tr>\n",
       "  </tbody>\n",
       "</table>\n",
       "</div>"
      ],
      "text/plain": [
       "        user_id   is_male  age\n",
       "221301   221301  0.946883    2\n",
       "31271     31271  0.574551    3\n",
       "211594   211594  0.459825    2\n",
       "253119   253119  0.539220    2\n",
       "192578   192578  0.726408    2"
      ]
     },
     "execution_count": 120,
     "metadata": {},
     "output_type": "execute_result"
    }
   ],
   "source": [
    "submit.head()"
   ]
  },
  {
   "cell_type": "code",
   "execution_count": 121,
   "id": "49280431",
   "metadata": {},
   "outputs": [],
   "source": [
    "submit.to_csv(f'data_out/sample_submission.csv', index = False, mode='w')"
   ]
  },
  {
   "cell_type": "code",
   "execution_count": 46,
   "id": "bbca5956",
   "metadata": {
    "scrolled": false
   },
   "outputs": [],
   "source": [
    "clf.get_feature_importance(prettified=True).to_csv(f'data_out/importance.csv', index = False, mode='w')"
   ]
  },
  {
   "cell_type": "code",
   "execution_count": 20,
   "id": "4455aab2",
   "metadata": {},
   "outputs": [],
   "source": [
    "importance = clf_is_male.get_feature_importance(prettified=True).tail(60)"
   ]
  },
  {
   "cell_type": "markdown",
   "id": "b6f25531",
   "metadata": {},
   "source": [
    "**Модель классификации по полу сильно ускорилась и немного улучшилась после удаления признаков с Importances < 0.3, после удаления Importances < 0.5 ухудшилавь**"
   ]
  },
  {
   "cell_type": "code",
   "execution_count": 21,
   "id": "1f832038",
   "metadata": {},
   "outputs": [
    {
     "data": {
      "text/html": [
       "<div>\n",
       "<style scoped>\n",
       "    .dataframe tbody tr th:only-of-type {\n",
       "        vertical-align: middle;\n",
       "    }\n",
       "\n",
       "    .dataframe tbody tr th {\n",
       "        vertical-align: top;\n",
       "    }\n",
       "\n",
       "    .dataframe thead th {\n",
       "        text-align: right;\n",
       "    }\n",
       "</style>\n",
       "<table border=\"1\" class=\"dataframe\">\n",
       "  <thead>\n",
       "    <tr style=\"text-align: right;\">\n",
       "      <th></th>\n",
       "      <th>Feature Id</th>\n",
       "      <th>Importances</th>\n",
       "    </tr>\n",
       "  </thead>\n",
       "  <tbody>\n",
       "    <tr>\n",
       "      <th>74</th>\n",
       "      <td>65</td>\n",
       "      <td>0.558375</td>\n",
       "    </tr>\n",
       "    <tr>\n",
       "      <th>75</th>\n",
       "      <td>18</td>\n",
       "      <td>0.548302</td>\n",
       "    </tr>\n",
       "    <tr>\n",
       "      <th>76</th>\n",
       "      <td>count_morning_request_cnt</td>\n",
       "      <td>0.543132</td>\n",
       "    </tr>\n",
       "    <tr>\n",
       "      <th>77</th>\n",
       "      <td>max_sum_date_request_cnt</td>\n",
       "      <td>0.540781</td>\n",
       "    </tr>\n",
       "    <tr>\n",
       "      <th>78</th>\n",
       "      <td>53</td>\n",
       "      <td>0.527146</td>\n",
       "    </tr>\n",
       "    <tr>\n",
       "      <th>79</th>\n",
       "      <td>29</td>\n",
       "      <td>0.523092</td>\n",
       "    </tr>\n",
       "    <tr>\n",
       "      <th>80</th>\n",
       "      <td>50</td>\n",
       "      <td>0.522125</td>\n",
       "    </tr>\n",
       "    <tr>\n",
       "      <th>81</th>\n",
       "      <td>avg_sum_date_request_cnt</td>\n",
       "      <td>0.517819</td>\n",
       "    </tr>\n",
       "    <tr>\n",
       "      <th>82</th>\n",
       "      <td>avg_morning_request_cnt</td>\n",
       "      <td>0.509213</td>\n",
       "    </tr>\n",
       "    <tr>\n",
       "      <th>83</th>\n",
       "      <td>36</td>\n",
       "      <td>0.506564</td>\n",
       "    </tr>\n",
       "    <tr>\n",
       "      <th>84</th>\n",
       "      <td>avg_sum_date_morning_request_cnt</td>\n",
       "      <td>0.504662</td>\n",
       "    </tr>\n",
       "    <tr>\n",
       "      <th>85</th>\n",
       "      <td>avg_day_request_cnt</td>\n",
       "      <td>0.502766</td>\n",
       "    </tr>\n",
       "    <tr>\n",
       "      <th>86</th>\n",
       "      <td>avg_sum_date_night_request_cnt</td>\n",
       "      <td>0.500136</td>\n",
       "    </tr>\n",
       "    <tr>\n",
       "      <th>87</th>\n",
       "      <td>35</td>\n",
       "      <td>0.500080</td>\n",
       "    </tr>\n",
       "    <tr>\n",
       "      <th>88</th>\n",
       "      <td>74</td>\n",
       "      <td>0.495683</td>\n",
       "    </tr>\n",
       "    <tr>\n",
       "      <th>89</th>\n",
       "      <td>top_2_url_sum_request_cnt</td>\n",
       "      <td>0.495127</td>\n",
       "    </tr>\n",
       "    <tr>\n",
       "      <th>90</th>\n",
       "      <td>78</td>\n",
       "      <td>0.494696</td>\n",
       "    </tr>\n",
       "    <tr>\n",
       "      <th>91</th>\n",
       "      <td>avg_sum_date_evening_request_cnt</td>\n",
       "      <td>0.491434</td>\n",
       "    </tr>\n",
       "    <tr>\n",
       "      <th>92</th>\n",
       "      <td>avg_request_cnt</td>\n",
       "      <td>0.487865</td>\n",
       "    </tr>\n",
       "    <tr>\n",
       "      <th>93</th>\n",
       "      <td>count_night_request_cnt</td>\n",
       "      <td>0.487531</td>\n",
       "    </tr>\n",
       "    <tr>\n",
       "      <th>94</th>\n",
       "      <td>54</td>\n",
       "      <td>0.485313</td>\n",
       "    </tr>\n",
       "    <tr>\n",
       "      <th>95</th>\n",
       "      <td>73</td>\n",
       "      <td>0.481287</td>\n",
       "    </tr>\n",
       "    <tr>\n",
       "      <th>96</th>\n",
       "      <td>69</td>\n",
       "      <td>0.479008</td>\n",
       "    </tr>\n",
       "    <tr>\n",
       "      <th>97</th>\n",
       "      <td>region_name</td>\n",
       "      <td>0.475594</td>\n",
       "    </tr>\n",
       "    <tr>\n",
       "      <th>98</th>\n",
       "      <td>57</td>\n",
       "      <td>0.474585</td>\n",
       "    </tr>\n",
       "    <tr>\n",
       "      <th>99</th>\n",
       "      <td>avg_sum_date_day_request_cnt</td>\n",
       "      <td>0.473885</td>\n",
       "    </tr>\n",
       "    <tr>\n",
       "      <th>100</th>\n",
       "      <td>66</td>\n",
       "      <td>0.470672</td>\n",
       "    </tr>\n",
       "    <tr>\n",
       "      <th>101</th>\n",
       "      <td>count_evening_request_cnt</td>\n",
       "      <td>0.464278</td>\n",
       "    </tr>\n",
       "    <tr>\n",
       "      <th>102</th>\n",
       "      <td>max_sum_date_day_request_cnt</td>\n",
       "      <td>0.456677</td>\n",
       "    </tr>\n",
       "    <tr>\n",
       "      <th>103</th>\n",
       "      <td>top_3_url_sum_request_cnt</td>\n",
       "      <td>0.456158</td>\n",
       "    </tr>\n",
       "    <tr>\n",
       "      <th>104</th>\n",
       "      <td>avg_night_request_cnt</td>\n",
       "      <td>0.448533</td>\n",
       "    </tr>\n",
       "    <tr>\n",
       "      <th>105</th>\n",
       "      <td>61</td>\n",
       "      <td>0.447739</td>\n",
       "    </tr>\n",
       "    <tr>\n",
       "      <th>106</th>\n",
       "      <td>max_sum_date_morning_request_cnt</td>\n",
       "      <td>0.429114</td>\n",
       "    </tr>\n",
       "    <tr>\n",
       "      <th>107</th>\n",
       "      <td>avg_evening_request_cnt</td>\n",
       "      <td>0.424553</td>\n",
       "    </tr>\n",
       "    <tr>\n",
       "      <th>108</th>\n",
       "      <td>72</td>\n",
       "      <td>0.416972</td>\n",
       "    </tr>\n",
       "    <tr>\n",
       "      <th>109</th>\n",
       "      <td>top_4_url_sum_request_cnt</td>\n",
       "      <td>0.396189</td>\n",
       "    </tr>\n",
       "    <tr>\n",
       "      <th>110</th>\n",
       "      <td>max_sum_date_evening_request_cnt</td>\n",
       "      <td>0.355463</td>\n",
       "    </tr>\n",
       "    <tr>\n",
       "      <th>111</th>\n",
       "      <td>top_5_url_sum_request_cnt</td>\n",
       "      <td>0.354070</td>\n",
       "    </tr>\n",
       "    <tr>\n",
       "      <th>112</th>\n",
       "      <td>max_lag_date</td>\n",
       "      <td>0.334972</td>\n",
       "    </tr>\n",
       "    <tr>\n",
       "      <th>113</th>\n",
       "      <td>max_sum_date_night_request_cnt</td>\n",
       "      <td>0.319456</td>\n",
       "    </tr>\n",
       "    <tr>\n",
       "      <th>114</th>\n",
       "      <td>count_region_name</td>\n",
       "      <td>0.261329</td>\n",
       "    </tr>\n",
       "    <tr>\n",
       "      <th>115</th>\n",
       "      <td>top_3_url_count_request_cnt</td>\n",
       "      <td>0.260475</td>\n",
       "    </tr>\n",
       "    <tr>\n",
       "      <th>116</th>\n",
       "      <td>count_day_date</td>\n",
       "      <td>0.254782</td>\n",
       "    </tr>\n",
       "    <tr>\n",
       "      <th>117</th>\n",
       "      <td>count_morning_date</td>\n",
       "      <td>0.252493</td>\n",
       "    </tr>\n",
       "    <tr>\n",
       "      <th>118</th>\n",
       "      <td>count_date</td>\n",
       "      <td>0.227702</td>\n",
       "    </tr>\n",
       "    <tr>\n",
       "      <th>119</th>\n",
       "      <td>count_night_date</td>\n",
       "      <td>0.223293</td>\n",
       "    </tr>\n",
       "    <tr>\n",
       "      <th>120</th>\n",
       "      <td>count_evening_date</td>\n",
       "      <td>0.222673</td>\n",
       "    </tr>\n",
       "    <tr>\n",
       "      <th>121</th>\n",
       "      <td>min_sum_date_request_cnt</td>\n",
       "      <td>0.208218</td>\n",
       "    </tr>\n",
       "    <tr>\n",
       "      <th>122</th>\n",
       "      <td>min_sum_date_evening_request_cnt</td>\n",
       "      <td>0.198315</td>\n",
       "    </tr>\n",
       "    <tr>\n",
       "      <th>123</th>\n",
       "      <td>min_sum_date_day_request_cnt</td>\n",
       "      <td>0.180868</td>\n",
       "    </tr>\n",
       "    <tr>\n",
       "      <th>124</th>\n",
       "      <td>min_sum_date_morning_request_cnt</td>\n",
       "      <td>0.167238</td>\n",
       "    </tr>\n",
       "    <tr>\n",
       "      <th>125</th>\n",
       "      <td>min_sum_date_night_request_cnt</td>\n",
       "      <td>0.150397</td>\n",
       "    </tr>\n",
       "    <tr>\n",
       "      <th>126</th>\n",
       "      <td>max_day_request_cnt</td>\n",
       "      <td>0.146891</td>\n",
       "    </tr>\n",
       "    <tr>\n",
       "      <th>127</th>\n",
       "      <td>min_lag_date</td>\n",
       "      <td>0.132132</td>\n",
       "    </tr>\n",
       "    <tr>\n",
       "      <th>128</th>\n",
       "      <td>max_morning_request_cnt</td>\n",
       "      <td>0.119075</td>\n",
       "    </tr>\n",
       "    <tr>\n",
       "      <th>129</th>\n",
       "      <td>max_evening_request_cnt</td>\n",
       "      <td>0.115836</td>\n",
       "    </tr>\n",
       "    <tr>\n",
       "      <th>130</th>\n",
       "      <td>max_request_cnt</td>\n",
       "      <td>0.115217</td>\n",
       "    </tr>\n",
       "    <tr>\n",
       "      <th>131</th>\n",
       "      <td>max_night_request_cnt</td>\n",
       "      <td>0.093095</td>\n",
       "    </tr>\n",
       "    <tr>\n",
       "      <th>132</th>\n",
       "      <td>min_count_part_of_day_date</td>\n",
       "      <td>0.053075</td>\n",
       "    </tr>\n",
       "    <tr>\n",
       "      <th>133</th>\n",
       "      <td>max_count_part_of_day_date</td>\n",
       "      <td>0.042507</td>\n",
       "    </tr>\n",
       "  </tbody>\n",
       "</table>\n",
       "</div>"
      ],
      "text/plain": [
       "                           Feature Id  Importances\n",
       "74                                 65     0.558375\n",
       "75                                 18     0.548302\n",
       "76          count_morning_request_cnt     0.543132\n",
       "77           max_sum_date_request_cnt     0.540781\n",
       "78                                 53     0.527146\n",
       "79                                 29     0.523092\n",
       "80                                 50     0.522125\n",
       "81           avg_sum_date_request_cnt     0.517819\n",
       "82            avg_morning_request_cnt     0.509213\n",
       "83                                 36     0.506564\n",
       "84   avg_sum_date_morning_request_cnt     0.504662\n",
       "85                avg_day_request_cnt     0.502766\n",
       "86     avg_sum_date_night_request_cnt     0.500136\n",
       "87                                 35     0.500080\n",
       "88                                 74     0.495683\n",
       "89          top_2_url_sum_request_cnt     0.495127\n",
       "90                                 78     0.494696\n",
       "91   avg_sum_date_evening_request_cnt     0.491434\n",
       "92                    avg_request_cnt     0.487865\n",
       "93            count_night_request_cnt     0.487531\n",
       "94                                 54     0.485313\n",
       "95                                 73     0.481287\n",
       "96                                 69     0.479008\n",
       "97                        region_name     0.475594\n",
       "98                                 57     0.474585\n",
       "99       avg_sum_date_day_request_cnt     0.473885\n",
       "100                                66     0.470672\n",
       "101         count_evening_request_cnt     0.464278\n",
       "102      max_sum_date_day_request_cnt     0.456677\n",
       "103         top_3_url_sum_request_cnt     0.456158\n",
       "104             avg_night_request_cnt     0.448533\n",
       "105                                61     0.447739\n",
       "106  max_sum_date_morning_request_cnt     0.429114\n",
       "107           avg_evening_request_cnt     0.424553\n",
       "108                                72     0.416972\n",
       "109         top_4_url_sum_request_cnt     0.396189\n",
       "110  max_sum_date_evening_request_cnt     0.355463\n",
       "111         top_5_url_sum_request_cnt     0.354070\n",
       "112                      max_lag_date     0.334972\n",
       "113    max_sum_date_night_request_cnt     0.319456\n",
       "114                 count_region_name     0.261329\n",
       "115       top_3_url_count_request_cnt     0.260475\n",
       "116                    count_day_date     0.254782\n",
       "117                count_morning_date     0.252493\n",
       "118                        count_date     0.227702\n",
       "119                  count_night_date     0.223293\n",
       "120                count_evening_date     0.222673\n",
       "121          min_sum_date_request_cnt     0.208218\n",
       "122  min_sum_date_evening_request_cnt     0.198315\n",
       "123      min_sum_date_day_request_cnt     0.180868\n",
       "124  min_sum_date_morning_request_cnt     0.167238\n",
       "125    min_sum_date_night_request_cnt     0.150397\n",
       "126               max_day_request_cnt     0.146891\n",
       "127                      min_lag_date     0.132132\n",
       "128           max_morning_request_cnt     0.119075\n",
       "129           max_evening_request_cnt     0.115836\n",
       "130                   max_request_cnt     0.115217\n",
       "131             max_night_request_cnt     0.093095\n",
       "132        min_count_part_of_day_date     0.053075\n",
       "133        max_count_part_of_day_date     0.042507"
      ]
     },
     "execution_count": 21,
     "metadata": {},
     "output_type": "execute_result"
    }
   ],
   "source": [
    "importance.head(60)"
   ]
  },
  {
   "cell_type": "code",
   "execution_count": 64,
   "id": "dd26ecb5",
   "metadata": {},
   "outputs": [
    {
     "name": "stdout",
     "output_type": "stream",
     "text": [
      "['74', 'top_2_url_sum_request_cnt', '78', 'avg_sum_date_evening_request_cnt', 'avg_request_cnt', 'count_night_request_cnt', '54', '73', '69', 'region_name', '57', 'avg_sum_date_day_request_cnt', '66', 'count_evening_request_cnt', 'max_sum_date_day_request_cnt', 'top_3_url_sum_request_cnt', 'avg_night_request_cnt', '61', 'max_sum_date_morning_request_cnt', 'avg_evening_request_cnt', '72', 'top_4_url_sum_request_cnt', 'max_sum_date_evening_request_cnt', 'top_5_url_sum_request_cnt', 'max_lag_date', 'max_sum_date_night_request_cnt', 'count_region_name', 'top_3_url_count_request_cnt', 'count_day_date', 'count_morning_date', 'count_date', 'count_night_date', 'count_evening_date', 'min_sum_date_request_cnt', 'min_sum_date_evening_request_cnt', 'min_sum_date_day_request_cnt', 'min_sum_date_morning_request_cnt', 'min_sum_date_night_request_cnt', 'max_day_request_cnt', 'min_lag_date', 'max_morning_request_cnt', 'max_evening_request_cnt', 'max_request_cnt', 'max_night_request_cnt', 'min_count_part_of_day_date', 'max_count_part_of_day_date']\n"
     ]
    }
   ],
   "source": [
    "no_importance = list(importance[importance['Importances'] < 0.3]['Feature Id'])\n",
    "print(no_importance)"
   ]
  },
  {
   "cell_type": "code",
   "execution_count": null,
   "id": "ff701032",
   "metadata": {},
   "outputs": [],
   "source": [
    "# svm, "
   ]
  }
 ],
 "metadata": {
  "kernelspec": {
   "display_name": "Python 3 (ipykernel)",
   "language": "python",
   "name": "python3"
  },
  "language_info": {
   "codemirror_mode": {
    "name": "ipython",
    "version": 3
   },
   "file_extension": ".py",
   "mimetype": "text/x-python",
   "name": "python",
   "nbconvert_exporter": "python",
   "pygments_lexer": "ipython3",
   "version": "3.9.16"
  }
 },
 "nbformat": 4,
 "nbformat_minor": 5
}
