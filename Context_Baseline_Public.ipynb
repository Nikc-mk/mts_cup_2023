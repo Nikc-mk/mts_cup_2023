{
 "cells": [
  {
   "cell_type": "code",
   "execution_count": 1,
   "id": "28740129",
   "metadata": {},
   "outputs": [],
   "source": [
    "import sys\n",
    "import os\n",
    "import warnings\n",
    "warnings.filterwarnings('ignore')"
   ]
  },
  {
   "cell_type": "code",
   "execution_count": 2,
   "id": "b907cd02",
   "metadata": {
    "pycharm": {
     "is_executing": true
    }
   },
   "outputs": [],
   "source": [
    "import pandas as pd\n",
    "import numpy as np\n",
    "import time\n",
    "import pyarrow.parquet as pq\n",
    "import scipy\n",
    "import bisect\n",
    "import sklearn.metrics as m\n",
    "from catboost import CatBoostClassifier, CatBoostRegressor, Pool\n",
    "from sklearn.model_selection import train_test_split\n",
    "from sklearn.calibration import calibration_curve, CalibratedClassifierCV\n",
    "from sklearn.ensemble import RandomForestClassifier"
   ]
  },
  {
   "cell_type": "code",
   "execution_count": 3,
   "id": "e762eacd",
   "metadata": {
    "pycharm": {
     "is_executing": true
    }
   },
   "outputs": [],
   "source": [
    "SPLIT_SEED = 42\n",
    "DATA_FILE = 'data_out/data_for_learn_parquet_last_1'\n",
    "TARGET_FILE = 'data_in/public_train.pqt'\n",
    "SUBMISSION_FILE = 'data_in/submit_2.pqt'"
   ]
  },
  {
   "cell_type": "code",
   "execution_count": 4,
   "id": "a2f314a1",
   "metadata": {
    "pycharm": {
     "is_executing": true
    }
   },
   "outputs": [],
   "source": [
    "data = pq.read_table(f\"{DATA_FILE}\").to_pandas()"
   ]
  },
  {
   "cell_type": "code",
   "execution_count": 5,
   "id": "6ae215ca",
   "metadata": {},
   "outputs": [],
   "source": [
    "data = data.fillna(0)"
   ]
  },
  {
   "cell_type": "code",
   "execution_count": 6,
   "id": "86590da6",
   "metadata": {},
   "outputs": [
    {
     "name": "stdout",
     "output_type": "stream",
     "text": [
      "<class 'pandas.core.frame.DataFrame'>\n",
      "RangeIndex: 415317 entries, 0 to 415316\n",
      "Data columns (total 51 columns):\n",
      " #   Column                            Non-Null Count   Dtype  \n",
      "---  ------                            --------------   -----  \n",
      " 0   user_id                           415317 non-null  int64  \n",
      " 1   price                             415317 non-null  float64\n",
      " 2   max_request_cnt                   415317 non-null  int64  \n",
      " 3   avg_request_cnt                   415317 non-null  float64\n",
      " 4   count_request_cnt                 415317 non-null  int64  \n",
      " 5   max_night_request_cnt             415317 non-null  float64\n",
      " 6   avg_night_request_cnt             415317 non-null  float64\n",
      " 7   count_night_request_cnt           415317 non-null  float64\n",
      " 8   max_day_request_cnt               415317 non-null  float64\n",
      " 9   avg_day_request_cnt               415317 non-null  float64\n",
      " 10  count_day_request_cnt             415317 non-null  float64\n",
      " 11  max_morning_request_cnt           415317 non-null  float64\n",
      " 12  avg_morning_request_cnt           415317 non-null  float64\n",
      " 13  count_morning_request_cnt         415317 non-null  float64\n",
      " 14  max_evening_request_cnt           415317 non-null  float64\n",
      " 15  avg_evening_request_cnt           415317 non-null  float64\n",
      " 16  count_evening_request_cnt         415317 non-null  float64\n",
      " 17  max_sum_date_request_cnt          415317 non-null  int64  \n",
      " 18  min_sum_date_request_cnt          415317 non-null  int64  \n",
      " 19  avg_sum_date_request_cnt          415317 non-null  float64\n",
      " 20  max_sum_date_day_request_cnt      415317 non-null  float64\n",
      " 21  min_sum_date_day_request_cnt      415317 non-null  float64\n",
      " 22  avg_sum_date_day_request_cnt      415317 non-null  float64\n",
      " 23  max_sum_date_night_request_cnt    415317 non-null  float64\n",
      " 24  min_sum_date_night_request_cnt    415317 non-null  float64\n",
      " 25  avg_sum_date_night_request_cnt    415317 non-null  float64\n",
      " 26  max_sum_date_morning_request_cnt  415317 non-null  float64\n",
      " 27  min_sum_date_morning_request_cnt  415317 non-null  float64\n",
      " 28  avg_sum_date_morning_request_cnt  415317 non-null  float64\n",
      " 29  max_sum_date_evening_request_cnt  415317 non-null  float64\n",
      " 30  min_sum_date_evening_request_cnt  415317 non-null  float64\n",
      " 31  avg_sum_date_evening_request_cnt  415317 non-null  float64\n",
      " 32  count_date                        415317 non-null  int64  \n",
      " 33  count_day_date                    415317 non-null  float64\n",
      " 34  count_night_date                  415317 non-null  float64\n",
      " 35  count_morning_date                415317 non-null  float64\n",
      " 36  count_evening_date                415317 non-null  float64\n",
      " 37  avg_count_part_of_day_date        415317 non-null  float64\n",
      " 38  max_count_part_of_day_date        415317 non-null  int64  \n",
      " 39  min_count_part_of_day_date        415317 non-null  int64  \n",
      " 40  avg_lag_date                      415317 non-null  float64\n",
      " 41  max_lag_date                      415317 non-null  float64\n",
      " 42  min_lag_date                      415317 non-null  float64\n",
      " 43  count_region_name                 415317 non-null  int64  \n",
      " 44  count_city_name                   415317 non-null  int64  \n",
      " 45  top_1_url_sum_request_cnt         415317 non-null  object \n",
      " 46  top_2_url_sum_request_cnt         415317 non-null  object \n",
      " 47  top_3_url_sum_request_cnt         415317 non-null  object \n",
      " 48  top_1_url_count_request_cnt       415317 non-null  object \n",
      " 49  top_2_url_count_request_cnt       415317 non-null  object \n",
      " 50  top_3_url_count_request_cnt       415317 non-null  object \n",
      "dtypes: float64(35), int64(10), object(6)\n",
      "memory usage: 161.6+ MB\n"
     ]
    }
   ],
   "source": [
    "data.info()"
   ]
  },
  {
   "cell_type": "code",
   "execution_count": 7,
   "id": "6c5a6331",
   "metadata": {},
   "outputs": [],
   "source": [
    "all_usr_emb = pq.read_table(f\"data_in/all_usr_emb_f80_i40.parquet\").to_pandas()"
   ]
  },
  {
   "cell_type": "code",
   "execution_count": 8,
   "id": "40e88a09",
   "metadata": {},
   "outputs": [],
   "source": [
    "data = data.merge(all_usr_emb, how = 'left', on = ['user_id'])"
   ]
  },
  {
   "cell_type": "code",
   "execution_count": 9,
   "id": "eca92d5c",
   "metadata": {
    "pycharm": {
     "is_executing": true
    },
    "scrolled": true
   },
   "outputs": [
    {
     "name": "stdout",
     "output_type": "stream",
     "text": [
      "<class 'pandas.core.frame.DataFrame'>\n",
      "Int64Index: 415317 entries, 0 to 415316\n",
      "Columns: 131 entries, user_id to 79\n",
      "dtypes: float32(80), float64(35), int64(10), object(6)\n",
      "memory usage: 291.5+ MB\n"
     ]
    }
   ],
   "source": [
    "data.info()"
   ]
  },
  {
   "cell_type": "code",
   "execution_count": 10,
   "id": "9deaca35",
   "metadata": {},
   "outputs": [],
   "source": [
    "target = pq.read_table(f\"{TARGET_FILE}\").to_pandas()"
   ]
  },
  {
   "cell_type": "code",
   "execution_count": 11,
   "id": "6ae3b874",
   "metadata": {},
   "outputs": [],
   "source": [
    "data_t_is_male = target.merge(data, how = 'left', on = ['user_id'])"
   ]
  },
  {
   "cell_type": "code",
   "execution_count": 12,
   "id": "e9dd6dd4",
   "metadata": {},
   "outputs": [
    {
     "data": {
      "text/plain": [
       "1    135332\n",
       "0    128994\n",
       "Name: is_male, dtype: int64"
      ]
     },
     "execution_count": 12,
     "metadata": {},
     "output_type": "execute_result"
    }
   ],
   "source": [
    "data_t_is_male['is_male'] = data_t_is_male['is_male'].map(str)\n",
    "data_t_is_male = data_t_is_male[data_t_is_male['is_male'] != 'None']\n",
    "data_t_is_male = data_t_is_male[data_t_is_male['is_male'] != 'NA']\n",
    "data_t_is_male['is_male'] = data_t_is_male['is_male'].map(int)\n",
    "data_t_is_male['is_male'].value_counts()"
   ]
  },
  {
   "cell_type": "code",
   "execution_count": 13,
   "id": "1c4ad2ce",
   "metadata": {},
   "outputs": [],
   "source": [
    "cat_features = list(data_t_is_male.select_dtypes(['object']).columns)"
   ]
  },
  {
   "cell_type": "code",
   "execution_count": 14,
   "id": "f648904f",
   "metadata": {},
   "outputs": [
    {
     "name": "stdout",
     "output_type": "stream",
     "text": [
      "['top_1_url_sum_request_cnt', 'top_2_url_sum_request_cnt', 'top_3_url_sum_request_cnt', 'top_1_url_count_request_cnt', 'top_2_url_count_request_cnt', 'top_3_url_count_request_cnt']\n"
     ]
    }
   ],
   "source": [
    "print(cat_features)"
   ]
  },
  {
   "cell_type": "markdown",
   "id": "ed2944b0",
   "metadata": {},
   "source": [
    "## Получим оценку по полу"
   ]
  },
  {
   "cell_type": "code",
   "execution_count": 15,
   "id": "1419fb8a",
   "metadata": {},
   "outputs": [
    {
     "name": "stdout",
     "output_type": "stream",
     "text": [
      "CPU times: user 287 ms, sys: 78.2 ms, total: 365 ms\n",
      "Wall time: 367 ms\n"
     ]
    }
   ],
   "source": [
    "%%time\n",
    "x_train, x_test, y_train, y_test = train_test_split(\\\n",
    "    data_t_is_male.drop(['user_id', 'age', 'is_male'], axis = 1), data_t_is_male['is_male'], test_size = 0.25, random_state = SPLIT_SEED)\n"
   ]
  },
  {
   "cell_type": "code",
   "execution_count": 16,
   "id": "373eee5c",
   "metadata": {},
   "outputs": [],
   "source": [
    "clf_is_male = CatBoostClassifier(thread_count=3\n",
    "                                 , iterations=2000\n",
    "                                 , random_seed=SPLIT_SEED, learning_rate=0.05, early_stopping_rounds=20\n",
    "                                 , eval_metric='AUC'\n",
    "                                 , depth=7\n",
    "                                 , grow_policy='Depthwise'\n",
    "                                 , min_data_in_leaf = 3\n",
    "                                 )"
   ]
  },
  {
   "cell_type": "code",
   "execution_count": 17,
   "id": "3e9e6bd0",
   "metadata": {},
   "outputs": [
    {
     "data": {
      "application/vnd.jupyter.widget-view+json": {
       "model_id": "4dddd991fc7b48b3a800f77a50908b05",
       "version_major": 2,
       "version_minor": 0
      },
      "text/plain": [
       "MetricVisualizer(layout=Layout(align_self='stretch', height='500px'))"
      ]
     },
     "metadata": {},
     "output_type": "display_data"
    },
    {
     "name": "stdout",
     "output_type": "stream",
     "text": [
      "GINI по полу 0.683\n",
      "CPU times: user 36min 22s, sys: 35.6 s, total: 36min 58s\n",
      "Wall time: 12min 30s\n"
     ]
    }
   ],
   "source": [
    "%%time\n",
    "clf_is_male.fit(x_train, y_train, verbose = False, cat_features=cat_features\n",
    "                , plot=True\n",
    "                )\n",
    "print(f'GINI по полу {2 * m.roc_auc_score(y_test, clf_is_male.predict_proba(x_test)[:,1]) - 1:2.3f}')\n",
    "# 0.691"
   ]
  },
  {
   "cell_type": "markdown",
   "id": "a3980236",
   "metadata": {},
   "source": [
    "## Получим оценку по возрасту"
   ]
  },
  {
   "cell_type": "code",
   "execution_count": 18,
   "id": "aeaecd00",
   "metadata": {},
   "outputs": [],
   "source": [
    "def age_bucket(x):\n",
    "    return bisect.bisect_right([18,25,35,45,55,65], x)"
   ]
  },
  {
   "cell_type": "code",
   "execution_count": 19,
   "id": "a7ea389c",
   "metadata": {},
   "outputs": [],
   "source": [
    "data_t_age = target.merge(data, how = 'left', on = ['user_id'])"
   ]
  },
  {
   "cell_type": "code",
   "execution_count": 20,
   "id": "4a4f4726",
   "metadata": {},
   "outputs": [],
   "source": [
    "data_t_age['age'] = data_t_age['age'].map(str)\n",
    "data_t_age = data_t_age[data_t_age['age'] != 'None']\n",
    "data_t_age = data_t_age[data_t_age['age'] != 'NA']\n",
    "data_t_age['age'] = data_t_age['age'].map(float)"
   ]
  },
  {
   "cell_type": "code",
   "execution_count": 21,
   "id": "5d38c185",
   "metadata": {},
   "outputs": [],
   "source": [
    "data_t_age['age'] = data_t_age['age'].map(age_bucket)\n",
    "# sns.histplot(df['age'], bins = 7)"
   ]
  },
  {
   "cell_type": "code",
   "execution_count": 22,
   "id": "46b226e3",
   "metadata": {},
   "outputs": [],
   "source": [
    "data_t_age = data_t_age[data_t_age['age'] != 0]"
   ]
  },
  {
   "cell_type": "code",
   "execution_count": 23,
   "id": "3453037d",
   "metadata": {},
   "outputs": [
    {
     "data": {
      "text/plain": [
       "2    85212\n",
       "3    84065\n",
       "4    42083\n",
       "1    25969\n",
       "5    25420\n",
       "6     6900\n",
       "Name: age, dtype: int64"
      ]
     },
     "execution_count": 23,
     "metadata": {},
     "output_type": "execute_result"
    }
   ],
   "source": [
    "data_t_age['age'].value_counts()"
   ]
  },
  {
   "cell_type": "code",
   "execution_count": 24,
   "id": "f145308d",
   "metadata": {},
   "outputs": [],
   "source": [
    "x_train, x_test, y_train, y_test = train_test_split(\\\n",
    "    data_t_age.drop(['user_id', 'age', 'is_male'], axis = 1), data_t_age['age'], test_size = 0.25, random_state = SPLIT_SEED)\n",
    "\n",
    "clf = CatBoostClassifier(thread_count = 3\n",
    "                         , iterations = 1000\n",
    "                         , random_seed = SPLIT_SEED, learning_rate = 0.05, early_stopping_rounds = 20\n",
    "                         , eval_metric = 'AUC', loss_function = 'MultiClass'\n",
    "                         , classes_count = 6\n",
    "                         , class_names = [1, 2, 3, 4, 5, 6]\n",
    "                        )"
   ]
  },
  {
   "cell_type": "code",
   "execution_count": 25,
   "id": "e51e16fb",
   "metadata": {},
   "outputs": [
    {
     "data": {
      "application/vnd.jupyter.widget-view+json": {
       "model_id": "f754d14971354590826bdc6164725404",
       "version_major": 2,
       "version_minor": 0
      },
      "text/plain": [
       "MetricVisualizer(layout=Layout(align_self='stretch', height='500px'))"
      ]
     },
     "metadata": {},
     "output_type": "display_data"
    },
    {
     "name": "stdout",
     "output_type": "stream",
     "text": [
      "              precision    recall  f1-score   support\n",
      "\n",
      "       18-25       0.52      0.21      0.30      6596\n",
      "       25-34       0.50      0.62      0.55     21118\n",
      "       35-44       0.42      0.62      0.50     21105\n",
      "       45-54       0.37      0.15      0.21     10507\n",
      "       55-65       0.41      0.22      0.28      6375\n",
      "         65+       0.48      0.02      0.04      1712\n",
      "\n",
      "    accuracy                           0.45     67413\n",
      "   macro avg       0.45      0.31      0.32     67413\n",
      "weighted avg       0.45      0.45      0.42     67413\n",
      "\n",
      "CPU times: user 2h 3min 57s, sys: 3min 57s, total: 2h 7min 54s\n",
      "Wall time: 44min 8s\n"
     ]
    }
   ],
   "source": [
    "%%time\n",
    "\n",
    "clf.fit(x_train, y_train, verbose = False, plot=True, cat_features=cat_features)\n",
    "print(m.classification_report(y_test, clf.predict(x_test), \\\n",
    "                            target_names = ['18-25','25-34', '35-44', '45-54', '55-65', '65+']))"
   ]
  },
  {
   "cell_type": "markdown",
   "id": "f55aa8ec",
   "metadata": {},
   "source": [
    "## Сабмит"
   ]
  },
  {
   "cell_type": "code",
   "execution_count": 26,
   "id": "0a65b51e",
   "metadata": {},
   "outputs": [],
   "source": [
    "submit = pq.read_table(f\"{SUBMISSION_FILE}\").to_pandas()"
   ]
  },
  {
   "cell_type": "code",
   "execution_count": 27,
   "id": "334717ee",
   "metadata": {},
   "outputs": [],
   "source": [
    "submit_predict_data = submit.merge(data, how = 'left', on = ['user_id'])"
   ]
  },
  {
   "cell_type": "code",
   "execution_count": 32,
   "id": "9eef492e",
   "metadata": {},
   "outputs": [],
   "source": [
    "# submit_predict_data = submit_predict_data.fillna(0)"
   ]
  },
  {
   "cell_type": "code",
   "execution_count": 28,
   "id": "e66fb268",
   "metadata": {},
   "outputs": [
    {
     "name": "stdout",
     "output_type": "stream",
     "text": [
      "<class 'pandas.core.frame.DataFrame'>\n",
      "Int64Index: 144724 entries, 221301 to 145315\n",
      "Data columns (total 3 columns):\n",
      " #   Column   Non-Null Count   Dtype  \n",
      "---  ------   --------------   -----  \n",
      " 0   user_id  144724 non-null  int64  \n",
      " 1   is_male  144724 non-null  float64\n",
      " 2   age      144724 non-null  int64  \n",
      "dtypes: float64(1), int64(2)\n",
      "memory usage: 4.4 MB\n"
     ]
    }
   ],
   "source": [
    "submit['is_male'] = clf_is_male.predict_proba(submit_predict_data.drop(['user_id'], axis = 1))[:,1]\n",
    "submit['age'] = clf.predict(submit_predict_data.drop(['user_id'], axis = 1))\n",
    "submit.info()"
   ]
  },
  {
   "cell_type": "code",
   "execution_count": 29,
   "id": "36a46435",
   "metadata": {},
   "outputs": [
    {
     "data": {
      "text/html": [
       "<div>\n",
       "<style scoped>\n",
       "    .dataframe tbody tr th:only-of-type {\n",
       "        vertical-align: middle;\n",
       "    }\n",
       "\n",
       "    .dataframe tbody tr th {\n",
       "        vertical-align: top;\n",
       "    }\n",
       "\n",
       "    .dataframe thead th {\n",
       "        text-align: right;\n",
       "    }\n",
       "</style>\n",
       "<table border=\"1\" class=\"dataframe\">\n",
       "  <thead>\n",
       "    <tr style=\"text-align: right;\">\n",
       "      <th></th>\n",
       "      <th>user_id</th>\n",
       "      <th>is_male</th>\n",
       "      <th>age</th>\n",
       "    </tr>\n",
       "  </thead>\n",
       "  <tbody>\n",
       "    <tr>\n",
       "      <th>221301</th>\n",
       "      <td>221301</td>\n",
       "      <td>0.950666</td>\n",
       "      <td>2</td>\n",
       "    </tr>\n",
       "    <tr>\n",
       "      <th>31271</th>\n",
       "      <td>31271</td>\n",
       "      <td>0.610513</td>\n",
       "      <td>3</td>\n",
       "    </tr>\n",
       "    <tr>\n",
       "      <th>211594</th>\n",
       "      <td>211594</td>\n",
       "      <td>0.392797</td>\n",
       "      <td>3</td>\n",
       "    </tr>\n",
       "    <tr>\n",
       "      <th>253119</th>\n",
       "      <td>253119</td>\n",
       "      <td>0.501581</td>\n",
       "      <td>3</td>\n",
       "    </tr>\n",
       "    <tr>\n",
       "      <th>192578</th>\n",
       "      <td>192578</td>\n",
       "      <td>0.725621</td>\n",
       "      <td>2</td>\n",
       "    </tr>\n",
       "  </tbody>\n",
       "</table>\n",
       "</div>"
      ],
      "text/plain": [
       "        user_id   is_male  age\n",
       "221301   221301  0.950666    2\n",
       "31271     31271  0.610513    3\n",
       "211594   211594  0.392797    3\n",
       "253119   253119  0.501581    3\n",
       "192578   192578  0.725621    2"
      ]
     },
     "execution_count": 29,
     "metadata": {},
     "output_type": "execute_result"
    }
   ],
   "source": [
    "submit.head()"
   ]
  },
  {
   "cell_type": "code",
   "execution_count": 30,
   "id": "49280431",
   "metadata": {},
   "outputs": [],
   "source": [
    "submit.to_csv(f'data_out/sample_submission.csv', index = False, mode='w')"
   ]
  },
  {
   "cell_type": "code",
   "execution_count": null,
   "id": "bbca5956",
   "metadata": {},
   "outputs": [],
   "source": []
  },
  {
   "cell_type": "code",
   "execution_count": 31,
   "id": "4455aab2",
   "metadata": {},
   "outputs": [
    {
     "data": {
      "text/html": [
       "<div>\n",
       "<style scoped>\n",
       "    .dataframe tbody tr th:only-of-type {\n",
       "        vertical-align: middle;\n",
       "    }\n",
       "\n",
       "    .dataframe tbody tr th {\n",
       "        vertical-align: top;\n",
       "    }\n",
       "\n",
       "    .dataframe thead th {\n",
       "        text-align: right;\n",
       "    }\n",
       "</style>\n",
       "<table border=\"1\" class=\"dataframe\">\n",
       "  <thead>\n",
       "    <tr style=\"text-align: right;\">\n",
       "      <th></th>\n",
       "      <th>Feature Id</th>\n",
       "      <th>Importances</th>\n",
       "    </tr>\n",
       "  </thead>\n",
       "  <tbody>\n",
       "    <tr>\n",
       "      <th>0</th>\n",
       "      <td>47</td>\n",
       "      <td>3.966487</td>\n",
       "    </tr>\n",
       "    <tr>\n",
       "      <th>1</th>\n",
       "      <td>top_1_url_sum_request_cnt</td>\n",
       "      <td>3.926081</td>\n",
       "    </tr>\n",
       "    <tr>\n",
       "      <th>2</th>\n",
       "      <td>63</td>\n",
       "      <td>3.752681</td>\n",
       "    </tr>\n",
       "    <tr>\n",
       "      <th>3</th>\n",
       "      <td>price</td>\n",
       "      <td>3.151953</td>\n",
       "    </tr>\n",
       "    <tr>\n",
       "      <th>4</th>\n",
       "      <td>45</td>\n",
       "      <td>2.837800</td>\n",
       "    </tr>\n",
       "    <tr>\n",
       "      <th>5</th>\n",
       "      <td>top_2_url_sum_request_cnt</td>\n",
       "      <td>2.783056</td>\n",
       "    </tr>\n",
       "    <tr>\n",
       "      <th>6</th>\n",
       "      <td>67</td>\n",
       "      <td>2.572461</td>\n",
       "    </tr>\n",
       "    <tr>\n",
       "      <th>7</th>\n",
       "      <td>43</td>\n",
       "      <td>2.243659</td>\n",
       "    </tr>\n",
       "    <tr>\n",
       "      <th>8</th>\n",
       "      <td>53</td>\n",
       "      <td>2.126792</td>\n",
       "    </tr>\n",
       "    <tr>\n",
       "      <th>9</th>\n",
       "      <td>9</td>\n",
       "      <td>1.947777</td>\n",
       "    </tr>\n",
       "    <tr>\n",
       "      <th>10</th>\n",
       "      <td>32</td>\n",
       "      <td>1.796012</td>\n",
       "    </tr>\n",
       "    <tr>\n",
       "      <th>11</th>\n",
       "      <td>count_morning_date</td>\n",
       "      <td>1.708896</td>\n",
       "    </tr>\n",
       "    <tr>\n",
       "      <th>12</th>\n",
       "      <td>64</td>\n",
       "      <td>1.694347</td>\n",
       "    </tr>\n",
       "    <tr>\n",
       "      <th>13</th>\n",
       "      <td>70</td>\n",
       "      <td>1.382618</td>\n",
       "    </tr>\n",
       "    <tr>\n",
       "      <th>14</th>\n",
       "      <td>15</td>\n",
       "      <td>1.375361</td>\n",
       "    </tr>\n",
       "    <tr>\n",
       "      <th>15</th>\n",
       "      <td>top_1_url_count_request_cnt</td>\n",
       "      <td>1.343099</td>\n",
       "    </tr>\n",
       "    <tr>\n",
       "      <th>16</th>\n",
       "      <td>50</td>\n",
       "      <td>1.309692</td>\n",
       "    </tr>\n",
       "    <tr>\n",
       "      <th>17</th>\n",
       "      <td>65</td>\n",
       "      <td>1.295404</td>\n",
       "    </tr>\n",
       "    <tr>\n",
       "      <th>18</th>\n",
       "      <td>top_3_url_sum_request_cnt</td>\n",
       "      <td>1.293767</td>\n",
       "    </tr>\n",
       "    <tr>\n",
       "      <th>19</th>\n",
       "      <td>39</td>\n",
       "      <td>1.290564</td>\n",
       "    </tr>\n",
       "    <tr>\n",
       "      <th>20</th>\n",
       "      <td>48</td>\n",
       "      <td>1.268963</td>\n",
       "    </tr>\n",
       "    <tr>\n",
       "      <th>21</th>\n",
       "      <td>31</td>\n",
       "      <td>1.253935</td>\n",
       "    </tr>\n",
       "    <tr>\n",
       "      <th>22</th>\n",
       "      <td>23</td>\n",
       "      <td>1.221289</td>\n",
       "    </tr>\n",
       "    <tr>\n",
       "      <th>23</th>\n",
       "      <td>34</td>\n",
       "      <td>1.217761</td>\n",
       "    </tr>\n",
       "    <tr>\n",
       "      <th>24</th>\n",
       "      <td>avg_sum_date_evening_request_cnt</td>\n",
       "      <td>1.203630</td>\n",
       "    </tr>\n",
       "    <tr>\n",
       "      <th>25</th>\n",
       "      <td>54</td>\n",
       "      <td>1.176671</td>\n",
       "    </tr>\n",
       "    <tr>\n",
       "      <th>26</th>\n",
       "      <td>75</td>\n",
       "      <td>1.167014</td>\n",
       "    </tr>\n",
       "    <tr>\n",
       "      <th>27</th>\n",
       "      <td>41</td>\n",
       "      <td>1.143753</td>\n",
       "    </tr>\n",
       "    <tr>\n",
       "      <th>28</th>\n",
       "      <td>10</td>\n",
       "      <td>1.111647</td>\n",
       "    </tr>\n",
       "    <tr>\n",
       "      <th>29</th>\n",
       "      <td>73</td>\n",
       "      <td>1.102498</td>\n",
       "    </tr>\n",
       "    <tr>\n",
       "      <th>30</th>\n",
       "      <td>46</td>\n",
       "      <td>1.089401</td>\n",
       "    </tr>\n",
       "    <tr>\n",
       "      <th>31</th>\n",
       "      <td>4</td>\n",
       "      <td>1.031671</td>\n",
       "    </tr>\n",
       "    <tr>\n",
       "      <th>32</th>\n",
       "      <td>avg_sum_date_night_request_cnt</td>\n",
       "      <td>1.012488</td>\n",
       "    </tr>\n",
       "    <tr>\n",
       "      <th>33</th>\n",
       "      <td>1</td>\n",
       "      <td>0.997625</td>\n",
       "    </tr>\n",
       "    <tr>\n",
       "      <th>34</th>\n",
       "      <td>30</td>\n",
       "      <td>0.989657</td>\n",
       "    </tr>\n",
       "    <tr>\n",
       "      <th>35</th>\n",
       "      <td>24</td>\n",
       "      <td>0.965485</td>\n",
       "    </tr>\n",
       "    <tr>\n",
       "      <th>36</th>\n",
       "      <td>59</td>\n",
       "      <td>0.963679</td>\n",
       "    </tr>\n",
       "    <tr>\n",
       "      <th>37</th>\n",
       "      <td>61</td>\n",
       "      <td>0.947860</td>\n",
       "    </tr>\n",
       "    <tr>\n",
       "      <th>38</th>\n",
       "      <td>17</td>\n",
       "      <td>0.946739</td>\n",
       "    </tr>\n",
       "    <tr>\n",
       "      <th>39</th>\n",
       "      <td>60</td>\n",
       "      <td>0.945105</td>\n",
       "    </tr>\n",
       "    <tr>\n",
       "      <th>40</th>\n",
       "      <td>55</td>\n",
       "      <td>0.930974</td>\n",
       "    </tr>\n",
       "    <tr>\n",
       "      <th>41</th>\n",
       "      <td>2</td>\n",
       "      <td>0.898069</td>\n",
       "    </tr>\n",
       "    <tr>\n",
       "      <th>42</th>\n",
       "      <td>49</td>\n",
       "      <td>0.885758</td>\n",
       "    </tr>\n",
       "    <tr>\n",
       "      <th>43</th>\n",
       "      <td>11</td>\n",
       "      <td>0.880422</td>\n",
       "    </tr>\n",
       "    <tr>\n",
       "      <th>44</th>\n",
       "      <td>38</td>\n",
       "      <td>0.866994</td>\n",
       "    </tr>\n",
       "    <tr>\n",
       "      <th>45</th>\n",
       "      <td>72</td>\n",
       "      <td>0.856796</td>\n",
       "    </tr>\n",
       "    <tr>\n",
       "      <th>46</th>\n",
       "      <td>avg_sum_date_day_request_cnt</td>\n",
       "      <td>0.837263</td>\n",
       "    </tr>\n",
       "    <tr>\n",
       "      <th>47</th>\n",
       "      <td>14</td>\n",
       "      <td>0.831001</td>\n",
       "    </tr>\n",
       "    <tr>\n",
       "      <th>48</th>\n",
       "      <td>7</td>\n",
       "      <td>0.792421</td>\n",
       "    </tr>\n",
       "    <tr>\n",
       "      <th>49</th>\n",
       "      <td>71</td>\n",
       "      <td>0.787824</td>\n",
       "    </tr>\n",
       "    <tr>\n",
       "      <th>50</th>\n",
       "      <td>6</td>\n",
       "      <td>0.782706</td>\n",
       "    </tr>\n",
       "    <tr>\n",
       "      <th>51</th>\n",
       "      <td>16</td>\n",
       "      <td>0.734692</td>\n",
       "    </tr>\n",
       "    <tr>\n",
       "      <th>52</th>\n",
       "      <td>51</td>\n",
       "      <td>0.728552</td>\n",
       "    </tr>\n",
       "    <tr>\n",
       "      <th>53</th>\n",
       "      <td>13</td>\n",
       "      <td>0.711641</td>\n",
       "    </tr>\n",
       "    <tr>\n",
       "      <th>54</th>\n",
       "      <td>5</td>\n",
       "      <td>0.687276</td>\n",
       "    </tr>\n",
       "    <tr>\n",
       "      <th>55</th>\n",
       "      <td>count_city_name</td>\n",
       "      <td>0.678754</td>\n",
       "    </tr>\n",
       "    <tr>\n",
       "      <th>56</th>\n",
       "      <td>52</td>\n",
       "      <td>0.678254</td>\n",
       "    </tr>\n",
       "    <tr>\n",
       "      <th>57</th>\n",
       "      <td>count_day_date</td>\n",
       "      <td>0.668176</td>\n",
       "    </tr>\n",
       "    <tr>\n",
       "      <th>58</th>\n",
       "      <td>74</td>\n",
       "      <td>0.661021</td>\n",
       "    </tr>\n",
       "    <tr>\n",
       "      <th>59</th>\n",
       "      <td>22</td>\n",
       "      <td>0.654560</td>\n",
       "    </tr>\n",
       "  </tbody>\n",
       "</table>\n",
       "</div>"
      ],
      "text/plain": [
       "                          Feature Id  Importances\n",
       "0                                 47     3.966487\n",
       "1          top_1_url_sum_request_cnt     3.926081\n",
       "2                                 63     3.752681\n",
       "3                              price     3.151953\n",
       "4                                 45     2.837800\n",
       "5          top_2_url_sum_request_cnt     2.783056\n",
       "6                                 67     2.572461\n",
       "7                                 43     2.243659\n",
       "8                                 53     2.126792\n",
       "9                                  9     1.947777\n",
       "10                                32     1.796012\n",
       "11                count_morning_date     1.708896\n",
       "12                                64     1.694347\n",
       "13                                70     1.382618\n",
       "14                                15     1.375361\n",
       "15       top_1_url_count_request_cnt     1.343099\n",
       "16                                50     1.309692\n",
       "17                                65     1.295404\n",
       "18         top_3_url_sum_request_cnt     1.293767\n",
       "19                                39     1.290564\n",
       "20                                48     1.268963\n",
       "21                                31     1.253935\n",
       "22                                23     1.221289\n",
       "23                                34     1.217761\n",
       "24  avg_sum_date_evening_request_cnt     1.203630\n",
       "25                                54     1.176671\n",
       "26                                75     1.167014\n",
       "27                                41     1.143753\n",
       "28                                10     1.111647\n",
       "29                                73     1.102498\n",
       "30                                46     1.089401\n",
       "31                                 4     1.031671\n",
       "32    avg_sum_date_night_request_cnt     1.012488\n",
       "33                                 1     0.997625\n",
       "34                                30     0.989657\n",
       "35                                24     0.965485\n",
       "36                                59     0.963679\n",
       "37                                61     0.947860\n",
       "38                                17     0.946739\n",
       "39                                60     0.945105\n",
       "40                                55     0.930974\n",
       "41                                 2     0.898069\n",
       "42                                49     0.885758\n",
       "43                                11     0.880422\n",
       "44                                38     0.866994\n",
       "45                                72     0.856796\n",
       "46      avg_sum_date_day_request_cnt     0.837263\n",
       "47                                14     0.831001\n",
       "48                                 7     0.792421\n",
       "49                                71     0.787824\n",
       "50                                 6     0.782706\n",
       "51                                16     0.734692\n",
       "52                                51     0.728552\n",
       "53                                13     0.711641\n",
       "54                                 5     0.687276\n",
       "55                   count_city_name     0.678754\n",
       "56                                52     0.678254\n",
       "57                    count_day_date     0.668176\n",
       "58                                74     0.661021\n",
       "59                                22     0.654560"
      ]
     },
     "execution_count": 31,
     "metadata": {},
     "output_type": "execute_result"
    }
   ],
   "source": [
    "clf.get_feature_importance(prettified=True).head(60)"
   ]
  },
  {
   "cell_type": "code",
   "execution_count": null,
   "id": "1f832038",
   "metadata": {},
   "outputs": [],
   "source": []
  }
 ],
 "metadata": {
  "kernelspec": {
   "display_name": "Python 3 (ipykernel)",
   "language": "python",
   "name": "python3"
  },
  "language_info": {
   "codemirror_mode": {
    "name": "ipython",
    "version": 3
   },
   "file_extension": ".py",
   "mimetype": "text/x-python",
   "name": "python",
   "nbconvert_exporter": "python",
   "pygments_lexer": "ipython3",
   "version": "3.9.16"
  }
 },
 "nbformat": 4,
 "nbformat_minor": 5
}
