{
 "cells": [
  {
   "cell_type": "code",
   "execution_count": 1,
   "metadata": {
    "tags": []
   },
   "outputs": [],
   "source": [
    "import sys\n",
    "import os\n",
    "# sys.path.append('/home/Nikolay/spark/spark-3.2.3-bin-hadoop3.2/python/lib/py4j-0.10.9.5-src.zip')\n",
    "# sys.path.append('/home/Nikolay/spark/spark-3.2.3-bin-hadoop3.2/python')\n",
    "# os.environ[\"SPARK_HOME\"] = '/home/Nikolay/spark/spark-3.2.3-bin-hadoop3.2'\n",
    "# os.environ[\"JAVA_HOME\"] = '/usr/lib/jvm/java-11-openjdk-11.0.18.0.10-1.fc37.x86_64'\n",
    "# os.environ[\"PYSPARK_SUBMIT_ARGS\"] =\"--master local[2] pyspark-shell\"\n",
    "# os.environ['PYSPARK_DRIVER_PYTHON'] = 'ipython ./bin/pyspark'\n",
    "# os.environ['PYSPARK_DRIVER_PYTHON'] = 'jupyter PYSPARK_DRIVER_PYTHON_OPTS=notebook ./bin/pyspark'"
   ]
  },
  {
   "cell_type": "code",
   "execution_count": 2,
   "metadata": {
    "collapsed": false,
    "jupyter": {
     "outputs_hidden": false
    },
    "tags": []
   },
   "outputs": [],
   "source": [
    "import warnings\n",
    "warnings.filterwarnings('ignore')\n",
    "import time\n",
    "\n",
    "from pyspark.sql import SparkSession\n",
    "import pyspark.sql.functions as F\n"
   ]
  },
  {
   "cell_type": "code",
   "execution_count": 3,
   "metadata": {
    "collapsed": false,
    "jupyter": {
     "outputs_hidden": false
    },
    "tags": []
   },
   "outputs": [
    {
     "data": {
      "text/html": [
       "\n",
       "            <div>\n",
       "                <p><b>SparkSession - hive</b></p>\n",
       "                \n",
       "        <div>\n",
       "            <p><b>SparkContext</b></p>\n",
       "\n",
       "            <p><a href=\"http://5a34cbc5025c:4040\">Spark UI</a></p>\n",
       "\n",
       "            <dl>\n",
       "              <dt>Version</dt>\n",
       "                <dd><code>v3.3.1</code></dd>\n",
       "              <dt>Master</dt>\n",
       "                <dd><code>local</code></dd>\n",
       "              <dt>AppName</dt>\n",
       "                <dd><code>test-1</code></dd>\n",
       "            </dl>\n",
       "        </div>\n",
       "        \n",
       "            </div>\n",
       "        "
      ],
      "text/plain": [
       "<pyspark.sql.session.SparkSession at 0x7f07d98e0bb0>"
      ]
     },
     "execution_count": 3,
     "metadata": {},
     "output_type": "execute_result"
    }
   ],
   "source": [
    "spark = SparkSession.builder.master(\"local\").enableHiveSupport().appName(\"test-1\").getOrCreate()\n",
    "spark"
   ]
  },
  {
   "cell_type": "code",
   "execution_count": 4,
   "metadata": {
    "collapsed": false,
    "jupyter": {
     "outputs_hidden": false
    },
    "tags": []
   },
   "outputs": [],
   "source": [
    "df = spark.read.format(\"parquet\").load('data_in/competition_data_final_pqt/')"
   ]
  },
  {
   "cell_type": "code",
   "execution_count": 5,
   "metadata": {
    "tags": []
   },
   "outputs": [
    {
     "name": "stdout",
     "output_type": "stream",
     "text": [
      "root\n",
      " |-- region_name: string (nullable = true)\n",
      " |-- city_name: string (nullable = true)\n",
      " |-- cpe_manufacturer_name: string (nullable = true)\n",
      " |-- cpe_model_name: string (nullable = true)\n",
      " |-- url_host: string (nullable = true)\n",
      " |-- cpe_type_cd: string (nullable = true)\n",
      " |-- cpe_model_os_type: string (nullable = true)\n",
      " |-- price: double (nullable = true)\n",
      " |-- date: date (nullable = true)\n",
      " |-- part_of_day: string (nullable = true)\n",
      " |-- request_cnt: long (nullable = true)\n",
      " |-- user_id: long (nullable = true)\n",
      "\n"
     ]
    }
   ],
   "source": [
    "# Схема данных\n",
    "df.printSchema()"
   ]
  },
  {
   "cell_type": "markdown",
   "metadata": {},
   "source": [
    "В данных имеется: \n",
    "    3 числовых столбца\n",
    "    1 дата\n",
    "    остальные столбцы со строками"
   ]
  },
  {
   "cell_type": "code",
   "execution_count": 7,
   "metadata": {
    "tags": []
   },
   "outputs": [
    {
     "name": "stdout",
     "output_type": "stream",
     "text": [
      "-RECORD 0-----------------------------------\n",
      " region_name           | Краснодарский край \n",
      " city_name             | Краснодар          \n",
      " cpe_manufacturer_name | Apple              \n",
      " cpe_model_name        | iPhone 7           \n",
      " url_host              | ad.adriver.ru      \n",
      " cpe_type_cd           | smartphone         \n",
      " cpe_model_os_type     | iOS                \n",
      " price                 | 20368.0            \n",
      " date                  | 2022-06-15         \n",
      " part_of_day           | morning            \n",
      " request_cnt           | 1                  \n",
      " user_id               | 45098              \n",
      "only showing top 1 row\n",
      "\n"
     ]
    }
   ],
   "source": [
    "df.show(1, vertical=True)"
   ]
  },
  {
   "cell_type": "code",
   "execution_count": 8,
   "metadata": {
    "tags": []
   },
   "outputs": [
    {
     "name": "stdout",
     "output_type": "stream",
     "text": [
      "+-------+------------------+------------------+------------------+\n",
      "|summary|             price|       request_cnt|           user_id|\n",
      "+-------+------------------+------------------+------------------+\n",
      "|  count|         316309953|         322899435|         322899435|\n",
      "|   mean| 33085.37368604712|1.7241966186778865|207098.27418957857|\n",
      "| stddev|25835.916241525058|1.2138351741492754| 120058.3629955374|\n",
      "|    min|              90.0|                 1|                 0|\n",
      "|    max|          195657.0|                16|            415316|\n",
      "+-------+------------------+------------------+------------------+\n",
      "\n",
      "CPU times: user 6.79 ms, sys: 5.38 ms, total: 12.2 ms\n",
      "Wall time: 24.9 s\n"
     ]
    }
   ],
   "source": [
    "%%time\n",
    "# Посмотрим разброс значения для числовых данных\n",
    "df.select(\"price\", \"request_cnt\", \"user_id\").describe().show()"
   ]
  },
  {
   "cell_type": "markdown",
   "metadata": {},
   "source": [
    "### Анализ типов устройств"
   ]
  },
  {
   "cell_type": "code",
   "execution_count": 11,
   "metadata": {
    "tags": []
   },
   "outputs": [
    {
     "name": "stdout",
     "output_type": "stream",
     "text": [
      "CPU times: user 4.32 ms, sys: 4.57 ms, total: 8.89 ms\n",
      "Wall time: 15 s\n"
     ]
    },
    {
     "data": {
      "text/plain": [
       "322781599"
      ]
     },
     "execution_count": 11,
     "metadata": {},
     "output_type": "execute_result"
    }
   ],
   "source": [
    "%%time\n",
    "# Посчитаем количество записей с типом устройства \"смартфон\" = 322 781 599\n",
    "df.filter(\"cpe_type_cd = 'smartphone'\").count()"
   ]
  },
  {
   "cell_type": "code",
   "execution_count": 25,
   "metadata": {
    "tags": []
   },
   "outputs": [
    {
     "name": "stdout",
     "output_type": "stream",
     "text": [
      "+-----------+---------+\n",
      "|cpe_type_cd|    count|\n",
      "+-----------+---------+\n",
      "|      plain|    36116|\n",
      "| smartphone|322781599|\n",
      "|     tablet|    53768|\n",
      "|    phablet|    27952|\n",
      "+-----------+---------+\n",
      "\n",
      "CPU times: user 10.4 ms, sys: 4.33 ms, total: 14.7 ms\n",
      "Wall time: 27.8 s\n"
     ]
    }
   ],
   "source": [
    "%%time\n",
    "# Посчитаем количество записей с различными типа устройств\n",
    "df.groupBy(\"cpe_type_cd\").count().show(5)"
   ]
  },
  {
   "cell_type": "markdown",
   "metadata": {},
   "source": [
    "Подавляющее количество записей с типом устройства smartphone 322 781 599."
   ]
  },
  {
   "cell_type": "code",
   "execution_count": 32,
   "metadata": {
    "tags": []
   },
   "outputs": [
    {
     "name": "stdout",
     "output_type": "stream",
     "text": [
      "Количество записей с типом устройства не смартфон:  117836\n",
      "Доля записей с типом устройства смартфон:  0.9996350690424713\n",
      "Сумма записей с типом устройства plain, tablet, phablet:  117836\n"
     ]
    }
   ],
   "source": [
    "print(f'Количество записей с типом устройства не смартфон: ', 322899435 - 322781599)\n",
    "print(f'Доля записей с типом устройства смартфон: ', 322781599/322899435)\n",
    "print(f'Сумма записей с типом устройства plain, tablet, phablet: ', 36116 + 53768 + 27952)"
   ]
  },
  {
   "cell_type": "code",
   "execution_count": 10,
   "metadata": {
    "tags": []
   },
   "outputs": [
    {
     "name": "stdout",
     "output_type": "stream",
     "text": [
      "Количество уникальных url_host: 199683\n",
      "Количество уникальных user_id: 415317\n",
      "Доля уникальных user_id использующих смартфон в общем количествек уникальных user_id: 99.92054262166008%\n",
      "Доля уникальных user_id использующих tablet в общем количествек уникальных user_id: 0.039728689169959336%\n",
      "Доля уникальных user_id использующих plain в общем количествек уникальных user_id: 0.02407799343633899%\n",
      "Доля уникальных user_id использующих phablet в общем количествек уникальных user_id: 0.015891475667983733%\n",
      "CPU times: user 25.4 ms, sys: 25.9 ms, total: 51.3 ms\n",
      "Wall time: 2min 48s\n"
     ]
    }
   ],
   "source": [
    "%%time\n",
    "url_host_count = df.select(\"url_host\").distinct().count()\n",
    "user_id_count = df.select(\"user_id\").distinct().count()\n",
    "smartphone_user_id_count = df.filter(\"cpe_type_cd = 'smartphone'\").select(\"user_id\").distinct().count()\n",
    "tablet_user_id_count = df.filter(\"cpe_type_cd = 'tablet'\").select(\"user_id\").distinct().count()\n",
    "plain_user_id_count = df.filter(\"cpe_type_cd = 'plain'\").select(\"user_id\").distinct().count()\n",
    "phablet_user_id_count = df.filter(\"cpe_type_cd = 'phablet'\").select(\"user_id\").distinct().count()\n",
    "print(f\"Количество уникальных url_host: {url_host_count}\", f\"Количество уникальных user_id: {user_id_count}\",\n",
    "f\"Доля уникальных user_id использующих смартфон в общем количествек уникальных user_id: {smartphone_user_id_count/user_id_count*100}%\",\n",
    "f\"Доля уникальных user_id использующих tablet в общем количествек уникальных user_id: {tablet_user_id_count/user_id_count*100}%\",\n",
    "f\"Доля уникальных user_id использующих plain в общем количествек уникальных user_id: {plain_user_id_count/user_id_count*100}%\",\n",
    "f\"Доля уникальных user_id использующих phablet в общем количествек уникальных user_id: {phablet_user_id_count/user_id_count*100}%\", sep='\\n')"
   ]
  },
  {
   "cell_type": "markdown",
   "metadata": {},
   "source": []
  },
  {
   "cell_type": "code",
   "execution_count": 45,
   "metadata": {
    "tags": []
   },
   "outputs": [
    {
     "name": "stdout",
     "output_type": "stream",
     "text": [
      "+-----------------+---------+\n",
      "|cpe_model_os_type|    count|\n",
      "+-----------------+---------+\n",
      "|              iOS|122764510|\n",
      "|        Apple iOS|  2275740|\n",
      "|          Android|197859185|\n",
      "+-----------------+---------+\n",
      "\n",
      "CPU times: user 7.93 ms, sys: 5.67 ms, total: 13.6 ms\n",
      "Wall time: 27.5 s\n"
     ]
    }
   ],
   "source": [
    "%%time\n",
    "# Посчитаем количество записей с различными ос\n",
    "df.groupBy(\"cpe_model_os_type\").count().show(5)"
   ]
  },
  {
   "cell_type": "markdown",
   "metadata": {},
   "source": [
    "2 275 740 записей с Apple iOS.\n",
    "Скорее всего это техническая ошибка, или например, smartphone идет с iOS, а tablet с Apple iOS."
   ]
  },
  {
   "cell_type": "code",
   "execution_count": 48,
   "metadata": {
    "tags": []
   },
   "outputs": [
    {
     "name": "stdout",
     "output_type": "stream",
     "text": [
      "+-----------+-----------------+---------+\n",
      "|cpe_type_cd|cpe_model_os_type|    count|\n",
      "+-----------+-----------------+---------+\n",
      "|     tablet|          Android|    51130|\n",
      "|      plain|          Android|    36116|\n",
      "|     tablet|              iOS|     2638|\n",
      "|    phablet|          Android|    27952|\n",
      "| smartphone|        Apple iOS|  2275740|\n",
      "| smartphone|          Android|197743987|\n",
      "| smartphone|              iOS|122761872|\n",
      "+-----------+-----------------+---------+\n",
      "\n",
      "CPU times: user 10.3 ms, sys: 6.48 ms, total: 16.8 ms\n",
      "Wall time: 53.7 s\n"
     ]
    }
   ],
   "source": [
    "%%time\n",
    "df.groupBy([\"cpe_type_cd\", \"cpe_model_os_type\"]).count().show(10)"
   ]
  },
  {
   "cell_type": "markdown",
   "metadata": {},
   "source": [
    "Как видно из таблицы выше smartphone в основном на iOS, но часть на Apple iOS"
   ]
  },
  {
   "cell_type": "code",
   "execution_count": 55,
   "metadata": {
    "tags": []
   },
   "outputs": [
    {
     "name": "stdout",
     "output_type": "stream",
     "text": [
      "+-----------------+-----------------+-------+\n",
      "|cpe_model_os_type|   cpe_model_name|  count|\n",
      "+-----------------+-----------------+-------+\n",
      "|        Apple iOS|iPhone 13 Pro Max| 383578|\n",
      "|        Apple iOS|        iPhone 11| 776193|\n",
      "|        Apple iOS|        iPhone 13| 638307|\n",
      "|        Apple iOS|   iPhone 13 mini|  46201|\n",
      "|        Apple iOS|    iPhone 13 Pro| 431461|\n",
      "|              iOS|         iPhone 5|  54444|\n",
      "|              iOS|   iPhone SE 2020|2866247|\n",
      "+-----------------+-----------------+-------+\n",
      "only showing top 7 rows\n",
      "\n",
      "CPU times: user 8.23 ms, sys: 8.92 ms, total: 17.2 ms\n",
      "Wall time: 34.6 s\n"
     ]
    }
   ],
   "source": [
    "%%time\n",
    "df.filter(\"cpe_manufacturer_name = 'Apple'\").groupBy([\"cpe_model_os_type\", \"cpe_model_name\"]).count().orderBy('cpe_model_os_type').show(7)"
   ]
  },
  {
   "cell_type": "markdown",
   "metadata": {},
   "source": [
    "Теперь понятно, что это техническая ошибка и для некоторых моделей смартфонов Apple cpe_model_os_type читается как Apple iOS.\n",
    "\n",
    "<span style=\"color:red\"> **В датасете подготовленном для обучения модели обязательно в столбце cpe_model_os_type Apple iOS исправить на iOS**</span>"
   ]
  },
  {
   "cell_type": "markdown",
   "metadata": {},
   "source": [
    "### Анализ url_host"
   ]
  },
  {
   "cell_type": "code",
   "execution_count": 56,
   "metadata": {
    "tags": []
   },
   "outputs": [
    {
     "name": "stdout",
     "output_type": "stream",
     "text": [
      "+--------------------+--------+\n",
      "|            url_host|   count|\n",
      "+--------------------+--------+\n",
      "|googleads.g.doubl...|22013466|\n",
      "|           yandex.ru|19007657|\n",
      "|         i.ytimg.com|16901446|\n",
      "|              vk.com|16695251|\n",
      "|avatars.mds.yande...|16212095|\n",
      "|          ad.mail.ru|15309099|\n",
      "|        yastatic.net|15053937|\n",
      "|           apple.com| 9743078|\n",
      "|        ads.adfox.ru| 7771928|\n",
      "|tpc.googlesyndica...| 7294829|\n",
      "|  online.sberbank.ru| 7195685|\n",
      "|       instagram.com| 6936558|\n",
      "|       zen.yandex.ru| 6367222|\n",
      "|      mail.yandex.ru| 6123301|\n",
      "|          google.com| 6014826|\n",
      "|          icloud.com| 3524545|\n",
      "|       ad.adriver.ru| 3520373|\n",
      "|         s0.2mdn.net| 3422837|\n",
      "|ads.betweendigita...| 3184201|\n",
      "| sun9-29.userapi.com| 3160532|\n",
      "| sun9-32.userapi.com| 3159665|\n",
      "| sun9-17.userapi.com| 3158490|\n",
      "| sun9-27.userapi.com| 3148620|\n",
      "|  sun9-5.userapi.com| 3141917|\n",
      "| sun9-61.userapi.com| 3129243|\n",
      "|     play.google.com| 2975163|\n",
      "|          o2.mail.ru| 2640352|\n",
      "| sun9-77.userapi.com| 2604010|\n",
      "| sun9-85.userapi.com| 2541419|\n",
      "| sun9-80.userapi.com| 2539583|\n",
      "|exchange.buzzoola...| 2537141|\n",
      "| sun9-88.userapi.com| 2536444|\n",
      "|imasdk.googleapis...| 2390633|\n",
      "|            m.vk.com| 2385561|\n",
      "|            relap.io| 2162618|\n",
      "|               ok.ru| 1547608|\n",
      "|          rtb.com.ru| 1541353|\n",
      "|    s3.amazonaws.com| 1534553|\n",
      "|       connect.ok.ru| 1424335|\n",
      "|node1.online.sber...| 1375348|\n",
      "|node3.online.sber...| 1345623|\n",
      "|       id.tinkoff.ru| 1292701|\n",
      "|          m.avito.ru| 1180854|\n",
      "| cstatic.weborama.fr| 1159799|\n",
      "|   esia.gosuslugi.ru| 1125581|\n",
      "|         st.mycdn.me| 1086838|\n",
      "|    banners.adfox.ru| 1052766|\n",
      "|             smi2.ru| 1022721|\n",
      "|   tube.buzzoola.com|  991482|\n",
      "|      m.facebook.com|  950378|\n",
      "+--------------------+--------+\n",
      "only showing top 50 rows\n",
      "\n",
      "CPU times: user 12.5 ms, sys: 7.74 ms, total: 20.2 ms\n",
      "Wall time: 1min 2s\n"
     ]
    }
   ],
   "source": [
    "%%time\n",
    "# Посмотрим самые популярные url_host\n",
    "df.groupBy(\"url_host\").count().orderBy(F.col(\"count\").desc()).show(50)"
   ]
  },
  {
   "cell_type": "code",
   "execution_count": 5,
   "metadata": {
    "collapsed": true,
    "jupyter": {
     "outputs_hidden": true
    },
    "tags": []
   },
   "outputs": [
    {
     "name": "stdout",
     "output_type": "stream",
     "text": [
      "+--------------------+-----+\n",
      "|            url_host|count|\n",
      "+--------------------+-----+\n",
      "|     china-bridge.ru|    1|\n",
      "|           sbelan.ru|    1|\n",
      "| nash-sovremennik.ru|    1|\n",
      "|        oldtimer.top|    1|\n",
      "|         atelecom.ru|    1|\n",
      "|   vsttorrent.my1.ru|    1|\n",
      "|varikoz-com.turbo...|    1|\n",
      "|         vrnchess.ru|    1|\n",
      "|         us.trud.com|    1|\n",
      "|      triton-plus.ru|    1|\n",
      "|       murom.bb24.ru|    1|\n",
      "|           skipto.ru|    1|\n",
      "|            sb-78.ru|    1|\n",
      "|djartik.livejourn...|    1|\n",
      "|  urbanstreetwear.ru|    1|\n",
      "|snorbinka-livejou...|    1|\n",
      "| planeta.strussa.com|    1|\n",
      "|        blyatukov.ru|    1|\n",
      "|       chegevara.biz|    1|\n",
      "|  optk-orsk.narod.ru|    1|\n",
      "|    nov-n-sh.uobr.ru|    1|\n",
      "|        tools-ekb.ru|    1|\n",
      "|khvalynsk.spravke...|    1|\n",
      "|       povezlovam.ru|    1|\n",
      "|           sro.press|    1|\n",
      "|         taxi-178.ru|    1|\n",
      "|newsru-ca.turbopa...|    1|\n",
      "| zagorodnaja-life.ru|    1|\n",
      "|      voilok-wool.ru|    1|\n",
      "|    rcst.tsu.tula.ru|    1|\n",
      "| vladimir.4kolesa.co|    1|\n",
      "|xn----etbbhq1abxc...|    1|\n",
      "|        medreestr.ru|    1|\n",
      "|        zatosarov.ru|    1|\n",
      "|        sportwerk.ru|    1|\n",
      "|       skazkatver.ru|    1|\n",
      "|      pozh-system.ru|    1|\n",
      "|djenden.livejourn...|    1|\n",
      "|        mcreklama.ru|    1|\n",
      "|   cheremhovo.vsn.ru|    1|\n",
      "|francis--maks-liv...|    1|\n",
      "|          unecha.net|    1|\n",
      "|   avtomarz.narod.ru|    1|\n",
      "|            skven.ru|    1|\n",
      "|krasnyluchmoto.uc...|    1|\n",
      "|omar--khayam-live...|    1|\n",
      "|      ksk-prostor.ru|    1|\n",
      "|lucky-maya.livejo...|    1|\n",
      "|         nelidovo.su|    1|\n",
      "|transfiguration-h...|    1|\n",
      "+--------------------+-----+\n",
      "only showing top 50 rows\n",
      "\n"
     ]
    }
   ],
   "source": [
    "%%time\n",
    "# Посмотрим самые не популярные url_host\n",
    "df.groupBy(\"url_host\").count().orderBy(F.col(\"count\").asc()).show(50)"
   ]
  },
  {
   "cell_type": "code",
   "execution_count": 11,
   "metadata": {},
   "outputs": [
    {
     "name": "stdout",
     "output_type": "stream",
     "text": [
      "59247\n",
      "CPU times: user 12.4 ms, sys: 8.05 ms, total: 20.5 ms\n",
      "Wall time: 58.9 s\n"
     ]
    }
   ],
   "source": [
    "%%time\n",
    "# Посчитаем количество url_host с количеством записей = 1\n",
    "url_host_count_1 = df.groupBy(\"url_host\").count().filter(F.col(\"count\") == 1).count()\n",
    "print(url_host_count_1)"
   ]
  },
  {
   "cell_type": "code",
   "execution_count": 12,
   "metadata": {
    "tags": []
   },
   "outputs": [
    {
     "name": "stdout",
     "output_type": "stream",
     "text": [
      "29.67052778654167 %\n",
      "CPU times: user 106 µs, sys: 0 ns, total: 106 µs\n",
      "Wall time: 115 µs\n"
     ]
    }
   ],
   "source": [
    "%%time\n",
    "# Посчитаем долю url_host с количеством записей = 1 в общем количестве уникальных url_host\n",
    "print( url_host_count_1 / url_host_count * 100, '%')"
   ]
  },
  {
   "cell_type": "code",
   "execution_count": 13,
   "metadata": {
    "tags": []
   },
   "outputs": [
    {
     "name": "stdout",
     "output_type": "stream",
     "text": [
      "0.018348437184475097 %\n",
      "CPU times: user 3.48 ms, sys: 2.87 ms, total: 6.35 ms\n",
      "Wall time: 478 ms\n"
     ]
    }
   ],
   "source": [
    "%%time\n",
    "# Посчитаем долю записей url_host с количеством записей = 1 в общем количестве записей\n",
    "print( url_host_count_1 / df.count() * 100, '%')"
   ]
  },
  {
   "cell_type": "markdown",
   "metadata": {},
   "source": [
    "Почти 30% уникальных url_host имеют 1 запись в наборе данных, их доля в общем количестве записей составляет примерно 0,02%.\n",
    "\n",
    "Можно сделать несколько предположений о том, как обрабатывать такие записи.\n",
    "\n",
    "<span style=\"color:red\"> **1. Оставить без изменения**</span>\n",
    "\n",
    "<span style=\"color:red\"> **2. Удалить эти записи, но это повлияет на фичи создаваемые с помощью агрегации**</span>\n",
    "\n",
    "<span style=\"color:red\"> **3. Переименовать названия указанных url_host в url_host_count_1**</span>"
   ]
  },
  {
   "cell_type": "markdown",
   "metadata": {},
   "source": [
    "Посмотрим как изменяется количество и доля url_host в зависимости от количества записей от 1 до 100 "
   ]
  },
  {
   "cell_type": "code",
   "execution_count": 21,
   "metadata": {
    "tags": []
   },
   "outputs": [],
   "source": [
    "#  Общее количество записей\n",
    "df_count = df.count()"
   ]
  },
  {
   "cell_type": "code",
   "execution_count": 52,
   "metadata": {
    "tags": []
   },
   "outputs": [
    {
     "name": "stdout",
     "output_type": "stream",
     "text": [
      "{'5': 61.17045517144675, '10': 72.27104961363762, '15': 77.53038566127312, '20': 80.74297761952694, '25': 83.03410906286463, '30': 84.70976497748933, '35': 86.03186049889075, '40': 87.11006946009425, '45': 88.0099958434118, '50': 88.77220394325005, '55': 89.3976953471252, '60': 89.96559546881807, '65': 90.41681064487213, '70': 90.83697660792356, '75': 91.22859732676292, '80': 91.56713390724298, '85': 91.88864349994742, '90': 92.16508165442225, '95': 92.41898408978231, '100': 92.66687700004506}\n",
      "CPU times: user 225 ms, sys: 78 ms, total: 303 ms\n",
      "Wall time: 21min 10s\n"
     ]
    }
   ],
   "source": [
    "%%time\n",
    "# Словарь, где ключи - это подсчет количества записей, в которых встречается определенный хост, а значение\n",
    "#  - это доля хостов, имеющих <= i записей, в общем количестве уникальных хостов\n",
    "dict_share_url_host = dict()\n",
    "for i in range(5, 101, 5):\n",
    "    url_host_count_i = df.groupBy(\"url_host\").count().filter(F.col(\"count\") <= i).count()\n",
    "    share_url_host = url_host_count_i / url_host_count * 100\n",
    "    dict_share_url_host[str(i)] = share_url_host\n",
    "\n",
    "print(dict_share_url_host)"
   ]
  },
  {
   "cell_type": "code",
   "execution_count": 50,
   "metadata": {
    "tags": []
   },
   "outputs": [
    {
     "name": "stdout",
     "output_type": "stream",
     "text": [
      "+----------+\n",
      "|sum(count)|\n",
      "+----------+\n",
      "|   1735069|\n",
      "+----------+\n",
      "\n",
      "CPU times: user 16.4 ms, sys: 7.63 ms, total: 24.1 ms\n",
      "Wall time: 1min 5s\n"
     ]
    }
   ],
   "source": [
    "%%time\n",
    "# Посчитаем сумму записей url_host с количеством записей <= 100\n",
    "df.groupBy(\"url_host\").count().filter(F.col(\"count\") <= 100).select(F.sum(F.col(\"count\"))).show()"
   ]
  },
  {
   "cell_type": "code",
   "execution_count": 51,
   "metadata": {
    "tags": []
   },
   "outputs": [
    {
     "name": "stdout",
     "output_type": "stream",
     "text": [
      "0.5373403641910987 %\n",
      "CPU times: user 2.32 ms, sys: 1.32 ms, total: 3.64 ms\n",
      "Wall time: 305 ms\n"
     ]
    }
   ],
   "source": [
    "%%time\n",
    "# Посчитаем долю записей url_host с количеством записей <= 100 в общем количестве записей\n",
    "print( 1735069 / df.count() * 100, '%')"
   ]
  },
  {
   "cell_type": "markdown",
   "metadata": {},
   "source": [
    "Почти 93% уникальных url_host имеют <= 100 записей, и их доля в общем числе записей составляет 0,5%.\n",
    "\n",
    "<span style=\"color:red\"> **Возможно эти 93% уникальных url_host не имееют существенной информации для определения пола пользователя и его возрастной группы**</span>"
   ]
  },
  {
   "cell_type": "code",
   "execution_count": 7,
   "metadata": {
    "tags": []
   },
   "outputs": [
    {
     "name": "stdout",
     "output_type": "stream",
     "text": [
      "CPU times: user 14.4 ms, sys: 6.64 ms, total: 21 ms\n",
      "Wall time: 1min 1s\n"
     ]
    },
    {
     "data": {
      "text/plain": [
       "3025"
      ]
     },
     "execution_count": 7,
     "metadata": {},
     "output_type": "execute_result"
    }
   ],
   "source": [
    "%%time\n",
    "df.groupBy(\"url_host\").count().filter(F.col(\"count\") > 1000).count()"
   ]
  },
  {
   "cell_type": "code",
   "execution_count": 21,
   "metadata": {
    "tags": []
   },
   "outputs": [
    {
     "name": "stdout",
     "output_type": "stream",
     "text": [
      "CPU times: user 5.17 ms, sys: 2.95 ms, total: 8.12 ms\n",
      "Wall time: 38.1 ms\n"
     ]
    }
   ],
   "source": [
    "%%time\n",
    "# Создадим список url_host с числом записей больше 1000\n",
    "df_host_1000 = df.groupBy(\"url_host\").count().filter(F.col(\"count\") > 1000)"
   ]
  },
  {
   "cell_type": "code",
   "execution_count": 15,
   "metadata": {
    "tags": []
   },
   "outputs": [
    {
     "name": "stdout",
     "output_type": "stream",
     "text": [
      "+--------------------+------+\n",
      "|            url_host| count|\n",
      "+--------------------+------+\n",
      "| masterh7.adriver.ru| 91193|\n",
      "|         shopotam.ru|  1555|\n",
      "|        m.fishki.net| 16083|\n",
      "|       lightaudio.ru|  8807|\n",
      "|        altapress.ru|  1893|\n",
      "|  outlook.office.com|214694|\n",
      "|  vsrjcrts.tabfil.me|  1560|\n",
      "|glavbukh-ru.turbo...|  3266|\n",
      "|       t.newzfeed.ru|  1926|\n",
      "|             ng72.ru|  1409|\n",
      "+--------------------+------+\n",
      "only showing top 10 rows\n",
      "\n"
     ]
    }
   ],
   "source": [
    "df_host_1000.show(10)"
   ]
  },
  {
   "cell_type": "code",
   "execution_count": 24,
   "metadata": {
    "tags": []
   },
   "outputs": [],
   "source": [
    "# Сохраним список url_host с числом записей больше 1000\n",
    "df_host_1000.repartition(1).write.parquet(path=\"data_in/url_host_count_1000_pqt\", mode=\"overwrite\")"
   ]
  },
  {
   "cell_type": "code",
   "execution_count": 25,
   "metadata": {
    "tags": []
   },
   "outputs": [
    {
     "name": "stdout",
     "output_type": "stream",
     "text": [
      "CPU times: user 3.44 ms, sys: 3.54 ms, total: 6.98 ms\n",
      "Wall time: 29.4 ms\n"
     ]
    }
   ],
   "source": [
    "%%time\n",
    "# Создадим список url_host с числом записей больше 100\n",
    "df_host_100 = df.groupBy(\"url_host\").count().filter(F.col(\"count\") > 100)"
   ]
  },
  {
   "cell_type": "code",
   "execution_count": 18,
   "metadata": {
    "tags": []
   },
   "outputs": [
    {
     "data": {
      "text/plain": [
       "14643"
      ]
     },
     "execution_count": 18,
     "metadata": {},
     "output_type": "execute_result"
    }
   ],
   "source": [
    "df_host_100.count()"
   ]
  },
  {
   "cell_type": "code",
   "execution_count": 26,
   "metadata": {
    "tags": []
   },
   "outputs": [],
   "source": [
    "# Сохраним список url_host с числом записей больше 100\n",
    "df_host_100.repartition(1).write.parquet(path=\"data_in/url_host_count_100_pqt\", mode=\"overwrite\")"
   ]
  },
  {
   "cell_type": "code",
   "execution_count": 57,
   "metadata": {},
   "outputs": [
    {
     "name": "stdout",
     "output_type": "stream",
     "text": [
      "+-----------+---------+\n",
      "|part_of_day|    count|\n",
      "+-----------+---------+\n",
      "|        day|107328399|\n",
      "|    evening| 96239286|\n",
      "|    morning| 85236015|\n",
      "|      night| 34095735|\n",
      "+-----------+---------+\n",
      "\n",
      "CPU times: user 11.2 ms, sys: 5.42 ms, total: 16.6 ms\n",
      "Wall time: 32.9 s\n"
     ]
    }
   ],
   "source": [
    "%%time\n",
    "# Посмотрим в какое время дня поступает больше запросов\n",
    "df.groupBy(\"part_of_day\").count().orderBy(F.col(\"count\").desc()).show()"
   ]
  },
  {
   "cell_type": "markdown",
   "metadata": {},
   "source": [
    "<span style=\"color:red\"> **Соотношение частоты запросов в разное время суток может коррелировать с возрастными группами, логично предположить, что молодые люди до 30 лет чаще делают запросы ночью, чем люди старшего возраста**</span>"
   ]
  },
  {
   "cell_type": "markdown",
   "metadata": {},
   "source": [
    "### Мобильность пользователей по регионам и городам"
   ]
  },
  {
   "cell_type": "code",
   "execution_count": 58,
   "metadata": {
    "tags": []
   },
   "outputs": [
    {
     "name": "stdout",
     "output_type": "stream",
     "text": [
      "+--------------------+--------+\n",
      "|         region_name|   count|\n",
      "+--------------------+--------+\n",
      "|              Москва|45759326|\n",
      "|  Краснодарский край|26744015|\n",
      "|  Московская область|20637759|\n",
      "|     Санкт-Петербург|20120151|\n",
      "|Республика Башкор...|16014980|\n",
      "|Республика Татарстан|13225533|\n",
      "|Свердловская область|11985133|\n",
      "|  Ростовская область| 9171236|\n",
      "|Новосибирская обл...| 9089971|\n",
      "|   Самарская область| 8962704|\n",
      "+--------------------+--------+\n",
      "only showing top 10 rows\n",
      "\n",
      "CPU times: user 6.99 ms, sys: 12.1 ms, total: 19.1 ms\n",
      "Wall time: 46.5 s\n"
     ]
    }
   ],
   "source": [
    "%%time\n",
    "# Посмотрим из каких регионов чаще всего поступают запросы\n",
    "df.groupBy(\"region_name\").count().orderBy(F.col(\"count\").desc()).show(10)"
   ]
  },
  {
   "cell_type": "code",
   "execution_count": null,
   "metadata": {},
   "outputs": [],
   "source": [
    "df.createOrReplaceTempView(\"mts\")"
   ]
  },
  {
   "cell_type": "code",
   "execution_count": 76,
   "metadata": {
    "tags": []
   },
   "outputs": [
    {
     "name": "stdout",
     "output_type": "stream",
     "text": [
      "+--------------+\n",
      "|count(user_id)|\n",
      "+--------------+\n",
      "|        268762|\n",
      "+--------------+\n",
      "\n",
      "CPU times: user 11.3 ms, sys: 6.72 ms, total: 18 ms\n",
      "Wall time: 58.9 s\n"
     ]
    }
   ],
   "source": [
    "%%time\n",
    "# Посчитаем пользователей, от которых поступали запросы из одного региона\n",
    "spark.sql(\"SELECT count(user_id) from\"\n",
    "          \"(SELECT user_id, count(region_name) as region_count from\"\n",
    "          \"(SELECT user_id, region_name from mts group by user_id, region_name) as t1 \"\n",
    "          \"group by user_id) as t2 where region_count = 1\").show(1)"
   ]
  },
  {
   "cell_type": "code",
   "execution_count": 78,
   "metadata": {
    "tags": []
   },
   "outputs": [
    {
     "name": "stdout",
     "output_type": "stream",
     "text": [
      "Доля пользователей, от которых поступали запросы только из одного региона: 0.6471249671937339\n",
      "Доля пользователей, от которых поступали запросы из разных регионов: 0.35287503280626603\n"
     ]
    }
   ],
   "source": [
    "print(f\"Доля пользователей, от которых поступали запросы только из одного региона: {268762 / 415317}\")\n",
    "print(f\"Доля пользователей, от которых поступали запросы из разных регионов: {146555 / 415317}\")"
   ]
  },
  {
   "cell_type": "code",
   "execution_count": 69,
   "metadata": {
    "collapsed": true,
    "jupyter": {
     "outputs_hidden": true
    },
    "tags": []
   },
   "outputs": [
    {
     "name": "stdout",
     "output_type": "stream",
     "text": [
      "+-------+-------------------+\n",
      "|user_id|        region_name|\n",
      "+-------+-------------------+\n",
      "| 374036| Московская область|\n",
      "| 374036| Московская область|\n",
      "| 374036| Московская область|\n",
      "| 374036| Краснодарский край|\n",
      "| 374036| Краснодарский край|\n",
      "| 374036| Московская область|\n",
      "| 374036| Краснодарский край|\n",
      "| 374036| Краснодарский край|\n",
      "| 374036| Краснодарский край|\n",
      "| 374036| Московская область|\n",
      "| 374036| Московская область|\n",
      "| 374036| Краснодарский край|\n",
      "| 374036| Московская область|\n",
      "| 374036| Московская область|\n",
      "| 374036| Московская область|\n",
      "| 374036| Краснодарский край|\n",
      "| 374036| Московская область|\n",
      "| 374036| Московская область|\n",
      "| 374036| Московская область|\n",
      "| 374036| Московская область|\n",
      "| 374036| Московская область|\n",
      "| 374036| Московская область|\n",
      "| 374036| Краснодарский край|\n",
      "| 374036| Московская область|\n",
      "| 374036| Московская область|\n",
      "| 374036| Краснодарский край|\n",
      "| 374036| Московская область|\n",
      "| 374036| Московская область|\n",
      "| 374036| Московская область|\n",
      "| 374036| Московская область|\n",
      "| 374036|Воронежская область|\n",
      "| 374036|    Курская область|\n",
      "| 374036|   Тульская область|\n",
      "| 374036| Ростовская область|\n",
      "| 374036| Московская область|\n",
      "| 374036| Московская область|\n",
      "| 374036| Московская область|\n",
      "| 374036| Московская область|\n",
      "| 374036| Московская область|\n",
      "| 374036| Московская область|\n",
      "| 374036| Московская область|\n",
      "| 374036|    Курская область|\n",
      "| 374036| Московская область|\n",
      "| 374036| Московская область|\n",
      "| 374036| Московская область|\n",
      "| 374036|Воронежская область|\n",
      "| 374036| Московская область|\n",
      "| 374036| Московская область|\n",
      "| 374036| Московская область|\n",
      "| 374036| Московская область|\n",
      "+-------+-------------------+\n",
      "only showing top 50 rows\n",
      "\n"
     ]
    }
   ],
   "source": [
    "spark.sql(\"SELECT user_id, region_name from mts where user_id = 374036\").show(50)"
   ]
  },
  {
   "cell_type": "markdown",
   "metadata": {},
   "source": [
    "<span style=\"color:red\"> **Поступление запросов из разных регионов может коррелировать с возрастными группами**</span>"
   ]
  },
  {
   "cell_type": "code",
   "execution_count": 81,
   "metadata": {
    "tags": []
   },
   "outputs": [
    {
     "name": "stdout",
     "output_type": "stream",
     "text": [
      "+--------------+\n",
      "|count(user_id)|\n",
      "+--------------+\n",
      "|        228209|\n",
      "+--------------+\n",
      "\n",
      "CPU times: user 8.65 ms, sys: 8.14 ms, total: 16.8 ms\n",
      "Wall time: 54.6 s\n"
     ]
    }
   ],
   "source": [
    "%%time\n",
    "# Посчитаем пользователей, от которых поступали запросы из одного города\n",
    "spark.sql(\"SELECT count(user_id) from\"\n",
    "          \"(SELECT user_id, count(city_name) as city_count from\"\n",
    "          \"(SELECT user_id, city_name from mts group by user_id, city_name) as t1 \"\n",
    "          \"group by user_id) as t2 where city_count >= 2\").show(1)"
   ]
  },
  {
   "cell_type": "code",
   "execution_count": 83,
   "metadata": {
    "tags": []
   },
   "outputs": [
    {
     "name": "stdout",
     "output_type": "stream",
     "text": [
      "Доля пользователей, от которых поступали запросы только из одного города: 0.4505185195886516\n",
      "Доля пользователей, от которых поступали запросы из разных городов: 0.5494814804113485\n"
     ]
    }
   ],
   "source": [
    "print(f\"Доля пользователей, от которых поступали запросы только из одного города: {187108 / 415317}\")\n",
    "print(f\"Доля пользователей, от которых поступали запросы из разных городов: {228209 / 415317}\")"
   ]
  },
  {
   "cell_type": "markdown",
   "metadata": {},
   "source": [
    "<span style=\"color:red\"> **Мобильность пользователей между городами выше чем, мобильность между регионами**</span>"
   ]
  },
  {
   "cell_type": "markdown",
   "metadata": {},
   "source": [
    "### Изменения цен устройства"
   ]
  },
  {
   "cell_type": "code",
   "execution_count": 100,
   "metadata": {
    "tags": []
   },
   "outputs": [
    {
     "name": "stdout",
     "output_type": "stream",
     "text": [
      "+--------------+\n",
      "|count(user_id)|\n",
      "+--------------+\n",
      "|          9466|\n",
      "+--------------+\n",
      "\n",
      "CPU times: user 4.6 ms, sys: 7.29 ms, total: 11.9 ms\n",
      "Wall time: 26.4 s\n"
     ]
    }
   ],
   "source": [
    "%%time\n",
    "# Посмотрим меняется ли цена устройства в запросах\n",
    "spark.sql(\"SELECT count(user_id) from\"\n",
    "          \"(SELECT user_id, count(price) as price_count from\"\n",
    "          \"(SELECT user_id, price from mts group by user_id, price) as t1 \"\n",
    "          \"group by user_id) as t2 where price_count >= 2\").show(1)"
   ]
  },
  {
   "cell_type": "markdown",
   "metadata": {},
   "source": [
    "У 395148 пользователей цена не меняется. У 10703 пользователей цена равна null (пример user_id 308767). У 9466 пользователей цена изменяется (пример user_id 303728)"
   ]
  },
  {
   "cell_type": "code",
   "execution_count": 102,
   "metadata": {
    "tags": []
   },
   "outputs": [
    {
     "name": "stdout",
     "output_type": "stream",
     "text": [
      "Контрольная сумма:  415317\n"
     ]
    }
   ],
   "source": [
    "print(f\"Контрольная сумма: \", 395148 + 9466 + 10703)"
   ]
  },
  {
   "cell_type": "markdown",
   "metadata": {
    "tags": []
   },
   "source": [
    "<span style=\"color:red\"> **Надо подробнее расмотреть пользователей с ценой устройства null, возможно это техническая ошибка, или их цена действительно равна 0. \n",
    "Для пользователей с изменяющейся ценой устройства, в качестве цены надо брать медиану.**</span>"
   ]
  },
  {
   "cell_type": "markdown",
   "metadata": {},
   "source": [
    "### Разрыв в датах"
   ]
  },
  {
   "cell_type": "code",
   "execution_count": 11,
   "metadata": {
    "tags": []
   },
   "outputs": [
    {
     "name": "stdout",
     "output_type": "stream",
     "text": [
      "+----------+----------+--------------------+------------------------------+\n",
      "| min(date)| max(date)|count(DISTINCT date)|datediff(max(date), min(date))|\n",
      "+----------+----------+--------------------+------------------------------+\n",
      "|2021-06-16|2022-11-01|                 396|                           503|\n",
      "+----------+----------+--------------------+------------------------------+\n",
      "\n"
     ]
    }
   ],
   "source": [
    "# посчитаем сколько дней у нас в выборке и сравним с количеством дней между мининальной и максимальной датой\n",
    "spark.sql(\"SELECT min(date), max(date), count(distinct date), datediff(max(date), min(date))\"\n",
    "          \"FROM mts\").show()"
   ]
  },
  {
   "cell_type": "code",
   "execution_count": 29,
   "metadata": {
    "tags": []
   },
   "outputs": [
    {
     "name": "stdout",
     "output_type": "stream",
     "text": [
      "+----------+----------+------------------+\n",
      "|      date|  pre_date|          dif_date|\n",
      "+----------+----------+------------------+\n",
      "|2022-10-06|2022-06-19|INTERVAL '109' DAY|\n",
      "+----------+----------+------------------+\n",
      "\n"
     ]
    }
   ],
   "source": [
    "# найдем самый большой разрыв в датах\n",
    "spark.sql(\"with subt as (select distinct date from mts order by date asc)\" \n",
    "          \"select date, pre_date, dif_date from (select date,\" \n",
    "          \"lag(date) over (order by date) as pre_date,\"\n",
    "          \"date - lag(date) over (order by date) as dif_date from subt) as t \"\n",
    "          \"where int(dif_date) >= 2\").show(5)"
   ]
  }
 ],
 "metadata": {
  "kernelspec": {
   "display_name": "Python 3 (ipykernel)",
   "language": "python",
   "name": "python3"
  },
  "language_info": {
   "codemirror_mode": {
    "name": "ipython",
    "version": 3
   },
   "file_extension": ".py",
   "mimetype": "text/x-python",
   "name": "python",
   "nbconvert_exporter": "python",
   "pygments_lexer": "ipython3",
   "version": "3.10.9"
  }
 },
 "nbformat": 4,
 "nbformat_minor": 4
}
