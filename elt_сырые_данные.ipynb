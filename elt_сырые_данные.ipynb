{
 "cells": [
  {
   "cell_type": "markdown",
   "id": "06d177c4-8d89-4b48-ae48-f574d5bdb2a8",
   "metadata": {},
   "source": [
    "## Импорты"
   ]
  },
  {
   "cell_type": "code",
   "execution_count": 28,
   "id": "305bb557-f8b9-456f-a8de-b9149fae9107",
   "metadata": {
    "tags": []
   },
   "outputs": [],
   "source": [
    "import sys\n",
    "import os\n",
    "import warnings\n",
    "warnings.filterwarnings('ignore')\n",
    "import time\n",
    "from pyspark.sql import SparkSession, DataFrameWriter\n",
    "import pyspark.sql.functions as F\n",
    "\n",
    "from pyspark.sql.functions import isnan, isnull"
   ]
  },
  {
   "cell_type": "code",
   "execution_count": 2,
   "id": "ecd5a694-7e65-4cd1-a667-48a7626df712",
   "metadata": {
    "tags": []
   },
   "outputs": [
    {
     "data": {
      "text/html": [
       "\n",
       "            <div>\n",
       "                <p><b>SparkSession - hive</b></p>\n",
       "                \n",
       "        <div>\n",
       "            <p><b>SparkContext</b></p>\n",
       "\n",
       "            <p><a href=\"http://5a34cbc5025c:4040\">Spark UI</a></p>\n",
       "\n",
       "            <dl>\n",
       "              <dt>Version</dt>\n",
       "                <dd><code>v3.3.1</code></dd>\n",
       "              <dt>Master</dt>\n",
       "                <dd><code>local</code></dd>\n",
       "              <dt>AppName</dt>\n",
       "                <dd><code>extract-transform</code></dd>\n",
       "            </dl>\n",
       "        </div>\n",
       "        \n",
       "            </div>\n",
       "        "
      ],
      "text/plain": [
       "<pyspark.sql.session.SparkSession at 0x7f30c82bc6d0>"
      ]
     },
     "execution_count": 2,
     "metadata": {},
     "output_type": "execute_result"
    }
   ],
   "source": [
    "# Создание спарк сессии\n",
    "spark = SparkSession.builder.master(\"local\").enableHiveSupport().appName(\"extract-transform\").getOrCreate()\n",
    "spark"
   ]
  },
  {
   "cell_type": "code",
   "execution_count": 3,
   "id": "dac062d8-cbc1-4ead-89a3-efbeb31863d0",
   "metadata": {
    "tags": []
   },
   "outputs": [],
   "source": [
    "# Читаем данные из паркета\n",
    "df = spark.read.format(\"parquet\").load('data_in/competition_data_final_pqt/')"
   ]
  },
  {
   "cell_type": "code",
   "execution_count": 23,
   "id": "ae324fb7-26b4-40ea-8d24-c462b1914f97",
   "metadata": {
    "tags": []
   },
   "outputs": [
    {
     "name": "stdout",
     "output_type": "stream",
     "text": [
      "root\n",
      " |-- region_name: string (nullable = true)\n",
      " |-- city_name: string (nullable = true)\n",
      " |-- cpe_manufacturer_name: string (nullable = true)\n",
      " |-- cpe_model_name: string (nullable = true)\n",
      " |-- url_host: string (nullable = true)\n",
      " |-- cpe_type_cd: string (nullable = true)\n",
      " |-- cpe_model_os_type: string (nullable = true)\n",
      " |-- price: double (nullable = true)\n",
      " |-- date: date (nullable = true)\n",
      " |-- part_of_day: string (nullable = true)\n",
      " |-- request_cnt: long (nullable = true)\n",
      " |-- user_id: long (nullable = true)\n",
      "\n"
     ]
    }
   ],
   "source": [
    "df.printSchema()"
   ]
  },
  {
   "cell_type": "code",
   "execution_count": null,
   "id": "1a3009be-712f-44a0-89f4-683862eaa3b3",
   "metadata": {},
   "outputs": [],
   "source": [
    "[\"region_name\", \"city_name\", \"cpe_manufacturer_name\", \"cpe_model_name\", \"url_host\", \"cpe_type_cd\", \"cpe_model_os_type\", \"price\", \"date\", \"part_of_day\", \"request_cnt\", \"user_id\"]"
   ]
  },
  {
   "cell_type": "code",
   "execution_count": 4,
   "id": "da434af0-c223-4b80-931a-8b459af5e63b",
   "metadata": {
    "tags": []
   },
   "outputs": [],
   "source": [
    "# Создаем локальное представление датафрейма, как sql таблицы mts\n",
    "df.createOrReplaceTempView(\"mts\")"
   ]
  },
  {
   "cell_type": "code",
   "execution_count": 6,
   "id": "cb49a09a-0138-4663-81e4-387f3d82455a",
   "metadata": {
    "tags": []
   },
   "outputs": [],
   "source": [
    "# Читаем данные таргета\n",
    "target = spark.read.format(\"parquet\").load('data_in/public_train.pqt')"
   ]
  },
  {
   "cell_type": "code",
   "execution_count": 8,
   "id": "be72ca3f-984f-4b5a-afcb-5afb340ea4d9",
   "metadata": {
    "tags": []
   },
   "outputs": [
    {
     "name": "stdout",
     "output_type": "stream",
     "text": [
      "root\n",
      " |-- age: double (nullable = true)\n",
      " |-- is_male: string (nullable = true)\n",
      " |-- user_id: long (nullable = true)\n",
      " |-- __index_level_0__: long (nullable = true)\n",
      "\n"
     ]
    }
   ],
   "source": [
    "# Нам даные user_id для которых известны age и is_male\n",
    "target.printSchema()"
   ]
  },
  {
   "cell_type": "code",
   "execution_count": 9,
   "id": "185fbd7b-88db-4c6d-b7ae-11a6e5adf850",
   "metadata": {
    "tags": []
   },
   "outputs": [
    {
     "data": {
      "text/plain": [
       "270000"
      ]
     },
     "execution_count": 9,
     "metadata": {},
     "output_type": "execute_result"
    }
   ],
   "source": [
    "target.count()"
   ]
  },
  {
   "cell_type": "code",
   "execution_count": 21,
   "id": "24a58acf-ed4b-46b8-a622-da77092c1969",
   "metadata": {
    "tags": []
   },
   "outputs": [
    {
     "name": "stdout",
     "output_type": "stream",
     "text": [
      "CPU times: user 8.12 ms, sys: 5.57 ms, total: 13.7 ms\n",
      "Wall time: 39.7 s\n"
     ]
    },
    {
     "data": {
      "text/plain": [
       "0"
      ]
     },
     "execution_count": 21,
     "metadata": {},
     "output_type": "execute_result"
    }
   ],
   "source": [
    "%%time\n",
    "# isnan очень медленная функция\n",
    "target.where(isnan(F.col(\"age\"))).count()"
   ]
  },
  {
   "cell_type": "code",
   "execution_count": 22,
   "id": "cc1fd5d2-1552-450e-ac64-2bf9739a66a1",
   "metadata": {
    "tags": []
   },
   "outputs": [],
   "source": [
    "target.createOrReplaceTempView(\"target\")"
   ]
  },
  {
   "cell_type": "code",
   "execution_count": 36,
   "id": "8a8abb45-3518-4389-9183-cd26ad8aaf9f",
   "metadata": {
    "tags": []
   },
   "outputs": [],
   "source": [
    "# На основе eda и таргета сформируем не полные данные для сокращения времени обработки, возьмем не все столбцы\n",
    "df_target = spark.sql(\"SELECT region_name, city_name, url_host, date, part_of_day, request_cnt, user_id \"\n",
    "                      \"from mts where user_id in (select user_id from target)\")"
   ]
  },
  {
   "cell_type": "code",
   "execution_count": 34,
   "id": "58187bc0-7a19-4d5d-8b6b-6762161d240e",
   "metadata": {
    "tags": []
   },
   "outputs": [
    {
     "data": {
      "text/plain": [
       "210730732"
      ]
     },
     "execution_count": 34,
     "metadata": {},
     "output_type": "execute_result"
    }
   ],
   "source": [
    "df_target.count()"
   ]
  },
  {
   "cell_type": "code",
   "execution_count": 37,
   "id": "6b4b4687-8d78-4d11-bc1a-15f8d8442e9e",
   "metadata": {
    "tags": []
   },
   "outputs": [
    {
     "name": "stdout",
     "output_type": "stream",
     "text": [
      "CPU times: user 64.3 ms, sys: 43.1 ms, total: 107 ms\n",
      "Wall time: 8min 57s\n"
     ]
    }
   ],
   "source": [
    "%%time\n",
    "# Сохраним не полные данные для дальнейшей обработоки\n",
    "df_target.write.parquet(path=\"data_in/competition_data_only_target_pqt/\", mode=\"overwrite\")"
   ]
  },
  {
   "cell_type": "code",
   "execution_count": null,
   "id": "4c48a1dc-f51f-4ac5-94a0-b39dc01ac279",
   "metadata": {},
   "outputs": [],
   "source": []
  },
  {
   "cell_type": "code",
   "execution_count": null,
   "id": "e4e061db-2d48-4dfc-8672-885e66e101a8",
   "metadata": {},
   "outputs": [],
   "source": []
  },
  {
   "cell_type": "code",
   "execution_count": 38,
   "id": "35ddd97a-fb84-4aac-835e-f8ace662a7ad",
   "metadata": {
    "tags": []
   },
   "outputs": [],
   "source": [
    "df_test = spark.read.format(\"parquet\").load(\"data_in/competition_data_only_target_pqt/\")"
   ]
  },
  {
   "cell_type": "code",
   "execution_count": 39,
   "id": "f381af44-0b11-43a3-a79c-0040c3dd7db3",
   "metadata": {
    "tags": []
   },
   "outputs": [
    {
     "name": "stdout",
     "output_type": "stream",
     "text": [
      "root\n",
      " |-- region_name: string (nullable = true)\n",
      " |-- city_name: string (nullable = true)\n",
      " |-- url_host: string (nullable = true)\n",
      " |-- date: date (nullable = true)\n",
      " |-- part_of_day: string (nullable = true)\n",
      " |-- request_cnt: long (nullable = true)\n",
      " |-- user_id: long (nullable = true)\n",
      "\n"
     ]
    }
   ],
   "source": [
    "df_test.printSchema()"
   ]
  },
  {
   "cell_type": "code",
   "execution_count": 40,
   "id": "ffe99979-f794-4d73-8397-1a25ae2663dd",
   "metadata": {
    "tags": []
   },
   "outputs": [
    {
     "data": {
      "text/plain": [
       "210730732"
      ]
     },
     "execution_count": 40,
     "metadata": {},
     "output_type": "execute_result"
    }
   ],
   "source": [
    "# Провери количество записей\n",
    "df_test.count()"
   ]
  },
  {
   "cell_type": "code",
   "execution_count": null,
   "id": "6727ecbf-0458-4b72-b562-8760ed9c142b",
   "metadata": {},
   "outputs": [],
   "source": []
  }
 ],
 "metadata": {
  "kernelspec": {
   "display_name": "Python 3 (ipykernel)",
   "language": "python",
   "name": "python3"
  },
  "language_info": {
   "codemirror_mode": {
    "name": "ipython",
    "version": 3
   },
   "file_extension": ".py",
   "mimetype": "text/x-python",
   "name": "python",
   "nbconvert_exporter": "python",
   "pygments_lexer": "ipython3",
   "version": "3.10.9"
  }
 },
 "nbformat": 4,
 "nbformat_minor": 5
}
