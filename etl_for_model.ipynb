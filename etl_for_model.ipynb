{
 "cells": [
  {
   "cell_type": "markdown",
   "id": "47d200ca-dae0-4d5e-ae53-656617b6baee",
   "metadata": {},
   "source": [
    "## Импорты"
   ]
  },
  {
   "cell_type": "code",
   "execution_count": 1,
   "id": "d7410020-61e0-436e-85b3-83c355c42b4d",
   "metadata": {
    "tags": []
   },
   "outputs": [],
   "source": [
    "import sys\n",
    "import os\n",
    "import warnings\n",
    "warnings.filterwarnings('ignore')\n",
    "import time\n",
    "from pyspark.sql import SparkSession, DataFrameWriter\n",
    "import pyspark.sql.functions as F\n",
    "\n",
    "from pyspark.sql.functions import isnan, isnull"
   ]
  },
  {
   "cell_type": "code",
   "execution_count": 2,
   "id": "269d949c-81e7-4742-a6d7-bfb5c4a22195",
   "metadata": {
    "tags": []
   },
   "outputs": [
    {
     "data": {
      "text/html": [
       "\n",
       "            <div>\n",
       "                <p><b>SparkSession - hive</b></p>\n",
       "                \n",
       "        <div>\n",
       "            <p><b>SparkContext</b></p>\n",
       "\n",
       "            <p><a href=\"http://5a34cbc5025c:4040\">Spark UI</a></p>\n",
       "\n",
       "            <dl>\n",
       "              <dt>Version</dt>\n",
       "                <dd><code>v3.3.1</code></dd>\n",
       "              <dt>Master</dt>\n",
       "                <dd><code>local</code></dd>\n",
       "              <dt>AppName</dt>\n",
       "                <dd><code>extract-transform</code></dd>\n",
       "            </dl>\n",
       "        </div>\n",
       "        \n",
       "            </div>\n",
       "        "
      ],
      "text/plain": [
       "<pyspark.sql.session.SparkSession at 0x7f4e4db00370>"
      ]
     },
     "execution_count": 2,
     "metadata": {},
     "output_type": "execute_result"
    }
   ],
   "source": [
    "# Создание спарк сессии\n",
    "spark = SparkSession.builder.master(\"local\").enableHiveSupport().appName(\"extract-transform\").getOrCreate()\n",
    "spark"
   ]
  },
  {
   "cell_type": "code",
   "execution_count": 3,
   "id": "cb3112ed-195a-4345-97f9-b8510f9bf5cd",
   "metadata": {
    "tags": []
   },
   "outputs": [],
   "source": [
    "# Читаем данные из паркета\n",
    "df = spark.read.format(\"parquet\").load('data_in/competition_data_only_target_pqt/')"
   ]
  },
  {
   "cell_type": "code",
   "execution_count": 4,
   "id": "fbf99cda-708f-4f30-ad8c-8e79daaec4f3",
   "metadata": {
    "tags": []
   },
   "outputs": [
    {
     "name": "stdout",
     "output_type": "stream",
     "text": [
      "root\n",
      " |-- region_name: string (nullable = true)\n",
      " |-- city_name: string (nullable = true)\n",
      " |-- url_host: string (nullable = true)\n",
      " |-- date: date (nullable = true)\n",
      " |-- part_of_day: string (nullable = true)\n",
      " |-- request_cnt: long (nullable = true)\n",
      " |-- user_id: long (nullable = true)\n",
      "\n"
     ]
    }
   ],
   "source": [
    "df.printSchema()"
   ]
  },
  {
   "cell_type": "code",
   "execution_count": 5,
   "id": "10a3af6a-02d0-4ebd-b578-932b18de6bb3",
   "metadata": {
    "tags": []
   },
   "outputs": [],
   "source": [
    "# Создаем локальное представление датафрейма, как sql таблицы mts\n",
    "df.createOrReplaceTempView(\"mts\")"
   ]
  },
  {
   "cell_type": "markdown",
   "id": "780371d2-ff88-44af-a8a2-459513ed1483",
   "metadata": {},
   "source": [
    "## Создаем признаки на основе request_cnt"
   ]
  },
  {
   "cell_type": "markdown",
   "id": "42441322-6e6c-41d0-816f-eee73471fff7",
   "metadata": {},
   "source": [
    "### Создаем признаки на основе request_cnt и агрегирующих функций макс, среднее, подсчет"
   ]
  },
  {
   "cell_type": "code",
   "execution_count": 7,
   "id": "fb95ea7a-abbb-4306-aa7b-4842f03702fa",
   "metadata": {
    "tags": []
   },
   "outputs": [
    {
     "name": "stdout",
     "output_type": "stream",
     "text": [
      "+-------+---------------+---------------+-----------------+\n",
      "|user_id|max_request_cnt|avg_request_cnt|count_request_cnt|\n",
      "+-------+---------------+---------------+-----------------+\n",
      "| 366198|              6|          2.352|             2017|\n",
      "| 166581|             10|           1.77|             1424|\n",
      "| 414978|              4|          1.351|               57|\n",
      "| 158464|              6|          1.626|              878|\n",
      "|  97699|              6|          1.676|              982|\n",
      "|  79418|              6|           1.57|              790|\n",
      "| 324572|              6|          1.745|             1381|\n",
      "|  38510|              6|          1.654|              593|\n",
      "| 102613|              4|          1.235|               98|\n",
      "| 266206|              5|          1.287|              254|\n",
      "| 299953|              6|          1.348|              417|\n",
      "| 134319|              4|          1.627|              308|\n",
      "| 116139|              6|          1.678|             1479|\n",
      "| 152419|              6|          1.889|             2234|\n",
      "| 296974|              6|          1.875|             1585|\n",
      "| 348263|              6|          1.589|             5119|\n",
      "| 376818|              6|          1.381|              721|\n",
      "| 311479|             12|           1.87|             1508|\n",
      "| 206247|              6|          1.722|              331|\n",
      "| 269088|             12|          1.687|              310|\n",
      "+-------+---------------+---------------+-----------------+\n",
      "only showing top 20 rows\n",
      "\n",
      "CPU times: user 905 µs, sys: 5.44 ms, total: 6.34 ms\n",
      "Wall time: 11.7 s\n"
     ]
    }
   ],
   "source": [
    "%%time\n",
    "spark.sql(\"select user_id, max(request_cnt) as max_request_cnt, \"\n",
    "          \"round(avg(request_cnt), 3) as avg_request_cnt, count(request_cnt)as count_request_cnt \"\n",
    "          \"from mts group by user_id\").show(20)"
   ]
  },
  {
   "cell_type": "code",
   "execution_count": 8,
   "id": "3d197fba-84e7-495d-84be-1b48167e0678",
   "metadata": {
    "tags": []
   },
   "outputs": [
    {
     "name": "stdout",
     "output_type": "stream",
     "text": [
      "+-------+---------------+---------------+-----------------+\n",
      "|user_id|max_request_cnt|avg_request_cnt|count_request_cnt|\n",
      "+-------+---------------+---------------+-----------------+\n",
      "| 366198|              6|          2.297|              249|\n",
      "| 166581|              8|          1.742|              163|\n",
      "| 158464|              2|          1.091|               11|\n",
      "|  97699|              5|          1.552|               67|\n",
      "|  79418|              4|           1.25|               12|\n",
      "| 324572|              2|          1.088|               34|\n",
      "|  38510|              4|           1.38|               92|\n",
      "| 102613|              1|            1.0|                4|\n",
      "| 266206|              2|          1.025|               40|\n",
      "| 299953|              1|            1.0|               13|\n",
      "| 134319|              2|          1.214|               14|\n",
      "| 116139|              5|           1.47|              181|\n",
      "| 152419|              6|          2.135|              251|\n",
      "| 296974|              6|          1.921|              139|\n",
      "| 348263|              4|          1.386|              210|\n",
      "| 376818|              4|          1.337|              196|\n",
      "| 311479|              2|            1.5|                2|\n",
      "| 206247|              1|            1.0|               25|\n",
      "| 114346|              3|          2.143|                7|\n",
      "| 407721|              2|          1.195|               41|\n",
      "+-------+---------------+---------------+-----------------+\n",
      "only showing top 20 rows\n",
      "\n"
     ]
    }
   ],
   "source": [
    "%%time\n",
    "# Посчитаем агрегирующие функции по request_cnt для части суток ночь\n",
    "spark.sql(\"select user_id, max(request_cnt) as max_night_request_cnt, \"\n",
    "          \"round(avg(request_cnt), 3) as avg_night_request_cnt, count(request_cnt)as count_night_request_cnt \"\n",
    "          \"from mts where part_of_day = 'night' group by user_id\").show(20)"
   ]
  },
  {
   "cell_type": "code",
   "execution_count": 10,
   "id": "16d985b5-066c-45f0-8425-30990ef8d1a4",
   "metadata": {
    "tags": []
   },
   "outputs": [
    {
     "name": "stdout",
     "output_type": "stream",
     "text": [
      "+-----------+\n",
      "|part_of_day|\n",
      "+-----------+\n",
      "|        day|\n",
      "|      night|\n",
      "|    morning|\n",
      "|    evening|\n",
      "+-----------+\n",
      "\n"
     ]
    }
   ],
   "source": [
    "spark.sql(\"select distinct part_of_day from mts\").show(4)"
   ]
  },
  {
   "cell_type": "code",
   "execution_count": 11,
   "id": "dafa385f-b343-4408-92e3-78e5823ed620",
   "metadata": {
    "tags": []
   },
   "outputs": [
    {
     "name": "stdout",
     "output_type": "stream",
     "text": [
      "+-------+-------------------+-------------------+---------------------+\n",
      "|user_id|max_day_request_cnt|avg_day_request_cnt|count_day_request_cnt|\n",
      "+-------+-------------------+-------------------+---------------------+\n",
      "| 366198|                  6|               2.43|                  660|\n",
      "| 166581|                 10|              2.233|                  339|\n",
      "| 414978|                  4|              1.556|                   36|\n",
      "| 158464|                  5|              1.621|                  232|\n",
      "|  97699|                  6|              1.763|                  295|\n",
      "|  79418|                  6|              1.909|                  309|\n",
      "| 324572|                  5|              1.891|                  476|\n",
      "|  38510|                  6|              1.737|                  167|\n",
      "| 102613|                  4|              1.245|                   49|\n",
      "| 266206|                  4|              1.321|                   78|\n",
      "| 299953|                  6|              1.391|                  184|\n",
      "| 134319|                  4|              1.543|                  105|\n",
      "| 116139|                  6|              1.658|                  442|\n",
      "| 152419|                  6|              1.809|                  701|\n",
      "| 296974|                  6|              1.938|                  550|\n",
      "| 348263|                  6|              1.726|                 1594|\n",
      "| 376818|                  6|              1.644|                  104|\n",
      "| 311479|                 12|              2.014|                  804|\n",
      "| 206247|                  5|              1.822|                  146|\n",
      "| 269088|                 12|              1.895|                  181|\n",
      "+-------+-------------------+-------------------+---------------------+\n",
      "only showing top 20 rows\n",
      "\n"
     ]
    }
   ],
   "source": [
    "%%time\n",
    "# Посчитаем агрегирующие функции по request_cnt для части суток день\n",
    "spark.sql(\"select user_id, max(request_cnt) as max_day_request_cnt, \"\n",
    "          \"round(avg(request_cnt), 3) as avg_day_request_cnt, count(request_cnt)as count_day_request_cnt \"\n",
    "          \"from mts where part_of_day = 'day' group by user_id\").show(20)"
   ]
  },
  {
   "cell_type": "code",
   "execution_count": 12,
   "id": "986cac6c-497a-4a02-a6b0-59946b7c4c2f",
   "metadata": {
    "tags": []
   },
   "outputs": [
    {
     "name": "stdout",
     "output_type": "stream",
     "text": [
      "+-------+-----------------------+-----------------------+-------------------------+\n",
      "|user_id|max_morning_request_cnt|avg_morning_request_cnt|count_morning_request_cnt|\n",
      "+-------+-----------------------+-----------------------+-------------------------+\n",
      "| 366198|                      6|                  2.252|                      330|\n",
      "| 166581|                      8|                  1.845|                      277|\n",
      "| 414978|                      1|                    1.0|                       20|\n",
      "| 158464|                      6|                  1.742|                      476|\n",
      "|  97699|                      6|                  1.528|                      373|\n",
      "|  79418|                      5|                  1.429|                      326|\n",
      "| 324572|                      6|                  1.872|                      516|\n",
      "|  38510|                      6|                  1.646|                      161|\n",
      "| 102613|                      4|                  1.526|                       19|\n",
      "| 266206|                      5|                  1.372|                       43|\n",
      "| 299953|                      6|                  1.388|                      178|\n",
      "| 134319|                      4|                  1.765|                       98|\n",
      "| 116139|                      4|                   1.57|                      358|\n",
      "| 152419|                      6|                  1.672|                      607|\n",
      "| 296974|                      6|                  1.841|                      352|\n",
      "| 348263|                      6|                  1.527|                     1757|\n",
      "| 376818|                      5|                  1.299|                      231|\n",
      "| 311479|                      8|                  1.796|                      613|\n",
      "| 206247|                      4|                   1.62|                       71|\n",
      "| 269088|                      4|                  1.425|                      120|\n",
      "+-------+-----------------------+-----------------------+-------------------------+\n",
      "only showing top 20 rows\n",
      "\n"
     ]
    }
   ],
   "source": [
    "%%time\n",
    "# Посчитаем агрегирующие функции по request_cnt для части суток утро\n",
    "spark.sql(\"select user_id, max(request_cnt) as max_morning_request_cnt, \"\n",
    "          \"round(avg(request_cnt), 3) as avg_morning_request_cnt, count(request_cnt)as count_morning_request_cnt \"\n",
    "          \"from mts where part_of_day = 'morning' group by user_id\").show(20)"
   ]
  },
  {
   "cell_type": "code",
   "execution_count": 14,
   "id": "a797bb44-2bc1-4b8c-9d57-1d31c7413aaa",
   "metadata": {
    "tags": []
   },
   "outputs": [
    {
     "name": "stdout",
     "output_type": "stream",
     "text": [
      "+-------+-----------------------+-----------------------+-------------------------+\n",
      "|user_id|max_evening_request_cnt|avg_evening_request_cnt|count_evening_request_cnt|\n",
      "+-------+-----------------------+-----------------------+-------------------------+\n",
      "| 366198|                      6|                  2.346|                      778|\n",
      "| 166581|                      8|                  1.502|                      645|\n",
      "| 414978|                      1|                    1.0|                        1|\n",
      "| 158464|                      4|                  1.327|                      159|\n",
      "|  97699|                      5|                   1.83|                      247|\n",
      "|  79418|                      3|                  1.182|                      143|\n",
      "| 324572|                      4|                  1.428|                      355|\n",
      "|  38510|                      6|                  1.728|                      173|\n",
      "| 102613|                      2|                  1.038|                       26|\n",
      "| 266206|                      4|                  1.333|                       93|\n",
      "| 299953|                      2|                  1.095|                       42|\n",
      "| 134319|                      4|                  1.637|                       91|\n",
      "| 116139|                      6|                  1.849|                      498|\n",
      "| 152419|                      6|                  2.077|                      675|\n",
      "| 296974|                      6|                  1.822|                      544|\n",
      "| 348263|                      6|                  1.546|                     1558|\n",
      "| 376818|                      5|                  1.384|                      190|\n",
      "| 311479|                      2|                   1.09|                       89|\n",
      "| 206247|                      6|                  1.843|                       89|\n",
      "| 269088|                      1|                    1.0|                        9|\n",
      "+-------+-----------------------+-----------------------+-------------------------+\n",
      "only showing top 20 rows\n",
      "\n",
      "CPU times: user 4.79 ms, sys: 5.14 ms, total: 9.93 ms\n",
      "Wall time: 16 s\n"
     ]
    }
   ],
   "source": [
    "%%time\n",
    "# Посчитаем агрегирующие функции по request_cnt для части суток вечер\n",
    "spark.sql(\"select user_id, max(request_cnt) as max_evening_request_cnt, \"\n",
    "          \"round(avg(request_cnt), 3) as avg_evening_request_cnt, count(request_cnt)as count_evening_request_cnt \"\n",
    "          \"from mts where part_of_day = 'evening' group by user_id\").show(20)"
   ]
  },
  {
   "cell_type": "code",
   "execution_count": 18,
   "id": "a32e14e8-5821-4b0b-8d9c-445ddd34f542",
   "metadata": {},
   "outputs": [
    {
     "name": "stdout",
     "output_type": "stream",
     "text": [
      "+-------+------------------------+------------------------+------------------------+\n",
      "|user_id|max_sum_date_request_cnt|min_sum_date_request_cnt|avg_sum_date_request_cnt|\n",
      "+-------+------------------------+------------------------+------------------------+\n",
      "|     26|                     152|                      11|                    71.8|\n",
      "|     29|                     163|                       4|                  39.491|\n",
      "|    474|                      52|                       4|                  21.295|\n",
      "|    964|                     218|                       8|                  94.711|\n",
      "|   1677|                      78|                       2|                  23.143|\n",
      "|   1697|                     104|                     104|                   104.0|\n",
      "|   1806|                       4|                       4|                     4.0|\n",
      "|   2214|                     178|                       2|                  48.324|\n",
      "|   2250|                     265|                       4|                 110.577|\n",
      "|   2509|                     285|                       2|                   69.43|\n",
      "|   3091|                      73|                       7|                  28.565|\n",
      "|   4590|                     171|                      17|                  83.919|\n",
      "|   4823|                      93|                       3|                  35.591|\n",
      "|   4894|                      29|                       1|                  10.571|\n",
      "|   5409|                      96|                       1|                  20.077|\n",
      "|   5556|                      31|                       1|                   16.25|\n",
      "|   7225|                     145|                      63|                  100.32|\n",
      "|   7279|                     107|                       2|                  32.293|\n",
      "|   7747|                       7|                       1|                   2.667|\n",
      "|   8075|                      28|                       1|                   7.889|\n",
      "+-------+------------------------+------------------------+------------------------+\n",
      "only showing top 20 rows\n",
      "\n",
      "CPU times: user 7.98 ms, sys: 6.51 ms, total: 14.5 ms\n",
      "Wall time: 43.7 s\n"
     ]
    }
   ],
   "source": [
    "%%time\n",
    "# Посчитаем агрегирующие функции для request_cnt по датам\n",
    "spark.sql(\"select user_id, max(sum_date_request_cnt) as max_sum_date_request_cnt, min(sum_date_request_cnt) as min_sum_date_request_cnt, \"\n",
    "          \"round(avg(sum_date_request_cnt), 3) as avg_sum_date_request_cnt\"\n",
    "          \" from (select user_id, date, sum(request_cnt) as sum_date_request_cnt from mts group by user_id, date) as t1\"\n",
    "          \" group by user_id\").show(20)"
   ]
  },
  {
   "cell_type": "code",
   "execution_count": null,
   "id": "7ad0f92d-b9ce-4077-bab5-53a01ac448cd",
   "metadata": {},
   "outputs": [],
   "source": []
  }
 ],
 "metadata": {
  "kernelspec": {
   "display_name": "Python 3 (ipykernel)",
   "language": "python",
   "name": "python3"
  },
  "language_info": {
   "codemirror_mode": {
    "name": "ipython",
    "version": 3
   },
   "file_extension": ".py",
   "mimetype": "text/x-python",
   "name": "python",
   "nbconvert_exporter": "python",
   "pygments_lexer": "ipython3",
   "version": "3.10.9"
  }
 },
 "nbformat": 4,
 "nbformat_minor": 5
}
