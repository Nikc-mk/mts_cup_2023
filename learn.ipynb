{
 "cells": [
  {
   "cell_type": "code",
   "execution_count": null,
   "metadata": {
    "pycharm": {
     "is_executing": true
    }
   },
   "outputs": [],
   "source": [
    "import warnings\n",
    "warnings.filterwarnings('ignore')\n",
    "import pyarrow.parquet as pq\n",
    "import sklearn.metrics as m\n",
    "from catboost import CatBoostClassifier\n",
    "from sklearn.model_selection import train_test_split\n",
    "import pandas as pd"
   ]
  },
  {
   "cell_type": "code",
   "execution_count": 2,
   "metadata": {},
   "outputs": [
    {
     "name": "stdout",
     "output_type": "stream",
     "text": [
      "1    135332\n",
      "0    128994\n",
      "Name: is_male, dtype: int64\n",
      "['top_1_url_sum_request_cnt', 'top_2_url_sum_request_cnt', 'top_3_url_sum_request_cnt', 'top_4_url_sum_request_cnt', 'top_5_url_sum_request_cnt', 'top_1_url_count_request_cnt', 'top_2_url_count_request_cnt', 'top_3_url_count_request_cnt', 'region_name', 'cpe_model_name']\n",
      "1    135324\n",
      "0    128992\n",
      "Name: is_male, dtype: int64\n"
     ]
    }
   ],
   "source": [
    "SPLIT_SEED = 16\n",
    "DATA_FILE = 'data_out/data_for_learn_parquet_last_1'\n",
    "TARGET_FILE = 'data_in/public_train.pqt'\n",
    "\n",
    "data = pq.read_table(f\"{DATA_FILE}\").to_pandas()\n",
    "\n",
    "\n",
    "data['day_avg_sum_date_request_cnt/avg_sum_date_request_cnt'] = data['day_avg_sum_date_request_cnt'] / data['avg_sum_date_request_cnt']\n",
    "data['night_avg_sum_date_request_cnt/avg_sum_date_request_cnt'] = data['night_avg_sum_date_request_cnt'] / data['avg_sum_date_request_cnt']\n",
    "data['morning_avg_sum_date_request_cnt/avg_sum_date_request_cnt'] = data['morning_avg_sum_date_request_cnt'] / data['avg_sum_date_request_cnt']\n",
    "data['evening_avg_sum_date_request_cnt/avg_sum_date_request_cnt'] = data['evening_avg_sum_date_request_cnt'] / data['avg_sum_date_request_cnt']\n",
    "\n",
    "all_usr_emb = pq.read_table(f\"data_in/sum50_count30_countdate30_regionsumreq30_usr_emb_f_i50.parquet\").to_pandas()\n",
    "data = data.merge(all_usr_emb, how = 'left', on = ['user_id'])\n",
    "\n",
    "data = data.fillna(0)\n",
    "\n",
    "target = pq.read_table(f\"{TARGET_FILE}\").to_pandas()\n",
    "data_t_is_male = target.merge(data, how = 'left', on = ['user_id'])\n",
    "\n",
    "data_t_is_male['is_male'] = data_t_is_male['is_male'].map(str)\n",
    "data_t_is_male = data_t_is_male[data_t_is_male['is_male'] != 'None']\n",
    "data_t_is_male = data_t_is_male[data_t_is_male['is_male'] != 'NA']\n",
    "data_t_is_male['is_male'] = data_t_is_male['is_male'].map(int)\n",
    "print(data_t_is_male['is_male'].value_counts())\n",
    "cat_features = list(data_t_is_male.select_dtypes(['object']).columns)\n",
    "print(cat_features)\n",
    "\n",
    "data_t_is_male = data_t_is_male.loc[~data_t_is_male['user_id'].isin([155670, 327408, 28719, 330397, 273762, 78276, 188466, 220333, 265327, 406073])]\n",
    "# data_t_is_male = data_t_is_male.loc[data_t_is_male['price'] != 0]\n",
    "print(data_t_is_male['is_male'].value_counts())"
   ]
  },
  {
   "cell_type": "code",
   "execution_count": 3,
   "metadata": {},
   "outputs": [
    {
     "data": {
      "application/vnd.jupyter.widget-view+json": {
       "model_id": "e3a803887a26482f9320566539e4dba4",
       "version_major": 2,
       "version_minor": 0
      },
      "text/plain": [
       "MetricVisualizer(layout=Layout(align_self='stretch', height='500px'))"
      ]
     },
     "metadata": {},
     "output_type": "display_data"
    },
    {
     "data": {
      "text/plain": [
       "<catboost.core.CatBoostClassifier at 0x7fe61d925bb0>"
      ]
     },
     "execution_count": 3,
     "metadata": {},
     "output_type": "execute_result"
    }
   ],
   "source": [
    "\n",
    "x_train, x_test, y_train, y_test = train_test_split(\n",
    "    data_t_is_male.drop(['user_id', 'age', 'is_male'], axis = 1), data_t_is_male['is_male'], test_size = 0.2\n",
    "                        , random_state = SPLIT_SEED\n",
    "                        , stratify = data_t_is_male['is_male'])\n",
    "\n",
    "# X = data_t_is_male.drop(['user_id', 'age', 'is_male'], axis = 1)\n",
    "# y = data_t_is_male['is_male']\n",
    "\n",
    "clf_is_male = CatBoostClassifier(thread_count=5\n",
    "                                 , iterations=7000\n",
    "                                 , random_seed=SPLIT_SEED, learning_rate=0.01, early_stopping_rounds=100\n",
    "                                 , eval_metric='AUC'\n",
    "                                 , depth = 8\n",
    "#                                  , max_ctr_complexity = 8\n",
    "                                 , bootstrap_type = 'Bernoulli' # Bayesian, Bernoulli, MVS.\n",
    "                                 , loss_function = 'CrossEntropy'\n",
    "                                 , grow_policy='Depthwise'\n",
    "                                 , min_data_in_leaf = 3)\n",
    "clf_is_male.fit(x_train, y_train, verbose = False, cat_features=cat_features\n",
    "                , plot=True\n",
    "                , eval_set=(x_test, y_test)\n",
    "                )"
   ]
  },
  {
   "cell_type": "code",
   "execution_count": 4,
   "metadata": {},
   "outputs": [
    {
     "name": "stdout",
     "output_type": "stream",
     "text": [
      "GINI по полу 0.700\n"
     ]
    }
   ],
   "source": [
    "print(f'GINI по полу {2 * m.roc_auc_score(y_test, clf_is_male.predict_proba(x_test)[:,1]) - 1:2.3f}')\n",
    "\n",
    "clf_is_male.get_feature_importance(prettified=True).to_csv(f'data_out/clf_is_male_importance.csv'\n",
    "                                                           , index = False, mode='w')"
   ]
  },
  {
   "cell_type": "code",
   "execution_count": 5,
   "metadata": {},
   "outputs": [],
   "source": [
    "clf_is_male.save_model('catboost_clf_is_male.cbm')"
   ]
  },
  {
   "cell_type": "code",
   "execution_count": 6,
   "metadata": {},
   "outputs": [
    {
     "data": {
      "text/html": [
       "<div>\n",
       "<style scoped>\n",
       "    .dataframe tbody tr th:only-of-type {\n",
       "        vertical-align: middle;\n",
       "    }\n",
       "\n",
       "    .dataframe tbody tr th {\n",
       "        vertical-align: top;\n",
       "    }\n",
       "\n",
       "    .dataframe thead th {\n",
       "        text-align: right;\n",
       "    }\n",
       "</style>\n",
       "<table border=\"1\" class=\"dataframe\">\n",
       "  <thead>\n",
       "    <tr style=\"text-align: right;\">\n",
       "      <th></th>\n",
       "      <th>user_id</th>\n",
       "      <th>is_male</th>\n",
       "    </tr>\n",
       "  </thead>\n",
       "  <tbody>\n",
       "    <tr>\n",
       "      <th>221301</th>\n",
       "      <td>221301</td>\n",
       "      <td>1</td>\n",
       "    </tr>\n",
       "    <tr>\n",
       "      <th>31271</th>\n",
       "      <td>31271</td>\n",
       "      <td>1</td>\n",
       "    </tr>\n",
       "    <tr>\n",
       "      <th>211594</th>\n",
       "      <td>211594</td>\n",
       "      <td>1</td>\n",
       "    </tr>\n",
       "    <tr>\n",
       "      <th>253119</th>\n",
       "      <td>253119</td>\n",
       "      <td>0</td>\n",
       "    </tr>\n",
       "    <tr>\n",
       "      <th>192578</th>\n",
       "      <td>192578</td>\n",
       "      <td>1</td>\n",
       "    </tr>\n",
       "  </tbody>\n",
       "</table>\n",
       "</div>"
      ],
      "text/plain": [
       "        user_id  is_male\n",
       "221301   221301        1\n",
       "31271     31271        1\n",
       "211594   211594        1\n",
       "253119   253119        0\n",
       "192578   192578        1"
      ]
     },
     "execution_count": 6,
     "metadata": {},
     "output_type": "execute_result"
    }
   ],
   "source": [
    "submit = pq.read_table('data_in/submit_2.pqt').to_pandas()\n",
    "submit_predict_data = submit.merge(data, how = 'left', on = ['user_id'])\n",
    "submit['is_male'] = clf_is_male.predict(submit_predict_data.drop(['user_id'], axis = 1))\n",
    "submit.to_csv(\"data_in/male_submission.csv\", index = False, mode='w')\n",
    "submit.head(5)"
   ]
  }
 ],
 "metadata": {
  "kernelspec": {
   "display_name": "Python 3 (ipykernel)",
   "language": "python",
   "name": "python3"
  },
  "language_info": {
   "codemirror_mode": {
    "name": "ipython",
    "version": 3
   },
   "file_extension": ".py",
   "mimetype": "text/x-python",
   "name": "python",
   "nbconvert_exporter": "python",
   "pygments_lexer": "ipython3",
   "version": "3.9.16"
  }
 },
 "nbformat": 4,
 "nbformat_minor": 1
}
