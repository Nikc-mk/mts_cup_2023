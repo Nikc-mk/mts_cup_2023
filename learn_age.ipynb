{
 "cells": [
  {
   "cell_type": "code",
   "execution_count": 11,
   "metadata": {
    "pycharm": {
     "is_executing": true
    }
   },
   "outputs": [],
   "source": [
    "import warnings\n",
    "warnings.filterwarnings('ignore')\n",
    "import pyarrow.parquet as pq\n",
    "import bisect\n",
    "import sklearn.metrics as m\n",
    "from catboost import CatBoostClassifier, Pool, cv\n",
    "from sklearn.model_selection import train_test_split\n",
    "import pandas as pd\n",
    "from sklearn.preprocessing import StandardScaler\n",
    "from scipy.stats import boxcox_normmax # попробуем нормализовать pirce"
   ]
  },
  {
   "cell_type": "code",
   "execution_count": 8,
   "metadata": {},
   "outputs": [],
   "source": [
    "SPLIT_SEED = 16\n",
    "DATA_FILE = 'data_out/data_for_learn_parquet_last_1'\n",
    "TARGET_FILE = 'data_in/public_train.pqt'\n",
    "\n",
    "data = pq.read_table(f\"{DATA_FILE}\").to_pandas()\n",
    "\n",
    "\n",
    "data['day_avg_sum_date_request_cnt/avg_sum_date_request_cnt'] = data['day_avg_sum_date_request_cnt'] / data['avg_sum_date_request_cnt']\n",
    "data['night_avg_sum_date_request_cnt/avg_sum_date_request_cnt'] = data['night_avg_sum_date_request_cnt'] / data['avg_sum_date_request_cnt']\n",
    "data['morning_avg_sum_date_request_cnt/avg_sum_date_request_cnt'] = data['morning_avg_sum_date_request_cnt'] / data['avg_sum_date_request_cnt']\n",
    "data['evening_avg_sum_date_request_cnt/avg_sum_date_request_cnt'] = data['evening_avg_sum_date_request_cnt'] / data['avg_sum_date_request_cnt']\n",
    "\n",
    "data = data.fillna(0)\n",
    "\n",
    "all_usr_emb = pq.read_table(f\"data_in/sum50_count30_countdate30_regionsumreq30_usr_emb_f_i50.parquet\").to_pandas()\n",
    "data = data.merge(all_usr_emb, how = 'left', on = ['user_id'])\n",
    "\n",
    "target = pq.read_table(f\"{TARGET_FILE}\").to_pandas()"
   ]
  },
  {
   "cell_type": "code",
   "execution_count": 21,
   "metadata": {},
   "outputs": [
    {
     "name": "stdout",
     "output_type": "stream",
     "text": [
      "2    87270\n",
      "3    77486\n",
      "4    42442\n",
      "1    32641\n",
      "5    23580\n",
      "6     5504\n",
      "Name: age, dtype: int64\n",
      "['top_1_url_sum_request_cnt', 'top_2_url_sum_request_cnt', 'top_3_url_sum_request_cnt', 'top_4_url_sum_request_cnt', 'top_5_url_sum_request_cnt', 'top_1_url_count_request_cnt', 'top_2_url_count_request_cnt', 'top_3_url_count_request_cnt', 'region_name', 'cpe_model_name']\n",
      "2    85482\n",
      "3    75239\n",
      "4    41021\n",
      "1    32183\n",
      "5    22771\n",
      "6     5320\n",
      "Name: age, dtype: int64\n"
     ]
    }
   ],
   "source": [
    "def age_bucket(x):\n",
    "    return bisect.bisect_right([19,26,36,46,56,66], x)\n",
    "\n",
    "data_t_age = target.merge(data, how = 'left', on = ['user_id'])\n",
    "data_t_age['age'] = data_t_age['age'].map(str)\n",
    "data_t_age = data_t_age[data_t_age['age'] != 'None']\n",
    "data_t_age = data_t_age[data_t_age['age'] != 'NA']\n",
    "data_t_age['age'] = data_t_age['age'].map(float)\n",
    "data_t_age['age'] = data_t_age['age'].map(age_bucket)\n",
    "data_t_age = data_t_age[data_t_age['age'] != 0]\n",
    "print(data_t_age['age'].value_counts())\n",
    "cat_features = list(data_t_age.drop('is_male', axis = 1).select_dtypes(['object']).columns)\n",
    "print(cat_features)\n",
    "data_t_age = data_t_age.loc[~data_t_age['user_id'].isin([155670, 327408, 28719, 330397, 273762, 78276, 188466, 220333, 265327, 406073])]\n",
    "data_t_age = data_t_age.loc[data_t_age['price'] != 0]\n",
    "print(data_t_age['age'].value_counts())"
   ]
  },
  {
   "cell_type": "code",
   "execution_count": 23,
   "metadata": {},
   "outputs": [],
   "source": [
    "data_t_age['price'] = boxcox_normmax(data_t_age['price'])"
   ]
  },
  {
   "cell_type": "code",
   "execution_count": 24,
   "metadata": {},
   "outputs": [],
   "source": [
    "# X = data_t_age.drop(['user_id', 'age', 'is_male'], axis = 1)\n",
    "# y = data_t_age['age']\n",
    "\n",
    "x_train, x_test, y_train, y_test = train_test_split(\n",
    "    data_t_age.drop(['user_id', 'age', 'is_male'], axis = 1)\n",
    "        , data_t_age['age'], test_size = 0.25, random_state = SPLIT_SEED, stratify = data_t_age['age'])"
   ]
  },
  {
   "cell_type": "code",
   "execution_count": 5,
   "metadata": {
    "collapsed": true
   },
   "outputs": [
    {
     "ename": "CatBoostError",
     "evalue": "Bad value for num_feature[non_default_doc_idx=0,feature_idx=27]=\"i.ytimg.com\": Cannot convert 'b'i.ytimg.com'' to float",
     "output_type": "error",
     "traceback": [
      "\u001B[0;31m---------------------------------------------------------------------------\u001B[0m",
      "\u001B[0;31mTypeError\u001B[0m                                 Traceback (most recent call last)",
      "File \u001B[0;32m_catboost.pyx:2275\u001B[0m, in \u001B[0;36m_catboost.get_float_feature\u001B[0;34m()\u001B[0m\n",
      "File \u001B[0;32m_catboost.pyx:1128\u001B[0m, in \u001B[0;36m_catboost._FloatOrNan\u001B[0;34m()\u001B[0m\n",
      "File \u001B[0;32m_catboost.pyx:949\u001B[0m, in \u001B[0;36m_catboost._FloatOrNanFromString\u001B[0;34m()\u001B[0m\n",
      "\u001B[0;31mTypeError\u001B[0m: Cannot convert 'b'i.ytimg.com'' to float",
      "\nDuring handling of the above exception, another exception occurred:\n",
      "\u001B[0;31mCatBoostError\u001B[0m                             Traceback (most recent call last)",
      "Cell \u001B[0;32mIn[5], line 13\u001B[0m\n\u001B[1;32m      1\u001B[0m params \u001B[38;5;241m=\u001B[39m {\n\u001B[1;32m      2\u001B[0m     \u001B[38;5;124m\"\u001B[39m\u001B[38;5;124mthread_count\u001B[39m\u001B[38;5;124m\"\u001B[39m : \u001B[38;5;241m7\u001B[39m,\n\u001B[1;32m      3\u001B[0m     \u001B[38;5;124m'\u001B[39m\u001B[38;5;124mloss_function\u001B[39m\u001B[38;5;124m'\u001B[39m: \u001B[38;5;124m'\u001B[39m\u001B[38;5;124mMultiClassOneVsAll\u001B[39m\u001B[38;5;124m'\u001B[39m,\n\u001B[0;32m   (...)\u001B[0m\n\u001B[1;32m      8\u001B[0m     \u001B[38;5;124m'\u001B[39m\u001B[38;5;124mearly_stopping_rounds\u001B[39m\u001B[38;5;124m'\u001B[39m : \u001B[38;5;241m40\u001B[39m\n\u001B[1;32m      9\u001B[0m }\n\u001B[1;32m     11\u001B[0m cv_data \u001B[38;5;241m=\u001B[39m cv(\n\u001B[1;32m     12\u001B[0m     params\u001B[38;5;241m=\u001B[39mparams,\n\u001B[0;32m---> 13\u001B[0m     pool\u001B[38;5;241m=\u001B[39m\u001B[43mPool\u001B[49m\u001B[43m(\u001B[49m\u001B[43mX\u001B[49m\u001B[43m,\u001B[49m\u001B[43m \u001B[49m\u001B[43mlabel\u001B[49m\u001B[38;5;241;43m=\u001B[39;49m\u001B[43my\u001B[49m\u001B[43m)\u001B[49m\n\u001B[1;32m     14\u001B[0m     , cat_features\u001B[38;5;241m=\u001B[39mcat_features\n\u001B[1;32m     15\u001B[0m     , fold_count \u001B[38;5;241m=\u001B[39m \u001B[38;5;241m4\u001B[39m, \u001B[38;5;66;03m# Разбивка выборки на 4 кусочков\u001B[39;00m\n\u001B[1;32m     16\u001B[0m     shuffle\u001B[38;5;241m=\u001B[39m\u001B[38;5;28;01mTrue\u001B[39;00m, \u001B[38;5;66;03m# Перемешаем наши данные\u001B[39;00m\n\u001B[1;32m     17\u001B[0m     partition_random_seed\u001B[38;5;241m=\u001B[39m\u001B[38;5;241m0\u001B[39m,\n\u001B[1;32m     18\u001B[0m     plot\u001B[38;5;241m=\u001B[39m\u001B[38;5;28;01mTrue\u001B[39;00m, \u001B[38;5;66;03m# Никуда без визуализатора\u001B[39;00m\n\u001B[1;32m     19\u001B[0m     stratified\u001B[38;5;241m=\u001B[39m\u001B[38;5;28;01mTrue\u001B[39;00m,\n\u001B[1;32m     20\u001B[0m     verbose\u001B[38;5;241m=\u001B[39m\u001B[38;5;28;01mFalse\u001B[39;00m\n\u001B[1;32m     21\u001B[0m )\n",
      "File \u001B[0;32m~/anaconda3/envs/mts_cup/lib/python3.9/site-packages/catboost/core.py:790\u001B[0m, in \u001B[0;36mPool.__init__\u001B[0;34m(self, data, label, cat_features, text_features, embedding_features, embedding_features_data, column_description, pairs, delimiter, has_header, ignore_csv_quoting, weight, group_id, group_weight, subgroup_id, pairs_weight, baseline, timestamp, feature_names, feature_tags, thread_count, log_cout, log_cerr)\u001B[0m\n\u001B[1;32m    784\u001B[0m         \u001B[38;5;28;01mif\u001B[39;00m \u001B[38;5;28misinstance\u001B[39m(feature_names, PATH_TYPES):\n\u001B[1;32m    785\u001B[0m             \u001B[38;5;28;01mraise\u001B[39;00m CatBoostError(\n\u001B[1;32m    786\u001B[0m                 \u001B[38;5;124m\"\u001B[39m\u001B[38;5;124mfeature_names must be None or have non-string type when the pool is created from \u001B[39m\u001B[38;5;124m\"\u001B[39m\n\u001B[1;32m    787\u001B[0m                 \u001B[38;5;124m\"\u001B[39m\u001B[38;5;124mpython objects.\u001B[39m\u001B[38;5;124m\"\u001B[39m\n\u001B[1;32m    788\u001B[0m             )\n\u001B[0;32m--> 790\u001B[0m         \u001B[38;5;28;43mself\u001B[39;49m\u001B[38;5;241;43m.\u001B[39;49m\u001B[43m_init\u001B[49m\u001B[43m(\u001B[49m\u001B[43mdata\u001B[49m\u001B[43m,\u001B[49m\u001B[43m \u001B[49m\u001B[43mlabel\u001B[49m\u001B[43m,\u001B[49m\u001B[43m \u001B[49m\u001B[43mcat_features\u001B[49m\u001B[43m,\u001B[49m\u001B[43m \u001B[49m\u001B[43mtext_features\u001B[49m\u001B[43m,\u001B[49m\u001B[43m \u001B[49m\u001B[43membedding_features\u001B[49m\u001B[43m,\u001B[49m\u001B[43m \u001B[49m\u001B[43membedding_features_data\u001B[49m\u001B[43m,\u001B[49m\u001B[43m \u001B[49m\u001B[43mpairs\u001B[49m\u001B[43m,\u001B[49m\u001B[43m \u001B[49m\u001B[43mweight\u001B[49m\u001B[43m,\u001B[49m\n\u001B[1;32m    791\u001B[0m \u001B[43m                   \u001B[49m\u001B[43mgroup_id\u001B[49m\u001B[43m,\u001B[49m\u001B[43m \u001B[49m\u001B[43mgroup_weight\u001B[49m\u001B[43m,\u001B[49m\u001B[43m \u001B[49m\u001B[43msubgroup_id\u001B[49m\u001B[43m,\u001B[49m\u001B[43m \u001B[49m\u001B[43mpairs_weight\u001B[49m\u001B[43m,\u001B[49m\u001B[43m \u001B[49m\u001B[43mbaseline\u001B[49m\u001B[43m,\u001B[49m\u001B[43m \u001B[49m\u001B[43mtimestamp\u001B[49m\u001B[43m,\u001B[49m\u001B[43m \u001B[49m\u001B[43mfeature_names\u001B[49m\u001B[43m,\u001B[49m\u001B[43m \u001B[49m\u001B[43mfeature_tags\u001B[49m\u001B[43m,\u001B[49m\u001B[43m \u001B[49m\u001B[43mthread_count\u001B[49m\u001B[43m)\u001B[49m\n\u001B[1;32m    792\u001B[0m \u001B[38;5;28msuper\u001B[39m(Pool, \u001B[38;5;28mself\u001B[39m)\u001B[38;5;241m.\u001B[39m\u001B[38;5;21m__init__\u001B[39m()\n",
      "File \u001B[0;32m~/anaconda3/envs/mts_cup/lib/python3.9/site-packages/catboost/core.py:1411\u001B[0m, in \u001B[0;36mPool._init\u001B[0;34m(self, data, label, cat_features, text_features, embedding_features, embedding_features_data, pairs, weight, group_id, group_weight, subgroup_id, pairs_weight, baseline, timestamp, feature_names, feature_tags, thread_count)\u001B[0m\n\u001B[1;32m   1409\u001B[0m \u001B[38;5;28;01mif\u001B[39;00m feature_tags \u001B[38;5;129;01mis\u001B[39;00m \u001B[38;5;129;01mnot\u001B[39;00m \u001B[38;5;28;01mNone\u001B[39;00m:\n\u001B[1;32m   1410\u001B[0m     feature_tags \u001B[38;5;241m=\u001B[39m \u001B[38;5;28mself\u001B[39m\u001B[38;5;241m.\u001B[39m_check_transform_tags(feature_tags, feature_names)\n\u001B[0;32m-> 1411\u001B[0m \u001B[38;5;28;43mself\u001B[39;49m\u001B[38;5;241;43m.\u001B[39;49m\u001B[43m_init_pool\u001B[49m\u001B[43m(\u001B[49m\u001B[43mdata\u001B[49m\u001B[43m,\u001B[49m\u001B[43m \u001B[49m\u001B[43mlabel\u001B[49m\u001B[43m,\u001B[49m\u001B[43m \u001B[49m\u001B[43mcat_features\u001B[49m\u001B[43m,\u001B[49m\u001B[43m \u001B[49m\u001B[43mtext_features\u001B[49m\u001B[43m,\u001B[49m\u001B[43m \u001B[49m\u001B[43membedding_features\u001B[49m\u001B[43m,\u001B[49m\u001B[43m \u001B[49m\u001B[43membedding_features_data\u001B[49m\u001B[43m,\u001B[49m\u001B[43m \u001B[49m\u001B[43mpairs\u001B[49m\u001B[43m,\u001B[49m\u001B[43m \u001B[49m\u001B[43mweight\u001B[49m\u001B[43m,\u001B[49m\n\u001B[1;32m   1412\u001B[0m \u001B[43m                \u001B[49m\u001B[43mgroup_id\u001B[49m\u001B[43m,\u001B[49m\u001B[43m \u001B[49m\u001B[43mgroup_weight\u001B[49m\u001B[43m,\u001B[49m\u001B[43m \u001B[49m\u001B[43msubgroup_id\u001B[49m\u001B[43m,\u001B[49m\u001B[43m \u001B[49m\u001B[43mpairs_weight\u001B[49m\u001B[43m,\u001B[49m\u001B[43m \u001B[49m\u001B[43mbaseline\u001B[49m\u001B[43m,\u001B[49m\u001B[43m \u001B[49m\u001B[43mtimestamp\u001B[49m\u001B[43m,\u001B[49m\u001B[43m \u001B[49m\u001B[43mfeature_names\u001B[49m\u001B[43m,\u001B[49m\u001B[43m \u001B[49m\u001B[43mfeature_tags\u001B[49m\u001B[43m,\u001B[49m\u001B[43m \u001B[49m\u001B[43mthread_count\u001B[49m\u001B[43m)\u001B[49m\n",
      "File \u001B[0;32m_catboost.pyx:3941\u001B[0m, in \u001B[0;36m_catboost._PoolBase._init_pool\u001B[0;34m()\u001B[0m\n",
      "File \u001B[0;32m_catboost.pyx:3991\u001B[0m, in \u001B[0;36m_catboost._PoolBase._init_pool\u001B[0;34m()\u001B[0m\n",
      "File \u001B[0;32m_catboost.pyx:3807\u001B[0m, in \u001B[0;36m_catboost._PoolBase._init_features_order_layout_pool\u001B[0;34m()\u001B[0m\n",
      "File \u001B[0;32m_catboost.pyx:2775\u001B[0m, in \u001B[0;36m_catboost._set_features_order_data_pd_data_frame\u001B[0;34m()\u001B[0m\n",
      "File \u001B[0;32m_catboost.pyx:2316\u001B[0m, in \u001B[0;36m_catboost.create_num_factor_data\u001B[0;34m()\u001B[0m\n",
      "File \u001B[0;32m_catboost.pyx:2277\u001B[0m, in \u001B[0;36m_catboost.get_float_feature\u001B[0;34m()\u001B[0m\n",
      "\u001B[0;31mCatBoostError\u001B[0m: Bad value for num_feature[non_default_doc_idx=0,feature_idx=27]=\"i.ytimg.com\": Cannot convert 'b'i.ytimg.com'' to float"
     ]
    }
   ],
   "source": [
    "# params = {\n",
    "#     \"thread_count\" : 7,\n",
    "#     'loss_function': 'MultiClassOneVsAll',\n",
    "#     'iterations': 1000,\n",
    "#     'eval_metric': 'TotalF1',\n",
    "#     'random_seed': SPLIT_SEED,\n",
    "#     'learning_rate': 0.05,\n",
    "#     'early_stopping_rounds' : 40\n",
    "# }\n",
    "\n",
    "# cv_data = cv(\n",
    "#     params=params,\n",
    "#     pool=Pool(X, label=y)\n",
    "#     , cat_features=cat_features\n",
    "#     , fold_count = 4, # Разбивка выборки на 4 кусочков\n",
    "#     shuffle=True, # Перемешаем наши данные\n",
    "#     partition_random_seed=0,\n",
    "#     plot=True, # Никуда без визуализатора\n",
    "#     stratified=True,\n",
    "#     verbose=False\n",
    ")"
   ]
  },
  {
   "cell_type": "code",
   "execution_count": 25,
   "metadata": {},
   "outputs": [],
   "source": [
    "clf = CatBoostClassifier(thread_count = 6\n",
    "                         , iterations = 1000\n",
    "                         , random_seed = SPLIT_SEED, learning_rate = 0.02, early_stopping_rounds = 100\n",
    "                         , eval_metric = 'TotalF1', loss_function = 'MultiClass' # MultiClassOneVsAll\n",
    "                         , classes_count = 6\n",
    "                         , class_names = [1, 2, 3, 4, 5, 6]\n",
    "                         , use_best_model = True\n",
    "#                          , auto_class_weights = 'SqrtBalanced'\n",
    "                         , bootstrap_type = 'Bernoulli'\n",
    "#                          , depth = 8\n",
    "#                          , max_ctr_complexity = 8\n",
    "                         , grow_policy = \"Depthwise\"  # [SymmetricTree,Lossguide,Depthwise], [default=SymmetricTree]\n",
    "                        )"
   ]
  },
  {
   "cell_type": "code",
   "execution_count": 26,
   "metadata": {
    "pycharm": {
     "is_executing": true
    }
   },
   "outputs": [
    {
     "data": {
      "application/vnd.jupyter.widget-view+json": {
       "model_id": "6ab4cd33904b47509e0dc9e2dcfab8b0",
       "version_major": 2,
       "version_minor": 0
      },
      "text/plain": [
       "MetricVisualizer(layout=Layout(align_self='stretch', height='500px'))"
      ]
     },
     "metadata": {},
     "output_type": "display_data"
    },
    {
     "data": {
      "text/plain": [
       "<catboost.core.CatBoostClassifier at 0x7f945172dee0>"
      ]
     },
     "execution_count": 26,
     "metadata": {},
     "output_type": "execute_result"
    }
   ],
   "source": [
    "clf.fit(x_train, y_train, verbose = False, plot=True, cat_features=cat_features, eval_set=(x_test, y_test))"
   ]
  },
  {
   "cell_type": "code",
   "execution_count": 27,
   "metadata": {},
   "outputs": [
    {
     "name": "stdout",
     "output_type": "stream",
     "text": [
      "              precision    recall  f1-score   support\n",
      "\n",
      "       19-25       0.55      0.34      0.42      8046\n",
      "       26-35       0.50      0.64      0.56     21370\n",
      "       36-45       0.41      0.52      0.45     18810\n",
      "       46-55       0.38      0.22      0.28     10255\n",
      "       56-65       0.42      0.21      0.28      5693\n",
      "         66+       0.37      0.02      0.03      1330\n",
      "\n",
      "    accuracy                           0.45     65504\n",
      "   macro avg       0.44      0.32      0.34     65504\n",
      "weighted avg       0.45      0.45      0.43     65504\n",
      "\n"
     ]
    }
   ],
   "source": [
    "print(m.classification_report(y_test, clf.predict(x_test), \\\n",
    "                            target_names = ['19-25','26-35', '36-45', '46-55', '56-65', '66+']))"
   ]
  },
  {
   "cell_type": "code",
   "execution_count": 8,
   "metadata": {},
   "outputs": [],
   "source": [
    "# clf.get_feature_importance(prettified=True).to_csv(f'data_out/clf_age_importance.csv'\n",
    "#                                                            , index = False, mode='w')\n",
    "# clf.save_model('catboost_clf_age.cbm')"
   ]
  },
  {
   "cell_type": "code",
   "execution_count": 28,
   "metadata": {},
   "outputs": [
    {
     "data": {
      "text/html": [
       "<div>\n",
       "<style scoped>\n",
       "    .dataframe tbody tr th:only-of-type {\n",
       "        vertical-align: middle;\n",
       "    }\n",
       "\n",
       "    .dataframe tbody tr th {\n",
       "        vertical-align: top;\n",
       "    }\n",
       "\n",
       "    .dataframe thead th {\n",
       "        text-align: right;\n",
       "    }\n",
       "</style>\n",
       "<table border=\"1\" class=\"dataframe\">\n",
       "  <thead>\n",
       "    <tr style=\"text-align: right;\">\n",
       "      <th></th>\n",
       "      <th>user_id</th>\n",
       "      <th>is_male</th>\n",
       "      <th>age</th>\n",
       "    </tr>\n",
       "  </thead>\n",
       "  <tbody>\n",
       "    <tr>\n",
       "      <th>0</th>\n",
       "      <td>221301</td>\n",
       "      <td>0.995107</td>\n",
       "      <td>2</td>\n",
       "    </tr>\n",
       "    <tr>\n",
       "      <th>1</th>\n",
       "      <td>31271</td>\n",
       "      <td>0.580210</td>\n",
       "      <td>3</td>\n",
       "    </tr>\n",
       "    <tr>\n",
       "      <th>2</th>\n",
       "      <td>211594</td>\n",
       "      <td>0.194880</td>\n",
       "      <td>2</td>\n",
       "    </tr>\n",
       "    <tr>\n",
       "      <th>3</th>\n",
       "      <td>253119</td>\n",
       "      <td>0.392690</td>\n",
       "      <td>2</td>\n",
       "    </tr>\n",
       "    <tr>\n",
       "      <th>4</th>\n",
       "      <td>192578</td>\n",
       "      <td>0.965791</td>\n",
       "      <td>2</td>\n",
       "    </tr>\n",
       "  </tbody>\n",
       "</table>\n",
       "</div>"
      ],
      "text/plain": [
       "   user_id   is_male  age\n",
       "0   221301  0.995107    2\n",
       "1    31271  0.580210    3\n",
       "2   211594  0.194880    2\n",
       "3   253119  0.392690    2\n",
       "4   192578  0.965791    2"
      ]
     },
     "execution_count": 28,
     "metadata": {},
     "output_type": "execute_result"
    }
   ],
   "source": [
    "submit = pq.read_table('data_in/submit_2.pqt').to_pandas()\n",
    "submit_predict_data = submit.merge(data, how = 'left', on = ['user_id'])\n",
    "submit['age'] = clf.predict(submit_predict_data.drop(['user_id'], axis = 1))\n",
    "submit_is_male = pd.read_csv('data_out/male_submission.csv')\n",
    "samp_submit = submit_is_male.merge(submit, how = 'left', on = ['user_id'])\n",
    "samp_submit.head()"
   ]
  },
  {
   "cell_type": "code",
   "execution_count": 30,
   "metadata": {},
   "outputs": [],
   "source": [
    "samp_submit.to_csv(\"data_in/sample_submission.csv\", index = False, mode='w')"
   ]
  },
  {
   "cell_type": "markdown",
   "metadata": {},
   "source": [
    "              precision    recall  f1-score   support\n",
    "\n",
    "       19-25       0.55      0.33      0.42      8160\n",
    "       26-35       0.50      0.63      0.56     21817\n",
    "       36-45       0.41      0.53      0.46     19371\n",
    "       46-55       0.37      0.22      0.28     10610\n",
    "       56-65       0.44      0.21      0.28      5895\n",
    "         66+       0.47      0.02      0.03      1376\n",
    "\n",
    "    accuracy                           0.45     67229\n",
    "   macro avg       0.46      0.32      0.34     67229\n",
    "weighted avg       0.45      0.45      0.43     67229"
   ]
  }
 ],
 "metadata": {
  "kernelspec": {
   "display_name": "Python 3 (ipykernel)",
   "language": "python",
   "name": "python3"
  },
  "language_info": {
   "codemirror_mode": {
    "name": "ipython",
    "version": 3
   },
   "file_extension": ".py",
   "mimetype": "text/x-python",
   "name": "python",
   "nbconvert_exporter": "python",
   "pygments_lexer": "ipython3",
   "version": "3.9.16"
  }
 },
 "nbformat": 4,
 "nbformat_minor": 1
}
