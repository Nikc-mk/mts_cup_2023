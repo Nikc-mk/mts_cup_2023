{
 "cells": [
  {
   "cell_type": "code",
   "execution_count": 3,
   "metadata": {},
   "outputs": [],
   "source": [
    "import warnings\n",
    "warnings.filterwarnings('ignore')\n",
    "import pyarrow.parquet as pq\n",
    "import bisect\n",
    "import sklearn.metrics as m\n",
    "from catboost import CatBoostClassifier, Pool, cv\n",
    "from sklearn.model_selection import train_test_split\n",
    "import pandas as pd"
   ]
  },
  {
   "cell_type": "code",
   "execution_count": 4,
   "metadata": {},
   "outputs": [],
   "source": [
    "SPLIT_SEED = 16\n",
    "DATA_FILE = 'data_out/data_for_learn_parquet_last_1'\n",
    "TARGET_FILE = 'data_in/public_train.pqt'\n",
    "\n",
    "data = pq.read_table(f\"{DATA_FILE}\").to_pandas()\n",
    "\n",
    "\n",
    "data['day_avg_sum_date_request_cnt/avg_sum_date_request_cnt'] = data['day_avg_sum_date_request_cnt'] / data['avg_sum_date_request_cnt']\n",
    "data['night_avg_sum_date_request_cnt/avg_sum_date_request_cnt'] = data['night_avg_sum_date_request_cnt'] / data['avg_sum_date_request_cnt']\n",
    "data['morning_avg_sum_date_request_cnt/avg_sum_date_request_cnt'] = data['morning_avg_sum_date_request_cnt'] / data['avg_sum_date_request_cnt']\n",
    "data['evening_avg_sum_date_request_cnt/avg_sum_date_request_cnt'] = data['evening_avg_sum_date_request_cnt'] / data['avg_sum_date_request_cnt']\n",
    "\n",
    "data = data.fillna(0)\n",
    "\n",
    "all_usr_emb = pq.read_table(f\"data_in/sum50_count30_countdate30_regionsumreq30_usr_emb_f_i50.parquet\").to_pandas()\n",
    "data = data.merge(all_usr_emb, how = 'left', on = ['user_id'])\n",
    "\n",
    "data = data.fillna(0)"
   ]
  },
  {
   "cell_type": "code",
   "execution_count": 5,
   "metadata": {},
   "outputs": [
    {
     "name": "stdout",
     "output_type": "stream",
     "text": [
      "2    87270\n",
      "3    77486\n",
      "4    42442\n",
      "1    32641\n",
      "5    23580\n",
      "6     5504\n",
      "Name: age, dtype: int64\n",
      "['top_1_url_sum_request_cnt', 'top_2_url_sum_request_cnt', 'top_3_url_sum_request_cnt', 'top_4_url_sum_request_cnt', 'top_5_url_sum_request_cnt', 'top_1_url_count_request_cnt', 'top_2_url_count_request_cnt', 'top_3_url_count_request_cnt', 'region_name', 'cpe_model_name']\n",
      "2    85482\n",
      "3    75239\n",
      "4    41021\n",
      "1    32183\n",
      "5    22771\n",
      "6     5320\n",
      "Name: age, dtype: int64\n"
     ]
    }
   ],
   "source": [
    "target = pq.read_table(f\"{TARGET_FILE}\").to_pandas()\n",
    "\n",
    "\n",
    "def age_bucket(x):\n",
    "    return bisect.bisect_right([19,26,36,46,56,66], x)\n",
    "\n",
    "data_t_age = target.merge(data, how = 'left', on = ['user_id'])\n",
    "data_t_age['age'] = data_t_age['age'].map(str)\n",
    "data_t_age = data_t_age[data_t_age['age'] != 'None']\n",
    "data_t_age = data_t_age[data_t_age['age'] != 'NA']\n",
    "data_t_age['age'] = data_t_age['age'].map(float)\n",
    "data_t_age['age'] = data_t_age['age'].map(age_bucket)\n",
    "data_t_age = data_t_age[data_t_age['age'] != 0]\n",
    "print(data_t_age['age'].value_counts())\n",
    "cat_features = list(data_t_age.drop('is_male', axis = 1).select_dtypes(['object']).columns)\n",
    "print(cat_features)\n",
    "data_t_age = data_t_age.loc[~data_t_age['user_id'].isin([155670, 327408, 28719, 330397, 273762, 78276, 188466, 220333, 265327, 406073])]\n",
    "data_t_age = data_t_age.loc[data_t_age['price'] != 0]\n",
    "print(data_t_age['age'].value_counts())"
   ]
  },
  {
   "cell_type": "code",
   "execution_count": 4,
   "metadata": {},
   "outputs": [],
   "source": [
    "# X = data_t_age.drop(['user_id', 'age', 'is_male'], axis = 1)\n",
    "# y = data_t_age['age']\n",
    "\n",
    "x_train, x_test, y_train, y_test = train_test_split(\n",
    "    data_t_age.drop(['user_id', 'age', 'is_male'], axis = 1)\n",
    "        , data_t_age['age'], test_size = 0.25, random_state = SPLIT_SEED, stratify = data_t_age['age'])"
   ]
  },
  {
   "cell_type": "code",
   "execution_count": 37,
   "metadata": {},
   "outputs": [],
   "source": [
    "clf = CatBoostClassifier(thread_count = 6\n",
    "                         , iterations = 5000\n",
    "                         , random_seed = SPLIT_SEED, learning_rate = 0.01, early_stopping_rounds = 100\n",
    "                         , eval_metric = 'TotalF1'\n",
    "                         , loss_function = 'MultiClassOneVsAll' # MultiClassOneVsAll\n",
    "                         , classes_count = 6\n",
    "                         , class_names = [1, 2, 3, 4, 5, 6]\n",
    "                         , use_best_model = True\n",
    "#                          , auto_class_weights = 'SqrtBalanced'\n",
    "#                          , bootstrap_type = 'Bernoulli'\n",
    "#                          , depth = 8\n",
    "#                          , max_ctr_complexity = 8\n",
    "#                          , grow_policy = \"Depthwise\"  # [SymmetricTree,Lossguide,Depthwise], [default=SymmetricTree]\n",
    "                        )"
   ]
  },
  {
   "cell_type": "code",
   "execution_count": 10,
   "metadata": {},
   "outputs": [
    {
     "ename": "ValueError",
     "evalue": "DataFrame.dtypes for data must be int, float or bool.\nDid not expect the data types in the following fields: top_1_url_sum_request_cnt, top_2_url_sum_request_cnt, top_3_url_sum_request_cnt, top_4_url_sum_request_cnt, top_5_url_sum_request_cnt, top_1_url_count_request_cnt, top_2_url_count_request_cnt, top_3_url_count_request_cnt, region_name, cpe_model_name",
     "output_type": "error",
     "traceback": [
      "\u001B[0;31m---------------------------------------------------------------------------\u001B[0m",
      "\u001B[0;31mValueError\u001B[0m                                Traceback (most recent call last)",
      "Cell \u001B[0;32mIn[10], line 1\u001B[0m\n\u001B[0;32m----> 1\u001B[0m \u001B[43mclf\u001B[49m\u001B[38;5;241;43m.\u001B[39;49m\u001B[43mfit\u001B[49m\u001B[43m(\u001B[49m\u001B[43mx_train\u001B[49m\u001B[43m,\u001B[49m\u001B[43m \u001B[49m\u001B[43my_train\u001B[49m\u001B[43m,\u001B[49m\u001B[43m \u001B[49m\u001B[43mverbose\u001B[49m\u001B[43m \u001B[49m\u001B[38;5;241;43m=\u001B[39;49m\u001B[43m \u001B[49m\u001B[38;5;28;43;01mFalse\u001B[39;49;00m\u001B[43m,\u001B[49m\u001B[43m \u001B[49m\u001B[43meval_set\u001B[49m\u001B[38;5;241;43m=\u001B[39;49m\u001B[43m(\u001B[49m\u001B[43mx_test\u001B[49m\u001B[43m,\u001B[49m\u001B[43m \u001B[49m\u001B[43my_test\u001B[49m\u001B[43m)\u001B[49m\u001B[43m,\u001B[49m\u001B[43m \u001B[49m\u001B[43mcategorical_feature\u001B[49m\u001B[38;5;241;43m=\u001B[39;49m\u001B[43mcat_features\u001B[49m\u001B[43m)\u001B[49m\n",
      "File \u001B[0;32m~/anaconda3/envs/mts_cup/lib/python3.9/site-packages/lightgbm/sklearn.py:967\u001B[0m, in \u001B[0;36mLGBMClassifier.fit\u001B[0;34m(self, X, y, sample_weight, init_score, eval_set, eval_names, eval_sample_weight, eval_class_weight, eval_init_score, eval_metric, early_stopping_rounds, verbose, feature_name, categorical_feature, callbacks, init_model)\u001B[0m\n\u001B[1;32m    964\u001B[0m         \u001B[38;5;28;01melse\u001B[39;00m:\n\u001B[1;32m    965\u001B[0m             valid_sets[i] \u001B[38;5;241m=\u001B[39m (valid_x, \u001B[38;5;28mself\u001B[39m\u001B[38;5;241m.\u001B[39m_le\u001B[38;5;241m.\u001B[39mtransform(valid_y))\n\u001B[0;32m--> 967\u001B[0m \u001B[38;5;28;43msuper\u001B[39;49m\u001B[43m(\u001B[49m\u001B[43m)\u001B[49m\u001B[38;5;241;43m.\u001B[39;49m\u001B[43mfit\u001B[49m\u001B[43m(\u001B[49m\u001B[43mX\u001B[49m\u001B[43m,\u001B[49m\u001B[43m \u001B[49m\u001B[43m_y\u001B[49m\u001B[43m,\u001B[49m\u001B[43m \u001B[49m\u001B[43msample_weight\u001B[49m\u001B[38;5;241;43m=\u001B[39;49m\u001B[43msample_weight\u001B[49m\u001B[43m,\u001B[49m\u001B[43m \u001B[49m\u001B[43minit_score\u001B[49m\u001B[38;5;241;43m=\u001B[39;49m\u001B[43minit_score\u001B[49m\u001B[43m,\u001B[49m\u001B[43m \u001B[49m\u001B[43meval_set\u001B[49m\u001B[38;5;241;43m=\u001B[39;49m\u001B[43mvalid_sets\u001B[49m\u001B[43m,\u001B[49m\n\u001B[1;32m    968\u001B[0m \u001B[43m            \u001B[49m\u001B[43meval_names\u001B[49m\u001B[38;5;241;43m=\u001B[39;49m\u001B[43meval_names\u001B[49m\u001B[43m,\u001B[49m\u001B[43m \u001B[49m\u001B[43meval_sample_weight\u001B[49m\u001B[38;5;241;43m=\u001B[39;49m\u001B[43meval_sample_weight\u001B[49m\u001B[43m,\u001B[49m\n\u001B[1;32m    969\u001B[0m \u001B[43m            \u001B[49m\u001B[43meval_class_weight\u001B[49m\u001B[38;5;241;43m=\u001B[39;49m\u001B[43meval_class_weight\u001B[49m\u001B[43m,\u001B[49m\u001B[43m \u001B[49m\u001B[43meval_init_score\u001B[49m\u001B[38;5;241;43m=\u001B[39;49m\u001B[43meval_init_score\u001B[49m\u001B[43m,\u001B[49m\n\u001B[1;32m    970\u001B[0m \u001B[43m            \u001B[49m\u001B[43meval_metric\u001B[49m\u001B[38;5;241;43m=\u001B[39;49m\u001B[43meval_metric\u001B[49m\u001B[43m,\u001B[49m\u001B[43m \u001B[49m\u001B[43mearly_stopping_rounds\u001B[49m\u001B[38;5;241;43m=\u001B[39;49m\u001B[43mearly_stopping_rounds\u001B[49m\u001B[43m,\u001B[49m\n\u001B[1;32m    971\u001B[0m \u001B[43m            \u001B[49m\u001B[43mverbose\u001B[49m\u001B[38;5;241;43m=\u001B[39;49m\u001B[43mverbose\u001B[49m\u001B[43m,\u001B[49m\u001B[43m \u001B[49m\u001B[43mfeature_name\u001B[49m\u001B[38;5;241;43m=\u001B[39;49m\u001B[43mfeature_name\u001B[49m\u001B[43m,\u001B[49m\u001B[43m \u001B[49m\u001B[43mcategorical_feature\u001B[49m\u001B[38;5;241;43m=\u001B[39;49m\u001B[43mcategorical_feature\u001B[49m\u001B[43m,\u001B[49m\n\u001B[1;32m    972\u001B[0m \u001B[43m            \u001B[49m\u001B[43mcallbacks\u001B[49m\u001B[38;5;241;43m=\u001B[39;49m\u001B[43mcallbacks\u001B[49m\u001B[43m,\u001B[49m\u001B[43m \u001B[49m\u001B[43minit_model\u001B[49m\u001B[38;5;241;43m=\u001B[39;49m\u001B[43minit_model\u001B[49m\u001B[43m)\u001B[49m\n\u001B[1;32m    973\u001B[0m \u001B[38;5;28;01mreturn\u001B[39;00m \u001B[38;5;28mself\u001B[39m\n",
      "File \u001B[0;32m~/anaconda3/envs/mts_cup/lib/python3.9/site-packages/lightgbm/sklearn.py:748\u001B[0m, in \u001B[0;36mLGBMModel.fit\u001B[0;34m(self, X, y, sample_weight, init_score, group, eval_set, eval_names, eval_sample_weight, eval_class_weight, eval_init_score, eval_group, eval_metric, early_stopping_rounds, verbose, feature_name, categorical_feature, callbacks, init_model)\u001B[0m\n\u001B[1;32m    745\u001B[0m evals_result \u001B[38;5;241m=\u001B[39m {}\n\u001B[1;32m    746\u001B[0m callbacks\u001B[38;5;241m.\u001B[39mappend(record_evaluation(evals_result))\n\u001B[0;32m--> 748\u001B[0m \u001B[38;5;28mself\u001B[39m\u001B[38;5;241m.\u001B[39m_Booster \u001B[38;5;241m=\u001B[39m \u001B[43mtrain\u001B[49m\u001B[43m(\u001B[49m\n\u001B[1;32m    749\u001B[0m \u001B[43m    \u001B[49m\u001B[43mparams\u001B[49m\u001B[38;5;241;43m=\u001B[39;49m\u001B[43mparams\u001B[49m\u001B[43m,\u001B[49m\n\u001B[1;32m    750\u001B[0m \u001B[43m    \u001B[49m\u001B[43mtrain_set\u001B[49m\u001B[38;5;241;43m=\u001B[39;49m\u001B[43mtrain_set\u001B[49m\u001B[43m,\u001B[49m\n\u001B[1;32m    751\u001B[0m \u001B[43m    \u001B[49m\u001B[43mnum_boost_round\u001B[49m\u001B[38;5;241;43m=\u001B[39;49m\u001B[38;5;28;43mself\u001B[39;49m\u001B[38;5;241;43m.\u001B[39;49m\u001B[43mn_estimators\u001B[49m\u001B[43m,\u001B[49m\n\u001B[1;32m    752\u001B[0m \u001B[43m    \u001B[49m\u001B[43mvalid_sets\u001B[49m\u001B[38;5;241;43m=\u001B[39;49m\u001B[43mvalid_sets\u001B[49m\u001B[43m,\u001B[49m\n\u001B[1;32m    753\u001B[0m \u001B[43m    \u001B[49m\u001B[43mvalid_names\u001B[49m\u001B[38;5;241;43m=\u001B[39;49m\u001B[43meval_names\u001B[49m\u001B[43m,\u001B[49m\n\u001B[1;32m    754\u001B[0m \u001B[43m    \u001B[49m\u001B[43mfobj\u001B[49m\u001B[38;5;241;43m=\u001B[39;49m\u001B[38;5;28;43mself\u001B[39;49m\u001B[38;5;241;43m.\u001B[39;49m\u001B[43m_fobj\u001B[49m\u001B[43m,\u001B[49m\n\u001B[1;32m    755\u001B[0m \u001B[43m    \u001B[49m\u001B[43mfeval\u001B[49m\u001B[38;5;241;43m=\u001B[39;49m\u001B[43meval_metrics_callable\u001B[49m\u001B[43m,\u001B[49m\n\u001B[1;32m    756\u001B[0m \u001B[43m    \u001B[49m\u001B[43minit_model\u001B[49m\u001B[38;5;241;43m=\u001B[39;49m\u001B[43minit_model\u001B[49m\u001B[43m,\u001B[49m\n\u001B[1;32m    757\u001B[0m \u001B[43m    \u001B[49m\u001B[43mfeature_name\u001B[49m\u001B[38;5;241;43m=\u001B[39;49m\u001B[43mfeature_name\u001B[49m\u001B[43m,\u001B[49m\n\u001B[1;32m    758\u001B[0m \u001B[43m    \u001B[49m\u001B[43mcallbacks\u001B[49m\u001B[38;5;241;43m=\u001B[39;49m\u001B[43mcallbacks\u001B[49m\n\u001B[1;32m    759\u001B[0m \u001B[43m\u001B[49m\u001B[43m)\u001B[49m\n\u001B[1;32m    761\u001B[0m \u001B[38;5;28;01mif\u001B[39;00m evals_result:\n\u001B[1;32m    762\u001B[0m     \u001B[38;5;28mself\u001B[39m\u001B[38;5;241m.\u001B[39m_evals_result \u001B[38;5;241m=\u001B[39m evals_result\n",
      "File \u001B[0;32m~/anaconda3/envs/mts_cup/lib/python3.9/site-packages/lightgbm/engine.py:271\u001B[0m, in \u001B[0;36mtrain\u001B[0;34m(params, train_set, num_boost_round, valid_sets, valid_names, fobj, feval, init_model, feature_name, categorical_feature, early_stopping_rounds, evals_result, verbose_eval, learning_rates, keep_training_booster, callbacks)\u001B[0m\n\u001B[1;32m    269\u001B[0m \u001B[38;5;66;03m# construct booster\u001B[39;00m\n\u001B[1;32m    270\u001B[0m \u001B[38;5;28;01mtry\u001B[39;00m:\n\u001B[0;32m--> 271\u001B[0m     booster \u001B[38;5;241m=\u001B[39m \u001B[43mBooster\u001B[49m\u001B[43m(\u001B[49m\u001B[43mparams\u001B[49m\u001B[38;5;241;43m=\u001B[39;49m\u001B[43mparams\u001B[49m\u001B[43m,\u001B[49m\u001B[43m \u001B[49m\u001B[43mtrain_set\u001B[49m\u001B[38;5;241;43m=\u001B[39;49m\u001B[43mtrain_set\u001B[49m\u001B[43m)\u001B[49m\n\u001B[1;32m    272\u001B[0m     \u001B[38;5;28;01mif\u001B[39;00m is_valid_contain_train:\n\u001B[1;32m    273\u001B[0m         booster\u001B[38;5;241m.\u001B[39mset_train_data_name(train_data_name)\n",
      "File \u001B[0;32m~/anaconda3/envs/mts_cup/lib/python3.9/site-packages/lightgbm/basic.py:2605\u001B[0m, in \u001B[0;36mBooster.__init__\u001B[0;34m(self, params, train_set, model_file, model_str, silent)\u001B[0m\n\u001B[1;32m   2598\u001B[0m     \u001B[38;5;28mself\u001B[39m\u001B[38;5;241m.\u001B[39mset_network(\n\u001B[1;32m   2599\u001B[0m         machines\u001B[38;5;241m=\u001B[39mmachines,\n\u001B[1;32m   2600\u001B[0m         local_listen_port\u001B[38;5;241m=\u001B[39mparams[\u001B[38;5;124m\"\u001B[39m\u001B[38;5;124mlocal_listen_port\u001B[39m\u001B[38;5;124m\"\u001B[39m],\n\u001B[1;32m   2601\u001B[0m         listen_time_out\u001B[38;5;241m=\u001B[39mparams\u001B[38;5;241m.\u001B[39mget(\u001B[38;5;124m\"\u001B[39m\u001B[38;5;124mtime_out\u001B[39m\u001B[38;5;124m\"\u001B[39m, \u001B[38;5;241m120\u001B[39m),\n\u001B[1;32m   2602\u001B[0m         num_machines\u001B[38;5;241m=\u001B[39mparams[\u001B[38;5;124m\"\u001B[39m\u001B[38;5;124mnum_machines\u001B[39m\u001B[38;5;124m\"\u001B[39m]\n\u001B[1;32m   2603\u001B[0m     )\n\u001B[1;32m   2604\u001B[0m \u001B[38;5;66;03m# construct booster object\u001B[39;00m\n\u001B[0;32m-> 2605\u001B[0m \u001B[43mtrain_set\u001B[49m\u001B[38;5;241;43m.\u001B[39;49m\u001B[43mconstruct\u001B[49m\u001B[43m(\u001B[49m\u001B[43m)\u001B[49m\n\u001B[1;32m   2606\u001B[0m \u001B[38;5;66;03m# copy the parameters from train_set\u001B[39;00m\n\u001B[1;32m   2607\u001B[0m params\u001B[38;5;241m.\u001B[39mupdate(train_set\u001B[38;5;241m.\u001B[39mget_params())\n",
      "File \u001B[0;32m~/anaconda3/envs/mts_cup/lib/python3.9/site-packages/lightgbm/basic.py:1815\u001B[0m, in \u001B[0;36mDataset.construct\u001B[0;34m(self)\u001B[0m\n\u001B[1;32m   1812\u001B[0m             \u001B[38;5;28mself\u001B[39m\u001B[38;5;241m.\u001B[39m_set_init_score_by_predictor(\u001B[38;5;28mself\u001B[39m\u001B[38;5;241m.\u001B[39m_predictor, \u001B[38;5;28mself\u001B[39m\u001B[38;5;241m.\u001B[39mdata, used_indices)\n\u001B[1;32m   1813\u001B[0m \u001B[38;5;28;01melse\u001B[39;00m:\n\u001B[1;32m   1814\u001B[0m     \u001B[38;5;66;03m# create train\u001B[39;00m\n\u001B[0;32m-> 1815\u001B[0m     \u001B[38;5;28;43mself\u001B[39;49m\u001B[38;5;241;43m.\u001B[39;49m\u001B[43m_lazy_init\u001B[49m\u001B[43m(\u001B[49m\u001B[38;5;28;43mself\u001B[39;49m\u001B[38;5;241;43m.\u001B[39;49m\u001B[43mdata\u001B[49m\u001B[43m,\u001B[49m\u001B[43m \u001B[49m\u001B[43mlabel\u001B[49m\u001B[38;5;241;43m=\u001B[39;49m\u001B[38;5;28;43mself\u001B[39;49m\u001B[38;5;241;43m.\u001B[39;49m\u001B[43mlabel\u001B[49m\u001B[43m,\u001B[49m\n\u001B[1;32m   1816\u001B[0m \u001B[43m                    \u001B[49m\u001B[43mweight\u001B[49m\u001B[38;5;241;43m=\u001B[39;49m\u001B[38;5;28;43mself\u001B[39;49m\u001B[38;5;241;43m.\u001B[39;49m\u001B[43mweight\u001B[49m\u001B[43m,\u001B[49m\u001B[43m \u001B[49m\u001B[43mgroup\u001B[49m\u001B[38;5;241;43m=\u001B[39;49m\u001B[38;5;28;43mself\u001B[39;49m\u001B[38;5;241;43m.\u001B[39;49m\u001B[43mgroup\u001B[49m\u001B[43m,\u001B[49m\n\u001B[1;32m   1817\u001B[0m \u001B[43m                    \u001B[49m\u001B[43minit_score\u001B[49m\u001B[38;5;241;43m=\u001B[39;49m\u001B[38;5;28;43mself\u001B[39;49m\u001B[38;5;241;43m.\u001B[39;49m\u001B[43minit_score\u001B[49m\u001B[43m,\u001B[49m\u001B[43m \u001B[49m\u001B[43mpredictor\u001B[49m\u001B[38;5;241;43m=\u001B[39;49m\u001B[38;5;28;43mself\u001B[39;49m\u001B[38;5;241;43m.\u001B[39;49m\u001B[43m_predictor\u001B[49m\u001B[43m,\u001B[49m\n\u001B[1;32m   1818\u001B[0m \u001B[43m                    \u001B[49m\u001B[43msilent\u001B[49m\u001B[38;5;241;43m=\u001B[39;49m\u001B[38;5;28;43mself\u001B[39;49m\u001B[38;5;241;43m.\u001B[39;49m\u001B[43msilent\u001B[49m\u001B[43m,\u001B[49m\u001B[43m \u001B[49m\u001B[43mfeature_name\u001B[49m\u001B[38;5;241;43m=\u001B[39;49m\u001B[38;5;28;43mself\u001B[39;49m\u001B[38;5;241;43m.\u001B[39;49m\u001B[43mfeature_name\u001B[49m\u001B[43m,\u001B[49m\n\u001B[1;32m   1819\u001B[0m \u001B[43m                    \u001B[49m\u001B[43mcategorical_feature\u001B[49m\u001B[38;5;241;43m=\u001B[39;49m\u001B[38;5;28;43mself\u001B[39;49m\u001B[38;5;241;43m.\u001B[39;49m\u001B[43mcategorical_feature\u001B[49m\u001B[43m,\u001B[49m\u001B[43m \u001B[49m\u001B[43mparams\u001B[49m\u001B[38;5;241;43m=\u001B[39;49m\u001B[38;5;28;43mself\u001B[39;49m\u001B[38;5;241;43m.\u001B[39;49m\u001B[43mparams\u001B[49m\u001B[43m)\u001B[49m\n\u001B[1;32m   1820\u001B[0m \u001B[38;5;28;01mif\u001B[39;00m \u001B[38;5;28mself\u001B[39m\u001B[38;5;241m.\u001B[39mfree_raw_data:\n\u001B[1;32m   1821\u001B[0m     \u001B[38;5;28mself\u001B[39m\u001B[38;5;241m.\u001B[39mdata \u001B[38;5;241m=\u001B[39m \u001B[38;5;28;01mNone\u001B[39;00m\n",
      "File \u001B[0;32m~/anaconda3/envs/mts_cup/lib/python3.9/site-packages/lightgbm/basic.py:1474\u001B[0m, in \u001B[0;36mDataset._lazy_init\u001B[0;34m(self, data, label, reference, weight, group, init_score, predictor, silent, feature_name, categorical_feature, params)\u001B[0m\n\u001B[1;32m   1472\u001B[0m     \u001B[38;5;28mself\u001B[39m\u001B[38;5;241m.\u001B[39mpandas_categorical \u001B[38;5;241m=\u001B[39m reference\u001B[38;5;241m.\u001B[39mpandas_categorical\n\u001B[1;32m   1473\u001B[0m     categorical_feature \u001B[38;5;241m=\u001B[39m reference\u001B[38;5;241m.\u001B[39mcategorical_feature\n\u001B[0;32m-> 1474\u001B[0m data, feature_name, categorical_feature, \u001B[38;5;28mself\u001B[39m\u001B[38;5;241m.\u001B[39mpandas_categorical \u001B[38;5;241m=\u001B[39m \u001B[43m_data_from_pandas\u001B[49m\u001B[43m(\u001B[49m\u001B[43mdata\u001B[49m\u001B[43m,\u001B[49m\n\u001B[1;32m   1475\u001B[0m \u001B[43m                                                                                     \u001B[49m\u001B[43mfeature_name\u001B[49m\u001B[43m,\u001B[49m\n\u001B[1;32m   1476\u001B[0m \u001B[43m                                                                                     \u001B[49m\u001B[43mcategorical_feature\u001B[49m\u001B[43m,\u001B[49m\n\u001B[1;32m   1477\u001B[0m \u001B[43m                                                                                     \u001B[49m\u001B[38;5;28;43mself\u001B[39;49m\u001B[38;5;241;43m.\u001B[39;49m\u001B[43mpandas_categorical\u001B[49m\u001B[43m)\u001B[49m\n\u001B[1;32m   1478\u001B[0m label \u001B[38;5;241m=\u001B[39m _label_from_pandas(label)\n\u001B[1;32m   1480\u001B[0m \u001B[38;5;66;03m# process for args\u001B[39;00m\n",
      "File \u001B[0;32m~/anaconda3/envs/mts_cup/lib/python3.9/site-packages/lightgbm/basic.py:594\u001B[0m, in \u001B[0;36m_data_from_pandas\u001B[0;34m(data, feature_name, categorical_feature, pandas_categorical)\u001B[0m\n\u001B[1;32m    592\u001B[0m \u001B[38;5;28;01mif\u001B[39;00m bad_indices:\n\u001B[1;32m    593\u001B[0m     bad_index_cols_str \u001B[38;5;241m=\u001B[39m \u001B[38;5;124m'\u001B[39m\u001B[38;5;124m, \u001B[39m\u001B[38;5;124m'\u001B[39m\u001B[38;5;241m.\u001B[39mjoin(data\u001B[38;5;241m.\u001B[39mcolumns[bad_indices])\n\u001B[0;32m--> 594\u001B[0m     \u001B[38;5;28;01mraise\u001B[39;00m \u001B[38;5;167;01mValueError\u001B[39;00m(\u001B[38;5;124m\"\u001B[39m\u001B[38;5;124mDataFrame.dtypes for data must be int, float or bool.\u001B[39m\u001B[38;5;130;01m\\n\u001B[39;00m\u001B[38;5;124m\"\u001B[39m\n\u001B[1;32m    595\u001B[0m                      \u001B[38;5;124m\"\u001B[39m\u001B[38;5;124mDid not expect the data types in the following fields: \u001B[39m\u001B[38;5;124m\"\u001B[39m\n\u001B[1;32m    596\u001B[0m                      \u001B[38;5;124mf\u001B[39m\u001B[38;5;124m\"\u001B[39m\u001B[38;5;132;01m{\u001B[39;00mbad_index_cols_str\u001B[38;5;132;01m}\u001B[39;00m\u001B[38;5;124m\"\u001B[39m)\n\u001B[1;32m    597\u001B[0m data \u001B[38;5;241m=\u001B[39m data\u001B[38;5;241m.\u001B[39mvalues\n\u001B[1;32m    598\u001B[0m \u001B[38;5;28;01mif\u001B[39;00m data\u001B[38;5;241m.\u001B[39mdtype \u001B[38;5;241m!=\u001B[39m np\u001B[38;5;241m.\u001B[39mfloat32 \u001B[38;5;129;01mand\u001B[39;00m data\u001B[38;5;241m.\u001B[39mdtype \u001B[38;5;241m!=\u001B[39m np\u001B[38;5;241m.\u001B[39mfloat64:\n",
      "\u001B[0;31mValueError\u001B[0m: DataFrame.dtypes for data must be int, float or bool.\nDid not expect the data types in the following fields: top_1_url_sum_request_cnt, top_2_url_sum_request_cnt, top_3_url_sum_request_cnt, top_4_url_sum_request_cnt, top_5_url_sum_request_cnt, top_1_url_count_request_cnt, top_2_url_count_request_cnt, top_3_url_count_request_cnt, region_name, cpe_model_name"
     ]
    }
   ],
   "source": [
    "clf.fit(x_train, y_train, verbose = False, eval_set=(x_test, y_test), categorical_feature=cat_features)"
   ]
  },
  {
   "cell_type": "code",
   "execution_count": 39,
   "metadata": {},
   "outputs": [
    {
     "name": "stdout",
     "output_type": "stream",
     "text": [
      "              precision    recall  f1-score   support\n",
      "\n",
      "       19-25       0.55      0.32      0.40      8046\n",
      "       26-35       0.49      0.66      0.56     21370\n",
      "       36-45       0.39      0.52      0.45     18810\n",
      "       46-55       0.38      0.18      0.24     10255\n",
      "       56-65       0.43      0.17      0.25      5693\n",
      "         66+       0.80      0.00      0.01      1330\n",
      "\n",
      "    accuracy                           0.45     65504\n",
      "   macro avg       0.51      0.31      0.32     65504\n",
      "weighted avg       0.45      0.45      0.42     65504\n",
      "\n"
     ]
    }
   ],
   "source": [
    "print(m.classification_report(y_test, clf.predict(x_test), \\\n",
    "                            target_names = ['19-25','26-35', '36-45', '46-55', '56-65', '66+']))"
   ]
  },
  {
   "cell_type": "code",
   "execution_count": 40,
   "metadata": {},
   "outputs": [],
   "source": [
    "# clf.get_feature_importance(prettified=True).to_csv(f'data_out/clf_age_importance.csv'\n",
    "#                                                            , index = False, mode='w')\n",
    "clf.save_model('catboost_clf_age_MultiClassOneVsAll_001.cbm')"
   ]
  },
  {
   "cell_type": "code",
   "execution_count": 7,
   "outputs": [
    {
     "data": {
      "text/plain": "<catboost.core.CatBoostClassifier at 0x7efd2ea453d0>"
     },
     "execution_count": 7,
     "metadata": {},
     "output_type": "execute_result"
    }
   ],
   "source": [
    "clf = CatBoostClassifier()\n",
    "clf.load_model(\"catboost_clf_age_MultiClass_Bernoulli_001.cbm\")"
   ],
   "metadata": {
    "collapsed": false
   }
  },
  {
   "cell_type": "code",
   "execution_count": 8,
   "metadata": {},
   "outputs": [
    {
     "data": {
      "text/plain": "   user_id   is_male  age\n0   221301  0.995107    2\n1    31271  0.580210    3\n2   211594  0.194880    2\n3   253119  0.392690    2\n4   192578  0.965791    2",
      "text/html": "<div>\n<style scoped>\n    .dataframe tbody tr th:only-of-type {\n        vertical-align: middle;\n    }\n\n    .dataframe tbody tr th {\n        vertical-align: top;\n    }\n\n    .dataframe thead th {\n        text-align: right;\n    }\n</style>\n<table border=\"1\" class=\"dataframe\">\n  <thead>\n    <tr style=\"text-align: right;\">\n      <th></th>\n      <th>user_id</th>\n      <th>is_male</th>\n      <th>age</th>\n    </tr>\n  </thead>\n  <tbody>\n    <tr>\n      <th>0</th>\n      <td>221301</td>\n      <td>0.995107</td>\n      <td>2</td>\n    </tr>\n    <tr>\n      <th>1</th>\n      <td>31271</td>\n      <td>0.580210</td>\n      <td>3</td>\n    </tr>\n    <tr>\n      <th>2</th>\n      <td>211594</td>\n      <td>0.194880</td>\n      <td>2</td>\n    </tr>\n    <tr>\n      <th>3</th>\n      <td>253119</td>\n      <td>0.392690</td>\n      <td>2</td>\n    </tr>\n    <tr>\n      <th>4</th>\n      <td>192578</td>\n      <td>0.965791</td>\n      <td>2</td>\n    </tr>\n  </tbody>\n</table>\n</div>"
     },
     "execution_count": 8,
     "metadata": {},
     "output_type": "execute_result"
    }
   ],
   "source": [
    "submit = pq.read_table('data_in/submit_2.pqt').to_pandas()\n",
    "submit_predict_data = submit.merge(data, how = 'left', on = ['user_id'])\n",
    "\n",
    "submit['age'] = clf.predict(submit_predict_data.drop(['user_id'], axis = 1))\n",
    "submit_is_male = pd.read_csv('data_out/male_submission.csv')\n",
    "samp_submit = submit_is_male.merge(submit, how = 'left', on = ['user_id'])\n",
    "samp_submit.head()"
   ]
  },
  {
   "cell_type": "code",
   "execution_count": 9,
   "metadata": {},
   "outputs": [],
   "source": [
    "samp_submit.to_csv(\"data_in/sample_submission.csv\", index = False, mode='w')"
   ]
  },
  {
   "cell_type": "code",
   "execution_count": null,
   "outputs": [],
   "source": [],
   "metadata": {
    "collapsed": false
   }
  },
  {
   "cell_type": "code",
   "execution_count": null,
   "outputs": [],
   "source": [],
   "metadata": {
    "collapsed": false
   }
  }
 ],
 "metadata": {
  "kernelspec": {
   "display_name": "Python 3 (ipykernel)",
   "language": "python",
   "name": "python3"
  },
  "language_info": {
   "codemirror_mode": {
    "name": "ipython",
    "version": 3
   },
   "file_extension": ".py",
   "mimetype": "text/x-python",
   "name": "python",
   "nbconvert_exporter": "python",
   "pygments_lexer": "ipython3",
   "version": "3.9.16"
  }
 },
 "nbformat": 4,
 "nbformat_minor": 1
}
