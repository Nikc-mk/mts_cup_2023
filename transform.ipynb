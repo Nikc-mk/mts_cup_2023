{
 "cells": [
  {
   "cell_type": "code",
   "execution_count": 1,
   "id": "fb23396e-9baa-4d7c-8631-f13fa48a1139",
   "metadata": {},
   "outputs": [],
   "source": [
    "import sys\n",
    "import os\n",
    "import warnings\n",
    "warnings.filterwarnings('ignore')\n",
    "import time\n",
    "from pyspark.sql import SparkSession, DataFrameWriter\n",
    "import pyspark.sql.functions as F"
   ]
  },
  {
   "cell_type": "code",
   "execution_count": 3,
   "id": "1ee75748-7a9f-464b-bd2e-9896cff363fb",
   "metadata": {
    "collapsed": true,
    "jupyter": {
     "outputs_hidden": true
    },
    "tags": []
   },
   "outputs": [
    {
     "data": {
      "text/html": [
       "\n",
       "            <div>\n",
       "                <p><b>SparkSession - hive</b></p>\n",
       "                \n",
       "        <div>\n",
       "            <p><b>SparkContext</b></p>\n",
       "\n",
       "            <p><a href=\"http://5a34cbc5025c:4040\">Spark UI</a></p>\n",
       "\n",
       "            <dl>\n",
       "              <dt>Version</dt>\n",
       "                <dd><code>v3.3.1</code></dd>\n",
       "              <dt>Master</dt>\n",
       "                <dd><code>local</code></dd>\n",
       "              <dt>AppName</dt>\n",
       "                <dd><code>extract-transform</code></dd>\n",
       "            </dl>\n",
       "        </div>\n",
       "        \n",
       "            </div>\n",
       "        "
      ],
      "text/plain": [
       "<pyspark.sql.session.SparkSession at 0x7f3c0c1a8be0>"
      ]
     },
     "execution_count": 3,
     "metadata": {},
     "output_type": "execute_result"
    }
   ],
   "source": [
    "# Создание спарк сессии\n",
    "spark = SparkSession.builder.master(\"local\").enableHiveSupport().appName(\"extract-transform\").getOrCreate()\n",
    "spark"
   ]
  },
  {
   "cell_type": "code",
   "execution_count": 4,
   "id": "42e7d4a7-4286-4214-b6bc-12f0bfd17650",
   "metadata": {},
   "outputs": [],
   "source": [
    "# Читаем данные из паркета\n",
    "df = spark.read.format(\"parquet\").load('data_in/competition_data_only_target_pqt/')"
   ]
  },
  {
   "cell_type": "code",
   "execution_count": 5,
   "id": "97ca2c0d-45f0-4b44-810e-8bcb6fc1442d",
   "metadata": {},
   "outputs": [],
   "source": [
    "# Создаем локальное представление датафрейма, как sql таблицы mts\n",
    "df.createOrReplaceTempView(\"mts\")"
   ]
  },
  {
   "cell_type": "code",
   "execution_count": 6,
   "id": "cbe25ce0-1d46-4a7f-a6e6-c1cb6c0f7df6",
   "metadata": {},
   "outputs": [],
   "source": [
    "target = spark.read.format(\"parquet\").load('data_in/public_train.pqt')\n",
    "target.createOrReplaceTempView(\"target\")"
   ]
  },
  {
   "cell_type": "code",
   "execution_count": 7,
   "id": "a7daa176-8d5c-4c82-b61b-313e73d45f0a",
   "metadata": {},
   "outputs": [],
   "source": [
    "data_learn = spark.sql(\"with sub_1 as\"\n",
    "    \" (select user_id, max(request_cnt) as max_request_cnt, round(avg(request_cnt), 3) as avg_request_cnt, count(request_cnt)as count_request_cnt \"\n",
    "    \" from mts group by user_id)\"\n",
    "    \", sub_2 as (select user_id, max(request_cnt) as max_night_request_cnt, \"\n",
    "    \" round(avg(request_cnt), 3) as avg_night_request_cnt, count(request_cnt)as count_night_request_cnt \"\n",
    "    \" from mts where part_of_day = 'night' group by user_id)\"\n",
    "    \", sub_3 as (select user_id, max(request_cnt) as max_day_request_cnt, \"\n",
    "    \" round(avg(request_cnt), 3) as avg_day_request_cnt, count(request_cnt)as count_day_request_cnt \"\n",
    "    \" from mts where part_of_day = 'day' group by user_id)\"\n",
    "    \", sub_4 as (select user_id, max(request_cnt) as max_morning_request_cnt, \"\n",
    "    \" round(avg(request_cnt), 3) as avg_morning_request_cnt, count(request_cnt)as count_morning_request_cnt \"\n",
    "    \" from mts where part_of_day = 'morning' group by user_id)\"\n",
    "    \", sub_5 as (select user_id, max(request_cnt) as max_evening_request_cnt, \"\n",
    "    \" round(avg(request_cnt), 3) as avg_evening_request_cnt, count(request_cnt)as count_evening_request_cnt \"\n",
    "    \" from mts where part_of_day = 'evening' group by user_id)\"\n",
    "    \", sub_6 as (select user_id, max(sum_date_request_cnt) as max_sum_date_request_cnt, min(sum_date_request_cnt) as min_sum_date_request_cnt, \"\n",
    "    \" round(avg(sum_date_request_cnt), 3) as avg_sum_date_request_cnt\"\n",
    "    \" from (select user_id, date, sum(request_cnt) as sum_date_request_cnt from mts group by user_id, date) as t1\"\n",
    "    \" group by user_id)\"\n",
    "    \", sub_7 as (select user_id, max(sum_date_request_cnt) as max_sum_date_day_request_cnt, min(sum_date_request_cnt) as min_sum_date_day_request_cnt, \"\n",
    "    \" round(avg(sum_date_request_cnt), 3) as avg_sum_date_day_request_cnt\"\n",
    "    \" from (select user_id, date, sum(request_cnt) as sum_date_request_cnt from mts where part_of_day = 'day' group by user_id, date) as t2\"\n",
    "    \" group by user_id)\"\n",
    "    \", sub_8 as (select user_id, max(sum_date_request_cnt) as max_sum_date_night_request_cnt, min(sum_date_request_cnt) as min_sum_date_night_request_cnt, \"\n",
    "    \"round(avg(sum_date_request_cnt), 3) as avg_sum_date_night_request_cnt\"\n",
    "    \" from (select user_id, date, sum(request_cnt) as sum_date_request_cnt from mts where part_of_day = 'night' group by user_id, date) as t3\"\n",
    "    \" group by user_id)\"\n",
    "    \", sub_9 as (select user_id, max(sum_date_request_cnt) as max_sum_date_morning_request_cnt, min(sum_date_request_cnt) as min_sum_date_morning_request_cnt, \"\n",
    "    \" round(avg(sum_date_request_cnt), 3) as avg_sum_date_morning_request_cnt\"\n",
    "    \" from (select user_id, date, sum(request_cnt) as sum_date_request_cnt from mts where part_of_day = 'morning' group by user_id, date) as t4\"\n",
    "    \" group by user_id)\"\n",
    "    \", sub_10 as (select user_id, max(sum_date_request_cnt) as max_sum_date_evening_request_cnt, min(sum_date_request_cnt) as min_sum_date_evening_request_cnt, \"\n",
    "    \" round(avg(sum_date_request_cnt), 3) as avg_sum_date_evening_request_cnt\"\n",
    "    \" from (select user_id, date, sum(request_cnt) as sum_date_request_cnt from mts where part_of_day = 'evening' group by user_id, date) as t5\"\n",
    "    \" group by user_id)\"\n",
    "    \", sub_11 as (select user_id, count(date) as count_date\"\n",
    "    \" from (select user_id, date from mts group by user_id, date) as t6 group by user_id)\"\n",
    "    \", sub_12 as (select user_id, count(date) as count_day_date\"\n",
    "    \" from (select user_id, date from mts where part_of_day = 'day' group by user_id, date) as t7 group by user_id)\"\n",
    "    \", sub_13 as (select user_id, count(date) as count_night_date\"\n",
    "    \" from (select user_id, date from mts where part_of_day = 'night' group by user_id, date) as t8 group by user_id)\"\n",
    "    \", sub_14 as (select user_id, count(date) as count_morning_date\"\n",
    "    \" from (select user_id, date from mts where part_of_day = 'morning' group by user_id, date) as t9 group by user_id)\"\n",
    "    \", sub_15 as (select user_id, count(date) as count_evening_date\"\n",
    "    \" from (select user_id, date from mts where part_of_day = 'evening' group by user_id, date) as t10 group by user_id)\"\n",
    "    \", sub_16 as (select user_id, avg(count_part_of_day_date) as avg_count_part_of_day_date,\"\n",
    "    \" max(count_part_of_day_date) as max_count_part_of_day_date, min(count_part_of_day_date) as min_count_part_of_day_date\"\n",
    "    \" from (select user_id, date, count(part_of_day) as count_part_of_day_date\"\n",
    "    \" from (select user_id, date, part_of_day from mts group by user_id, date, part_of_day) as t11\"\n",
    "    \" group by user_id, date) as t12 group by user_id)\"\n",
    "    \", sub_17 as (select user_id, avg(lag_date) as avg_lag_date, max(lag_date) as max_lag_date, min(lag_date) as min_lag_date\"\n",
    "    \" from (select user_id, int(date - lag(date) over (partition by user_id order by date)) as lag_date\"\n",
    "    \" from (select user_id, date from mts group by user_id, date order by user_id, date) as t13) as t14\"\n",
    "    \" group by user_id order by user_id)\"\n",
    "    \", sub_18 as (select user_id, count(region_name) as count_region_name\"\n",
    "    \" from (select user_id, region_name from mts group by user_id, region_name) as t15\"\n",
    "    \" group by user_id order by user_id)\"\n",
    "    \", sub_19 as (select user_id, count(city_name) as count_city_name\"\n",
    "    \" from (select user_id, city_name from mts group by user_id, city_name) as t16\"\n",
    "    \" group by user_id order by user_id)\"    \n",
    "                       \n",
    "    \" select user_id, age, is_male, max_request_cnt, avg_request_cnt, count_request_cnt\"\n",
    "    \" from target left join sub_1 using(user_id)\"\n",
    "    \" left join sub_2 using(user_id)\"\n",
    "    \" left join sub_3 using(user_id)\"\n",
    "    \" left join sub_4 using(user_id)\"                   \n",
    "    \" left join sub_5 using(user_id)\"                   \n",
    "    \" left join sub_6 using(user_id)\"                  \n",
    "    \" left join sub_7 using(user_id)\"                   \n",
    "    \" left join sub_8 using(user_id)\"                  \n",
    "    \" left join sub_9 using(user_id)\"   \n",
    "    \" left join sub_10 using(user_id)\"                  \n",
    "    \" left join sub_11 using(user_id)\"                   \n",
    "    \" left join sub_12 using(user_id)\"                   \n",
    "    \" left join sub_13 using(user_id)\"\n",
    "    \" left join sub_14 using(user_id)\"                   \n",
    "    \" left join sub_15 using(user_id)\"\n",
    "    \" left join sub_16 using(user_id)\"                  \n",
    "    \" left join sub_17 using(user_id)\"\n",
    "    \" left join sub_18 using(user_id)\"                   \n",
    "    \" left join sub_19 using(user_id)\"                   \n",
    "    )"
   ]
  },
  {
   "cell_type": "code",
   "execution_count": 9,
   "id": "ac84e22b-b97c-41bb-870d-5d1ea785904e",
   "metadata": {
    "tags": []
   },
   "outputs": [
    {
     "name": "stdout",
     "output_type": "stream",
     "text": [
      "CPU times: user 28.3 ms, sys: 16.5 ms, total: 44.7 ms\n",
      "Wall time: 3min 28s\n"
     ]
    }
   ],
   "source": [
    "%%time\n",
    "data_learn.write.parquet(path=\"data_out/data_for_learn_parquet_last/\", mode=\"overwrite\")"
   ]
  },
  {
   "cell_type": "code",
   "execution_count": null,
   "id": "ec63d58f-26f3-4519-b669-2bc356e0590c",
   "metadata": {},
   "outputs": [],
   "source": []
  }
 ],
 "metadata": {
  "kernelspec": {
   "display_name": "Python 3 (ipykernel)",
   "language": "python",
   "name": "python3"
  },
  "language_info": {
   "codemirror_mode": {
    "name": "ipython",
    "version": 3
   },
   "file_extension": ".py",
   "mimetype": "text/x-python",
   "name": "python",
   "nbconvert_exporter": "python",
   "pygments_lexer": "ipython3",
   "version": "3.10.9"
  }
 },
 "nbformat": 4,
 "nbformat_minor": 5
}
